{
 "cells": [
  {
   "cell_type": "code",
   "execution_count": 39,
   "id": "07c5c945",
   "metadata": {},
   "outputs": [
    {
     "name": "stdout",
     "output_type": "stream",
     "text": [
      "Masukkan kota anda : a\n",
      "Masukkan kota tujuan anda : z\n",
      "menghitung jarak terpendek untuk asgqga dari a ke z\n",
      "========================================================================\n",
      "jarak tempuh terpendek untuk asgqga dari a ke z adalah :  13 km\n",
      "alur terpendek untuk anda adalah ['a', 'c', 'b', 'd', 'e', 'z']\n",
      "========================================================================\n"
     ]
    }
   ],
   "source": [
    "#variable infinity\n",
    "kotaPertama = input(\"Masukkan kota anda : \")\n",
    "kotaTujuan = input(\"Masukkan kota tujuan anda : \")\n",
    "\n",
    "lokasi = {\n",
    "    'a':{'b':4,'c':2},\n",
    "    'b':{'a':4,'c':1,'d':5},\n",
    "    'c':{'b':1,'d':8,'e':10,'a':2},\n",
    "    'd': {'b':5,'c':8,'e':2,'z':6},\n",
    "    'e':{'c':10,'d':2,'z':3},\n",
    "    'z':{'d':6,'e':3}\n",
    "    }\n",
    "\n",
    "infinity = float(\"infinity\")\n",
    "jarak = {i:infinity for i in lokasi}\n",
    "kota = {i:{} for i in lokasi}\n",
    "jarak[kotaPertama] = 0\n",
    "\n",
    "\n",
    "def find_cheapest_node(jarak,not_cek):\n",
    "    jarakTerpendek = infinity\n",
    "    cheapest = \"\"\n",
    "    for i in jarak :\n",
    "        if i in not_cek and jarak[i] <= jarakTerpendek:\n",
    "            jarakTerpendek = jarak[i]\n",
    "            cheapest = i\n",
    "    return cheapest\n",
    "\n",
    "#algoritma djikstra\n",
    "not_cek = [i for i in jarak]\n",
    "node = find_cheapest_node(jarak,not_cek)\n",
    "while not_cek :\n",
    "    dist = jarak[node]\n",
    "    childDist = lokasi[node]\n",
    "    for i in childDist :\n",
    "        if jarak[i] > dist +childDist[i]:\n",
    "            jarak[i] = dist+childDist[i]\n",
    "            kota[i]=node\n",
    "    not_cek.pop(not_cek.index(node))\n",
    "    node = find_cheapest_node(jarak,not_cek)\n",
    "\n",
    "if jarak[kotaTujuan] < infinity:\n",
    "    alur = [kotaTujuan]\n",
    "    j = 0\n",
    "    while kotaPertama not in alur:\n",
    "        alur.append(kota[alur[j]])\n",
    "        j+=1\n",
    "else:\n",
    "    print('maaf jalur yang anda cari tidak ditemukan')\n",
    "    \n",
    "print('menghitung jarak terpendek untuk',nama,'dari',kotaPertama,'ke',kotaTujuan)\n",
    "print('========================================================================')\n",
    "print('jarak tempuh terpendek untuk',nama,'dari',kotaPertama,'ke',kotaTujuan,'adalah : ',jarak[kotaTujuan],'km')\n",
    "print('alur terpendek untuk anda adalah',alur[::-1])\n",
    "print('========================================================================')\n"
   ]
  },
  {
   "cell_type": "code",
   "execution_count": 35,
   "id": "3b33a1d2",
   "metadata": {},
   "outputs": [
    {
     "name": "stdout",
     "output_type": "stream",
     "text": [
      "{'a': inf, 'b': inf, 'c': inf, 'd': inf, 'e': inf, 'z': inf}\n"
     ]
    }
   ],
   "source": [
    "print({i:infinity for i in lokasi})"
   ]
  }
 ],
 "metadata": {
  "kernelspec": {
   "display_name": "Python 3 (ipykernel)",
   "language": "python",
   "name": "python3"
  },
  "language_info": {
   "codemirror_mode": {
    "name": "ipython",
    "version": 3
   },
   "file_extension": ".py",
   "mimetype": "text/x-python",
   "name": "python",
   "nbconvert_exporter": "python",
   "pygments_lexer": "ipython3",
   "version": "3.9.12"
  }
 },
 "nbformat": 4,
 "nbformat_minor": 5
}
