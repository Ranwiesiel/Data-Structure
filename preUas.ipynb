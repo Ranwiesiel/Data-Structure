{
 "cells": [
  {
   "cell_type": "code",
   "execution_count": 13,
   "id": "3aaf7bf2",
   "metadata": {},
   "outputs": [
    {
     "name": "stdout",
     "output_type": "stream",
     "text": [
      "Posisi Data =  4,3,2,2\n",
      "Jumlah Iterasi =  6\n"
     ]
    }
   ],
   "source": [
    "#SOAL !\n",
    "#2. Buatlah fungsi binary search yang sudah dimodifikasi, sehingga dapat mencari data yang sama dan mengembalikan indeks-indeks dari data yang sama tersebut. Argument atau parameter pada fungsi tersebut berupa:\n",
    "#a. data yang akan dicari\n",
    "#b. list data dari data yang akan dicari\n",
    "#Sedangkan return value dari fungsi ini berupa:\n",
    "#a. indeks-indeks atau posisi dari data yang dicari pada list (jika data ditemukan), dan ‘Data tidak ada’ jika data tidak ditemukan.\n",
    "#b. Jumlah iterasi yang diperlukan selama proses pencarian.\n",
    "\n",
    "def binSearch(listData, data):\n",
    "\tfirst = 0\n",
    "\tlast = len(listData) - 1\n",
    "\tfound = \"\"\n",
    "\titerasi = 0\n",
    "\tmidpoint = int(len(listData)/2)\n",
    "\twhile  iterasi < int(len(listData)/2)+1:\n",
    "\t       if listData[midpoint] < data:\n",
    "\t           \t\t\tif data == listData[midpoint]:\n",
    "\t           \t\t\t\tfound += str(midpoint)\n",
    "\t           \t\t\tmidpoint += 1\n",
    "\t       else:\n",
    "\t           \t\t\tif data == listData[midpoint]:\n",
    "\t           \t\t\t\tfound += str(midpoint)\n",
    "\t           \t\t\tmidpoint -= 1\n",
    "\t       iterasi +=1\n",
    "\t\n",
    "\tif len(found) > 0:\n",
    "\t\treturn([','.join(found),iterasi])\n",
    "\telse:\n",
    "\t    return(['Data tidak ditemukan',iterasi])\n",
    "\t    \n",
    "a=[1,1,5,5,5,8,9,10,12,26]\n",
    "[hasil,iterasi]=binSearch(a,5)\n",
    "print('Posisi Data = ',hasil)\n",
    "print('Jumlah Iterasi = ',iterasi)"
   ]
  },
  {
   "cell_type": "code",
   "execution_count": 23,
   "id": "be3793d6",
   "metadata": {},
   "outputs": [
    {
     "name": "stdout",
     "output_type": "stream",
     "text": [
      "\n",
      "Posisi Data =  [2, 3, 4]\n",
      "Jumlah Iterasi =  3\n"
     ]
    }
   ],
   "source": [
    "# perbaikan di atas\n",
    "def modBinarySearch(listData,data):\n",
    "    first = 0\n",
    "    last = len(listData)-1\n",
    "    found = False\n",
    "    position = []\n",
    "    itr = 0\n",
    "    while first <= last and not found:\n",
    "        itr+=1\n",
    "        midpoint = (first+last)//2\n",
    "        if listData[midpoint]== data:\n",
    "            found = True\n",
    "            position.append(midpoint)\n",
    "            i=1\n",
    "            while listData[midpoint-i] == data:\n",
    "                position.insert(0,midpoint-i)\n",
    "                itr+=1\n",
    "                i+=1\n",
    "            j=1\n",
    "            while listData[midpoint+j] == data:\n",
    "                position.append(midpoint+j)\n",
    "                itr+=1\n",
    "                j+=1        \n",
    "        else:\n",
    "            if data < listData[midpoint]:\n",
    "                last = midpoint-1\n",
    "            else:\n",
    "                first = midpoint+1       \n",
    "    return [position,itr]\n",
    "\n",
    "a=[1,1,5,5,5,8,9,10,12,26]\n",
    "print()\n",
    "[hasil,iterasi]=modBinarySearch(a,5)\n",
    "print('Posisi Data = ',hasil)\n",
    "print('Jumlah Iterasi = ',iterasi)"
   ]
  }
 ],
 "metadata": {
  "kernelspec": {
   "display_name": "Python 3 (ipykernel)",
   "language": "python",
   "name": "python3"
  },
  "language_info": {
   "codemirror_mode": {
    "name": "ipython",
    "version": 3
   },
   "file_extension": ".py",
   "mimetype": "text/x-python",
   "name": "python",
   "nbconvert_exporter": "python",
   "pygments_lexer": "ipython3",
   "version": "3.9.12"
  }
 },
 "nbformat": 4,
 "nbformat_minor": 5
}
