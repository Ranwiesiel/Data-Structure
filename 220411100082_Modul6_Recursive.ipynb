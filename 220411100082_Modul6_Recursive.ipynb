{
 "cells": [
  {
   "cell_type": "markdown",
   "id": "e84b6f4c",
   "metadata": {},
   "source": [
    "## 1\tKonsep\n",
    "1.\tJelaskan secara lengkap mengenai fungsi (Tujuan menggunakan Fungsi, Syntax tanpa parameter, syntax dengan parameter, syntax return value , Contoh masing-masing jenis fungsi tersebut)\n",
    "2.\tJelaskan tentang Fungsi Rekursif (komponen yang harus ada dalam fungsi rekursif, contoh fungsirekursif)\n"
   ]
  },
  {
   "cell_type": "markdown",
   "id": "3a512091",
   "metadata": {},
   "source": [
    "### Konsep_1\n",
    "1. Fungsi adalah sebuah blok kode (dapat diasumsikan variable) yang dapat dipanggil oleh bagian lain dari program untuk melakukan tugas tertentu yang bertujuan untuk membantu dalam mengelompokkan sebuah code/syntax menjadi bagian-bagian tertentu yang memudahkan dalam pengembangan ataupun pemecahan masalah.\n",
    "- Syntax tanpa parameter\n",
    "```\n",
    "def namaFungsi():\n",
    "    syntax_1\n",
    "    syntax_2\n",
    "    ....\n",
    "    syntax_n\n",
    "namaFungsi()\n",
    "```\n",
    "- contoh\n",
    "~~~python\n",
    "def cetakHello():\n",
    "    print(\"Hello\")  \n",
    "cetakHello() \n",
    "~~~\n",
    "- Syntax dengan perameter\n",
    "~~~\n",
    "def namaFun(param):\n",
    "    syntax_1\n",
    "    syntax_2\n",
    "    ....\n",
    "    syntax_n\n",
    "~~~\n",
    "- contoh\n",
    "~~~python\n",
    "def cetakSelamat(nama):\n",
    "    print(\"Selamat Pagi\",nama)\n",
    "cetakSelamat(\"Dody\")\n",
    "~~~\n",
    "- Syntax dengan return value\n",
    "~~~\n",
    "def nameFunction():\n",
    "    syntax_1\n",
    "    ...\n",
    "    syntax_n\n",
    "    return nilai\n",
    "~~~\n",
    "- contoh\n",
    "~~~python\n",
    "def penjumlahan(num1,num2):\n",
    "    return (num1 + num2)\n",
    "penjumlahan(3,7)\n",
    "~~~\n",
    "2. Recursive adalah sebuah konsep pemrogramman dimana suatu fungsi dapat memanggil dirinya sendiri. Recursive digunakan untuk menyelesaikan sebuah persoalan yang dapat dipecahkan dengan cara membagi persoalan menjadi lebih kecil yang lebih mudah diselesaikan.\n",
    "-  Komponen yang harus ada dalam fungsi recursive:\n",
    "1. Base case, kondisi yang digunakan untuk menghentikan recursive, biasanya base case adalah persoalan terkecil atau persoalan paling sederhana yang dapat langsung di pecahkan tanpa perlu recursive. \n",
    "2. sintaks yang dapat merubah state dari permasalahan secara berulang sehingga semakin lama solusi permasalahan menuju base case yang sudah dibuat\n",
    "3. Pemanggilan dirinya sendiri dengan parameter yang lebih sederhana atau lebih kecil sampai mencapai base case\n",
    "\n",
    "- contoh :\n",
    "~~~python\n",
    "def faktorialRecursive(num):\n",
    "        if num == 1:\n",
    "            return 1\n",
    "        else:\n",
    "            return num * faktorialRecursive(num-1)\n",
    "faktorialRecursive(5)\n",
    "~~~\n"
   ]
  },
  {
   "cell_type": "markdown",
   "id": "019abca0",
   "metadata": {},
   "source": [
    "## 2\tImplementasi #1\n",
    "Terdapat suatu deret aritmatika dengan persamaan Un = a + (n− 1)b, dimana Un merupakan suku ke-n, a adalah suku awal, dan b merupakan beda atau selisih antara suku yang berdekatan. Buatlah suatu list berisi data-data yang memenuhi persamaan deret aritmatika tersebut dengan minimal banyaknya anggota adalah 500, dan buatlah fungsi-fungsi berikut ini :\n",
    "1.\tFungsi iteratif untuk menghitung total semua bilangan yang terdapat pada deret aritmatika tersebut\n",
    "2.\tFungsi Rekursif untuk menghitung total semua bilangan yang terdapat pada deret aritmatika tersebut\n"
   ]
  },
  {
   "cell_type": "code",
   "execution_count": 18,
   "id": "3afebc0b",
   "metadata": {},
   "outputs": [
    {
     "name": "stdout",
     "output_type": "stream",
     "text": [
      "List Deret Aritmatika : \n",
      " [3, 7, 11, 15, 19, 23, 27, 31, 35, 39, 43, 47, 51, 55, 59, 63, 67, 71, 75, 79, 83, 87, 91, 95, 99, 103, 107, 111, 115, 119, 123, 127, 131, 135, 139, 143, 147, 151, 155, 159, 163, 167, 171, 175, 179, 183, 187, 191, 195, 199, 203, 207, 211, 215, 219, 223, 227, 231, 235, 239, 243, 247, 251, 255, 259, 263, 267, 271, 275, 279, 283, 287, 291, 295, 299, 303, 307, 311, 315, 319, 323, 327, 331, 335, 339, 343, 347, 351, 355, 359, 363, 367, 371, 375, 379, 383, 387, 391, 395, 399, 403, 407, 411, 415, 419, 423, 427, 431, 435, 439, 443, 447, 451, 455, 459, 463, 467, 471, 475, 479, 483, 487, 491, 495, 499, 503, 507, 511, 515, 519, 523, 527, 531, 535, 539, 543, 547, 551, 555, 559, 563, 567, 571, 575, 579, 583, 587, 591, 595, 599, 603, 607, 611, 615, 619, 623, 627, 631, 635, 639, 643, 647, 651, 655, 659, 663, 667, 671, 675, 679, 683, 687, 691, 695, 699, 703, 707, 711, 715, 719, 723, 727, 731, 735, 739, 743, 747, 751, 755, 759, 763, 767, 771, 775, 779, 783, 787, 791, 795, 799, 803, 807, 811, 815, 819, 823, 827, 831, 835, 839, 843, 847, 851, 855, 859, 863, 867, 871, 875, 879, 883, 887, 891, 895, 899, 903, 907, 911, 915, 919, 923, 927, 931, 935, 939, 943, 947, 951, 955, 959, 963, 967, 971, 975, 979, 983, 987, 991, 995, 999, 1003, 1007, 1011, 1015, 1019, 1023, 1027, 1031, 1035, 1039, 1043, 1047, 1051, 1055, 1059, 1063, 1067, 1071, 1075, 1079, 1083, 1087, 1091, 1095, 1099, 1103, 1107, 1111, 1115, 1119, 1123, 1127, 1131, 1135, 1139, 1143, 1147, 1151, 1155, 1159, 1163, 1167, 1171, 1175, 1179, 1183, 1187, 1191, 1195, 1199, 1203, 1207, 1211, 1215, 1219, 1223, 1227, 1231, 1235, 1239, 1243, 1247, 1251, 1255, 1259, 1263, 1267, 1271, 1275, 1279, 1283, 1287, 1291, 1295, 1299, 1303, 1307, 1311, 1315, 1319, 1323, 1327, 1331, 1335, 1339, 1343, 1347, 1351, 1355, 1359, 1363, 1367, 1371, 1375, 1379, 1383, 1387, 1391, 1395, 1399, 1403, 1407, 1411, 1415, 1419, 1423, 1427, 1431, 1435, 1439, 1443, 1447, 1451, 1455, 1459, 1463, 1467, 1471, 1475, 1479, 1483, 1487, 1491, 1495, 1499, 1503, 1507, 1511, 1515, 1519, 1523, 1527, 1531, 1535, 1539, 1543, 1547, 1551, 1555, 1559, 1563, 1567, 1571, 1575, 1579, 1583, 1587, 1591, 1595, 1599, 1603, 1607, 1611, 1615, 1619, 1623, 1627, 1631, 1635, 1639, 1643, 1647, 1651, 1655, 1659, 1663, 1667, 1671, 1675, 1679, 1683, 1687, 1691, 1695, 1699, 1703, 1707, 1711, 1715, 1719, 1723, 1727, 1731, 1735, 1739, 1743, 1747, 1751, 1755, 1759, 1763, 1767, 1771, 1775, 1779, 1783, 1787, 1791, 1795, 1799, 1803, 1807, 1811, 1815, 1819, 1823, 1827, 1831, 1835, 1839, 1843, 1847, 1851, 1855, 1859, 1863, 1867, 1871, 1875, 1879, 1883, 1887, 1891, 1895, 1899, 1903, 1907, 1911, 1915, 1919, 1923, 1927, 1931, 1935, 1939, 1943, 1947, 1951, 1955, 1959, 1963, 1967, 1971, 1975, 1979, 1983, 1987, 1991, 1995, 1999]\n",
      "\n",
      "Total Deret dengan Iterarif :  500500\n",
      "Total Deret dengan Recursive :  500500\n"
     ]
    }
   ],
   "source": [
    "# 2 Implementasi #1\n",
    "\n",
    "def deretAritmatika(a,b,n):\n",
    "    hasil = []\n",
    "    for i in range(a,a+n*b,b):\n",
    "        hasil.append(i)\n",
    "    return hasil\n",
    "\n",
    "def sumIteratif(listData):\n",
    "    hasil=0\n",
    "    for i in listData:\n",
    "        hasil+=i\n",
    "    return hasil\n",
    "\n",
    "def sumRecursive(listData):\n",
    "    if len(listData) == 1:\n",
    "        return listData[0]\n",
    "    else:\n",
    "        return listData[0] + sumRecursive(listData[1:])\n",
    "\n",
    "deret = deretAritmatika(3,4,500)\n",
    "print('List Deret Aritmatika : \\n',deret)\n",
    "print()\n",
    "jumlahDeret = sumIteratif(deret)\n",
    "print('Total Deret dengan Iterarif : ',jumlahDeret)\n",
    "jumlahDeret2 = sumRecursive(deret)\n",
    "print('Total Deret dengan Recursive : ',jumlahDeret2)"
   ]
  },
  {
   "cell_type": "markdown",
   "id": "91163b9b",
   "metadata": {},
   "source": [
    "## 3\tImplementasi #2\n",
    "Buatlah suatu list yang memiliki 500 bilangan secara acak. Buatlah fungsi-fungsi berikut ini\n",
    "1.\tBuatlah fungsi iteratif untuk mencari nilai minimal atau maksimal dari suatu list (tambahkan parameter min atau maks untuk mencari nilai minimal atau maksimal)\n",
    "2.\tBuatlah fungsi rekursif untuk mencari nilai minimal maksimal dari suatu list (tambahkan parametermin atau maks untuk mencari nilai minimal atau maksimal)\n"
   ]
  },
  {
   "cell_type": "code",
   "execution_count": 17,
   "id": "c775fe04",
   "metadata": {
    "scrolled": false
   },
   "outputs": [
    {
     "name": "stdout",
     "output_type": "stream",
     "text": [
      "List Acak :\n",
      " [788, 937, 243, 860, 827, 815, 573, 887, 874, 624, 695, 769, 66, 107, 43, 257, 697, 906, 800, 53, 30, 768, 189, 114, 831, 349, 332, 954, 491, 379, 131, 915, 408, 847, 722, 181, 911, 938, 972, 180, 59, 287, 935, 654, 975, 570, 321, 654, 342, 749, 5, 303, 15, 372, 28, 118, 491, 384, 942, 715, 292, 85, 733, 341, 142, 700, 451, 796, 37, 464, 310, 116, 576, 33, 70, 781, 481, 735, 38, 872, 855, 761, 794, 188, 360, 403, 897, 426, 687, 533, 62, 277, 617, 373, 315, 442, 979, 154, 708, 237, 865, 257, 138, 437, 334, 176, 93, 890, 238, 80, 420, 115, 157, 193, 195, 209, 464, 182, 492, 496, 506, 215, 186, 802, 918, 985, 716, 789, 339, 234, 838, 385, 823, 608, 764, 369, 863, 932, 863, 789, 593, 750, 733, 78, 538, 449, 505, 612, 766, 511, 740, 47, 467, 683, 375, 207, 406, 988, 715, 822, 380, 753, 774, 164, 320, 857, 944, 938, 328, 604, 322, 965, 817, 909, 688, 6, 910, 661, 650, 145, 607, 25, 369, 415, 628, 758, 970, 333, 179, 962, 107, 437, 590, 690, 929, 905, 390, 812, 600, 192, 500, 392, 444, 40, 91, 182, 753, 544, 6, 812, 608, 648, 559, 878, 976, 357, 126, 400, 862, 303, 569, 139, 340, 367, 206, 660, 485, 642, 893, 460, 782, 374, 119, 28, 665, 211, 316, 808, 735, 146, 377, 975, 843, 503, 985, 394, 935, 625, 414, 815, 137, 477, 44, 590, 579, 599, 245, 318, 432, 879, 514, 935, 481, 746, 156, 625, 51, 151, 902, 169, 639, 6, 921, 673, 102, 337, 997, 983, 760, 495, 623, 509, 56, 770, 261, 537, 828, 714, 764, 684, 758, 821, 621, 610, 264, 613, 822, 105, 649, 125, 250, 356, 973, 81, 293, 379, 339, 107, 583, 724, 173, 346, 145, 917, 405, 310, 520, 886, 880, 13, 952, 190, 32, 949, 460, 206, 296, 427, 958, 871, 994, 936, 13, 871, 86, 561, 943, 90, 590, 778, 139, 114, 793, 572, 848, 141, 404, 584, 286, 109, 237, 448, 262, 626, 307, 202, 34, 537, 291, 858, 189, 7, 271, 250, 112, 18, 162, 453, 991, 218, 417, 509, 653, 768, 459, 580, 267, 807, 886, 787, 450, 554, 182, 734, 463, 201, 476, 136, 34, 210, 870, 667, 983, 742, 474, 351, 206, 756, 840, 400, 963, 960, 913, 23, 114, 554, 837, 229, 468, 834, 277, 703, 873, 890, 908, 831, 395, 627, 711, 168, 57, 623, 852, 127, 827, 404, 573, 68, 286, 900, 47, 604, 519, 6, 479, 783, 388, 286, 582, 293, 400, 435, 170, 180, 512, 754, 62, 5, 823, 304, 691, 421, 629, 892, 550, 634, 314, 585, 847, 684, 349, 308, 955, 591, 93, 10, 595, 239, 668, 877, 68, 688, 671, 145, 155, 400, 643, 909, 655, 960, 907, 744, 883, 14, 707, 908, 731, 218, 384, 635, 510, 394, 77, 87, 168, 532, 830, 167, 223, 714]\n",
      "\n",
      "Mengunakan Iteratif : \n",
      "Minimal dari list  =  5 \n",
      "Maksimal dari list =  997\n",
      "Mengunakan Recursive : \n",
      "Minimal dari list  =  5 \n",
      "Maksimal dari list =  997\n"
     ]
    }
   ],
   "source": [
    "# 2 Implementasi #2\n",
    "\n",
    "import random as rd\n",
    "def listAcak(size):\n",
    "    data = []\n",
    "    for i in range(size):\n",
    "        data.append(rd.randint(0,999))\n",
    "    return data\n",
    "\n",
    "def minMaxIteratif(data,find):\n",
    "    if find == 'maksimal':\n",
    "        maks = data[0]\n",
    "        for i in data:\n",
    "            if maks < i :\n",
    "                maks=i\n",
    "        return maks\n",
    "    \n",
    "    elif find == 'minimal':\n",
    "        mins = data[0]\n",
    "        for j in data:\n",
    "            if mins > j :\n",
    "                mins=j\n",
    "        return mins\n",
    "    \n",
    "    else:\n",
    "        return 'Parameter Salah'\n",
    "    \n",
    "def minMaxRecursive(data,find):\n",
    "    if find == 'maksimal':\n",
    "        if len(data) ==  1:\n",
    "            return data[0]\n",
    "        else:\n",
    "            maks = minMaxRecursive(data[1:],find)\n",
    "            if data[0] > maks :\n",
    "                return data[0]\n",
    "            else:\n",
    "                return maks\n",
    "            \n",
    "    if find == 'minimal':\n",
    "        if len(data) ==  1:\n",
    "            return data[0]\n",
    "        else:\n",
    "            mins = minMaxRecursive(data[1:],find)\n",
    "            if data[0] < mins :\n",
    "                return data[0]\n",
    "            else:\n",
    "                return mins\n",
    "    else :\n",
    "        return 'Parameter Salah'\n",
    "    \n",
    "data = listAcak(500)\n",
    "print('List Acak :\\n',data)\n",
    "print()\n",
    "minList = minMaxIteratif(data,'minimal')\n",
    "maxList = minMaxIteratif(data,'maksimal')\n",
    "print('Mengunakan Iteratif :','\\nMinimal dari list  = ',minList,'\\nMaksimal dari list = ',maxList)\n",
    "minList1 = minMaxRecursive(data,'minimal')\n",
    "maxList1 = minMaxRecursive(data,'maksimal')\n",
    "print('Mengunakan Recursive :','\\nMinimal dari list  = ',minList1,'\\nMaksimal dari list = ',maxList1)"
   ]
  }
 ],
 "metadata": {
  "kernelspec": {
   "display_name": "Python 3 (ipykernel)",
   "language": "python",
   "name": "python3"
  },
  "language_info": {
   "codemirror_mode": {
    "name": "ipython",
    "version": 3
   },
   "file_extension": ".py",
   "mimetype": "text/x-python",
   "name": "python",
   "nbconvert_exporter": "python",
   "pygments_lexer": "ipython3",
   "version": "3.9.12"
  }
 },
 "nbformat": 4,
 "nbformat_minor": 5
}
