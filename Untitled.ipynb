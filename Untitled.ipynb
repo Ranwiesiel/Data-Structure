{
 "cells": [
  {
   "cell_type": "code",
   "execution_count": null,
   "id": "3e1ed133",
   "metadata": {},
   "outputs": [],
   "source": [
    "def createMatrix1(row ,col):\n",
    "    return[ [int(input(f\"[{i+1},{j+1}]= \"))for i in range(row)]for j in range(col)]\n",
    "def addMatrix1(mat1,mat2):\n",
    "    if len(mat1) == len(mat2) and len(mat1[0]) == len(mat2[0]):\n",
    "        return [[mat1[i][j] + mat2[i][j]  for j in range(len(mat1[0]))] for i in range (len(mat1))]\n",
    "    else :\n",
    "        return \"Ukuran Tidak Sesuai\"\n",
    "def multiMatrix1(mat1,mat2):\n",
    "    if len(mat1) == len(mat2[0]):\n",
    "        return [[mat1[i][j] + mat2[i][j]  for j in range(len(mat1[0]))] for i in range (len(mat1)) ]\n",
    "    else:\n",
    "        return \"Ukuran Tidak sesuai\""
   ]
  },
  {
   "cell_type": "code",
   "execution_count": null,
   "id": "4e05cbf2",
   "metadata": {},
   "outputs": [],
   "source": [
    "print(a)\n",
    "print(b)\n",
    "addMatrix1(a,b)"
   ]
  },
  {
   "cell_type": "code",
   "execution_count": null,
   "id": "ae8c65ee",
   "metadata": {},
   "outputs": [],
   "source": [
    "a=createMatrix1(2,3)\n",
    "b=createMatrix1(2,3)"
   ]
  },
  {
   "cell_type": "code",
   "execution_count": 1,
   "id": "e872c264",
   "metadata": {},
   "outputs": [
    {
     "name": "stdout",
     "output_type": "stream",
     "text": [
      "Histogram ' Mata Kuliah Struktur Data ' :\n",
      "{'m': 1, 'a': 5, 't': 4, ' ': 3, 'k': 2, 'u': 3, 'l': 1, 'i': 1, 'h': 1, 's': 1, 'r': 2, 'd': 1}\n",
      "Histogram ' Universitas Trunojoyo Madura ' :\n",
      "{'u': 3, 'n': 2, 'i': 2, 'v': 1, 'e': 1, 'r': 3, 's': 2, 't': 2, 'a': 3, ' ': 2, 'o': 3, 'j': 1, 'y': 1, 'm': 1, 'd': 1}\n"
     ]
    }
   ],
   "source": [
    "# Jawaban 2.1.2\n",
    "\n",
    "def histogram(strChr):\n",
    "    dictHisto = {}\n",
    "    print(\"Histogram '\",strChr,\"' :\")\n",
    "    strChr = strChr.lower()\n",
    "    for i in strChr:\n",
    "        dictHisto[i] = dictHisto.get(i,0) + 1\n",
    "    return dictHisto\n",
    "\n",
    "print(histogram('Mata Kuliah Struktur Data'))\n",
    "print(histogram('Universitas Trunojoyo Madura'))"
   ]
  },
  {
   "cell_type": "code",
   "execution_count": 2,
   "id": "c9d0ade6",
   "metadata": {},
   "outputs": [
    {
     "name": "stdout",
     "output_type": "stream",
     "text": [
      "Histogram ' Mata Kuliah Struktur Data ' :\n",
      "{'m': 1, 'a': 5, 't': 4, ' ': 3, 'k': 2, 'u': 3, 'l': 1, 'i': 1, 'h': 1, 's': 1, 'r': 2, 'd': 1}\n",
      "Histogram ' Universitas Trunojoyo Madura ' :\n",
      "{'u': 3, 'n': 2, 'i': 2, 'v': 1, 'e': 1, 'r': 3, 's': 2, 't': 2, 'a': 3, ' ': 2, 'o': 3, 'j': 1, 'y': 1, 'm': 1, 'd': 1}\n"
     ]
    }
   ],
   "source": [
    "# Jawaban 2.1.2\n",
    "\n",
    "def histogram(strChr):\n",
    "    dictHisto = {}\n",
    "    print(\"Histogram '\",strChr,\"' :\")\n",
    "    strChr = strChr.lower()\n",
    "    for i in strChr:\n",
    "        dictHisto[i] = strChr.count(i)\n",
    "    return dictHisto\n",
    "\n",
    "print(histogram('Mata Kuliah Struktur Data'))\n",
    "print(histogram('Universitas Trunojoyo Madura'))"
   ]
  }
 ],
 "metadata": {
  "kernelspec": {
   "display_name": "Python 3 (ipykernel)",
   "language": "python",
   "name": "python3"
  },
  "language_info": {
   "codemirror_mode": {
    "name": "ipython",
    "version": 3
   },
   "file_extension": ".py",
   "mimetype": "text/x-python",
   "name": "python",
   "nbconvert_exporter": "python",
   "pygments_lexer": "ipython3",
   "version": "3.9.12"
  }
 },
 "nbformat": 4,
 "nbformat_minor": 5
}
