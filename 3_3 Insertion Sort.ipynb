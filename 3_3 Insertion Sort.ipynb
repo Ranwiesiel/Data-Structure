{
 "cells": [
  {
   "cell_type": "code",
   "execution_count": null,
   "id": "0a5c60fc",
   "metadata": {},
   "outputs": [],
   "source": [
    "data = [7,4,1,8,15]\n",
    "for i in range(len(data)-1):\n",
    "    idx = i+1\n",
    "    flag =  data[idx]\n",
    "    print('idx Falg = ',idx)\n",
    "#     print(idx,':',flag)\n",
    "    for j in range (idx-1,-1,-1):\n",
    "        print(idx,'><',j)\n",
    "        "
   ]
  },
  {
   "cell_type": "code",
   "execution_count": null,
   "id": "6ef1e477",
   "metadata": {},
   "outputs": [],
   "source": [
    "data = [7,4,1,8,15]\n",
    "for i in range(len(data)-1):\n",
    "    idx = i+1\n",
    "    flag =  data[idx]\n",
    "    print('idx Falg = ',idx)\n",
    "#     print(idx,':',flag)\n",
    "    j = idx-1\n",
    "    while j > -1 :\n",
    "        print(idx,'><',j)\n",
    "        j -=1   "
   ]
  },
  {
   "cell_type": "code",
   "execution_count": 1,
   "id": "5815d06a",
   "metadata": {},
   "outputs": [
    {
     "name": "stdout",
     "output_type": "stream",
     "text": [
      "[ 1 ]: 4\n",
      "hasil innerloop [7, 7, 1, 8, 6, 15]\n",
      "hasil sementara [4, 7, 1, 8, 6, 15]\n",
      "[ 2 ]: 1\n",
      "hasil innerloop [4, 7, 7, 8, 6, 15]\n",
      "hasil innerloop [4, 4, 7, 8, 6, 15]\n",
      "hasil sementara [1, 4, 7, 8, 6, 15]\n",
      "[ 3 ]: 8\n",
      "hasil sementara [1, 4, 7, 8, 6, 15]\n",
      "[ 4 ]: 6\n",
      "hasil innerloop [1, 4, 7, 8, 8, 15]\n",
      "hasil innerloop [1, 4, 7, 7, 8, 15]\n",
      "hasil sementara [1, 4, 6, 7, 8, 15]\n",
      "[ 5 ]: 15\n",
      "hasil sementara [1, 4, 6, 7, 8, 15]\n",
      "Data urut :  [1, 4, 6, 7, 8, 15]\n"
     ]
    }
   ],
   "source": [
    "data = [7,4,1,8,6,15]\n",
    "#base case data = [1,2,3,4]\n",
    "#worsh case data = [4,3,2,1]\n",
    "\n",
    "for i in range(len(data)-1):\n",
    "    idx = i+1\n",
    "    flag =  data[idx]\n",
    "    print('[',idx,']:',flag)\n",
    "    j = idx-1\n",
    "    while j > -1 and data[j] > flag :\n",
    "#         print('Perbandingan indeks :',idx,j)\n",
    "        data[j+1] = data[j]\n",
    "        print('hasil innerloop',data)\n",
    "        j -=1\n",
    "    data[j+1]=flag\n",
    "    print('hasil sementara',data)\n",
    "print('Data urut : ',data)"
   ]
  },
  {
   "cell_type": "code",
   "execution_count": 1,
   "id": "bc161aca",
   "metadata": {},
   "outputs": [
    {
     "name": "stdout",
     "output_type": "stream",
     "text": [
      "[ 3 ]: 4\n",
      "hasil sementara [6, 5, 7, 4, 8]\n",
      "[ 2 ]: 7\n",
      "InnerLoop [6, 5, 4, 4, 8]\n",
      "hasil sementara [6, 5, 4, 7, 8]\n",
      "[ 1 ]: 5\n",
      "InnerLoop [6, 4, 4, 7, 8]\n",
      "hasil sementara [6, 4, 5, 7, 8]\n",
      "[ 0 ]: 6\n",
      "InnerLoop [4, 4, 5, 7, 8]\n",
      "InnerLoop [4, 5, 5, 7, 8]\n",
      "hasil sementara [4, 5, 6, 7, 8]\n"
     ]
    }
   ],
   "source": [
    "data = [6,5,7,4,8]\n",
    "for i in range (len(data)-2,-1,-1):\n",
    "    idx =  i\n",
    "    flag = data[idx]\n",
    "    print('[',idx,']:',flag)\n",
    "    j = idx+1\n",
    "    while j < len(data) and flag > data[j]:\n",
    "#         print(flag,\"><\",data[j])\n",
    "        data[j-1] = data[j]\n",
    "        print('InnerLoop',data)\n",
    "        j+=1\n",
    "    data[j-1] = flag\n",
    "    print('hasil sementara',data)"
   ]
  },
  {
   "cell_type": "code",
   "execution_count": null,
   "id": "1cc38737",
   "metadata": {},
   "outputs": [],
   "source": [
    "def insertionSort(listData):\n",
    "    for outIter in range(1,len(listData)):\n",
    "        print(listData)\n",
    "        key=listData[outIter]\n",
    "        ind=outIter\n",
    "        while (ind>0 and listData[ind-1]>key):\n",
    "            listData[ind]=listData[ind-1]\n",
    "            ind=ind-1\n",
    "            print('inner=',listData)\n",
    "        listData[ind]=key\n",
    "\n",
    "    print('sortedData=',listData) \n",
    "    \n",
    "insertionSort([1,6,9,4,5,56,3,1])"
   ]
  },
  {
   "cell_type": "code",
   "execution_count": null,
   "id": "55bead0b",
   "metadata": {},
   "outputs": [],
   "source": [
    "data = [8,3,0,11,4]\n",
    "data = [1,2,4,3,5]\n",
    "\n",
    "for i in range(1,len(data)):\n",
    "    print(data[i])\n",
    "    j = i-1\n",
    "#     for j in range(i-1,-1,-1):\n",
    "    while j > -1 and data[i] < data[j]:\n",
    "        print('><',data[j])\n",
    "        j-=1"
   ]
  },
  {
   "cell_type": "code",
   "execution_count": null,
   "id": "7d478436",
   "metadata": {},
   "outputs": [],
   "source": [
    "#assending dari kiri ke kanan\n",
    "def insertionSort(listData):\n",
    "    for i in range(1,len(listData)):\n",
    "        print(i,'-------')\n",
    "        print(listData)\n",
    "        key =  listData[i]\n",
    "        idx = i\n",
    "        while idx>0 and listData[idx-1] > key :\n",
    "            print(idx,'------idx')\n",
    "            listData[idx] = listData[idx-1]\n",
    "            idx-= 1\n",
    "            print('inner = ',listData)\n",
    "        listData[idx] = key\n",
    "    print('sorted Data = ',listData)\n",
    "    \n",
    "insertionSort([1,0,3,4,5])"
   ]
  },
  {
   "cell_type": "code",
   "execution_count": null,
   "id": "2ed44a0f",
   "metadata": {},
   "outputs": [],
   "source": [
    "#assending dari kanan ke kiri\n",
    "def insertionSort(listData):\n",
    "    for i in range(len(listData)-1,-1,-1):\n",
    "        print(i,'-------')\n",
    "        print(listData)\n",
    "        key =  listData[i]\n",
    "        idx = i\n",
    "        while idx>0 and listData[idx-1] > key :\n",
    "            print(idx,'------idx')\n",
    "            listData[idx] = listData[idx-1]\n",
    "            idx-= 1\n",
    "            print('inner = ',listData)\n",
    "        listData[idx] = key\n",
    "    print('sorted Data = ',listData)\n",
    "    \n",
    "insertionSort([1,0,3,4,5])"
   ]
  },
  {
   "cell_type": "code",
   "execution_count": null,
   "id": "03b81c52",
   "metadata": {},
   "outputs": [],
   "source": [
    "# decending dari kiri ke kanan\n",
    "def insertionSort(listData):\n",
    "    for i in range(1,len(listData)):\n",
    "        print(i,'-------')\n",
    "        print(listData)\n",
    "        key =  listData[i]\n",
    "        idx = i\n",
    "        while idx>0 and listData[idx-1] < key :\n",
    "            print(idx,'------idx')\n",
    "            listData[idx] = listData[idx-1]\n",
    "            idx-= 1\n",
    "            print('inner = ',listData)\n",
    "        listData[idx] = key\n",
    "    print('sorted Data = ',listData)\n",
    "    \n",
    "insertionSort([5,4,3,2,1,10])"
   ]
  },
  {
   "cell_type": "code",
   "execution_count": null,
   "id": "5e4d4c1d",
   "metadata": {},
   "outputs": [],
   "source": [
    "# decending dari kanan ke kiri\n",
    "def insertionSort(listData):\n",
    "    for i in range(len(listData)-1,-1,-1):\n",
    "        print(i,'-------')\n",
    "        print(listData)\n",
    "        key =  listData[i]\n",
    "        idx = i\n",
    "        while idx>0 and listData[idx-1] < key :\n",
    "            print(idx,'------idx')\n",
    "            listData[idx] = listData[idx-1]\n",
    "            idx-= 1\n",
    "            print('inner = ',listData)\n",
    "        listData[idx] = key\n",
    "    print('sorted Data = ',listData)\n",
    "    \n",
    "insertionSort([5,4,3,2,10])"
   ]
  },
  {
   "cell_type": "code",
   "execution_count": null,
   "id": "7aa41733",
   "metadata": {},
   "outputs": [],
   "source": []
  }
 ],
 "metadata": {
  "kernelspec": {
   "display_name": "Python 3 (ipykernel)",
   "language": "python",
   "name": "python3"
  },
  "language_info": {
   "codemirror_mode": {
    "name": "ipython",
    "version": 3
   },
   "file_extension": ".py",
   "mimetype": "text/x-python",
   "name": "python",
   "nbconvert_exporter": "python",
   "pygments_lexer": "ipython3",
   "version": "3.9.12"
  }
 },
 "nbformat": 4,
 "nbformat_minor": 5
}
