{
 "cells": [
  {
   "cell_type": "code",
   "execution_count": null,
   "id": "51c13df3",
   "metadata": {},
   "outputs": [],
   "source": [
    "\"11 : \""
   ]
  },
  {
   "cell_type": "code",
   "execution_count": 1,
   "id": "218b2595",
   "metadata": {},
   "outputs": [],
   "source": [
    "def stack():\n",
    "    s=[]\n",
    "    return (s)\n",
    "def push(s,data):\n",
    "    s.append(data)\n",
    "def pop(s):\n",
    "    data = s.pop()\n",
    "    return (data)\n",
    "def peek(s):\n",
    "    return (s[len(s)-1])\n",
    "def isEmpty(s):\n",
    "    return (s == [])\n",
    "def size(s):\n",
    "    return (len(s))"
   ]
  },
  {
   "cell_type": "code",
   "execution_count": 13,
   "id": "bf2643bb",
   "metadata": {},
   "outputs": [
    {
     "data": {
      "text/plain": [
       "True"
      ]
     },
     "execution_count": 13,
     "metadata": {},
     "output_type": "execute_result"
    }
   ],
   "source": [
    "a=stack()\n",
    "isEmpty(a)"
   ]
  },
  {
   "cell_type": "code",
   "execution_count": null,
   "id": "492fcafa",
   "metadata": {},
   "outputs": [],
   "source": []
  },
  {
   "cell_type": "code",
   "execution_count": null,
   "id": "4dea2f7c",
   "metadata": {},
   "outputs": [],
   "source": []
  },
  {
   "cell_type": "code",
   "execution_count": 2,
   "id": "0376a11c",
   "metadata": {},
   "outputs": [],
   "source": [
    "def createQueue():\n",
    "    q=[]\n",
    "    return q\n",
    "def enqueue(q,data):\n",
    "    q.insert(0,data)\n",
    "    return(q)\n",
    "def dequeue(q):\n",
    "    data=q.pop()\n",
    "    return(data)\n",
    "def isEmpty(q):\n",
    "    return (q==[])\n",
    "def size(q):\n",
    "    return (len(q))"
   ]
  },
  {
   "cell_type": "code",
   "execution_count": 16,
   "id": "5c89412e",
   "metadata": {},
   "outputs": [],
   "source": [
    "b = createQueue()"
   ]
  },
  {
   "cell_type": "code",
   "execution_count": null,
   "id": "a9137db5",
   "metadata": {},
   "outputs": [],
   "source": []
  },
  {
   "cell_type": "code",
   "execution_count": null,
   "id": "2b4e66df",
   "metadata": {},
   "outputs": [],
   "source": []
  },
  {
   "cell_type": "code",
   "execution_count": 24,
   "id": "61df7cc5",
   "metadata": {},
   "outputs": [
    {
     "name": "stdout",
     "output_type": "stream",
     "text": [
      "['15', '7', '1', '4']\n"
     ]
    }
   ],
   "source": [
    "q =  createQueue()\n",
    "enqueue(q,'4')\n",
    "enqueue(q,'1')\n",
    "enqueue(q,'7')\n",
    "enqueue(q,'15')\n",
    "\n",
    "print(q)"
   ]
  },
  {
   "cell_type": "code",
   "execution_count": 12,
   "id": "68d3d465",
   "metadata": {},
   "outputs": [
    {
     "name": "stdout",
     "output_type": "stream",
     "text": [
      "['matematika', 'struktur']\n",
      "['matematika']\n",
      "struktur\n"
     ]
    }
   ],
   "source": [
    "print(q)\n",
    "temp = dequeue(q)\n",
    "print(q)\n",
    "print(temp)"
   ]
  },
  {
   "cell_type": "code",
   "execution_count": 3,
   "id": "5768f020",
   "metadata": {},
   "outputs": [],
   "source": [
    "def createDeque():\n",
    "    d=[]\n",
    "    return d\n",
    "def addFront(d,data):\n",
    "    d.insert(0,data)\n",
    "    return d\n",
    "def addRear(d,data):\n",
    "    d.append(data)\n",
    "    return d\n",
    "def removeRear(d):\n",
    "    data=d.pop()\n",
    "    return data\n",
    "def removeFront(d):\n",
    "    data=d.pop(0)\n",
    "    return data\n",
    "def isEmpty(d):\n",
    "    return d == []\n",
    "def size(d):\n",
    "    return len(d)"
   ]
  },
  {
   "cell_type": "code",
   "execution_count": 15,
   "id": "87507146",
   "metadata": {},
   "outputs": [],
   "source": [
    "c=createDeque()"
   ]
  }
 ],
 "metadata": {
  "kernelspec": {
   "display_name": "Python 3 (ipykernel)",
   "language": "python",
   "name": "python3"
  },
  "language_info": {
   "codemirror_mode": {
    "name": "ipython",
    "version": 3
   },
   "file_extension": ".py",
   "mimetype": "text/x-python",
   "name": "python",
   "nbconvert_exporter": "python",
   "pygments_lexer": "ipython3",
   "version": "3.9.12"
  }
 },
 "nbformat": 4,
 "nbformat_minor": 5
}
