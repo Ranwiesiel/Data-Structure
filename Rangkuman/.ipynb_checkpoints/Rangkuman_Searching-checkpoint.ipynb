{
 "cells": [
  {
   "cell_type": "code",
   "execution_count": 5,
   "id": "5aadb95d",
   "metadata": {},
   "outputs": [
    {
     "name": "stdout",
     "output_type": "stream",
     "text": [
      "-1 is not found\n"
     ]
    }
   ],
   "source": [
    "def seqSearch(dataList,data):\n",
    "    position = []\n",
    "    for i in range(len(dataList)):\n",
    "        if dataList[i] == data :\n",
    "            position.append(i)\n",
    "    if position != []:\n",
    "        return f\"{data} is in : {position}\"\n",
    "    return f\"{data} is not found\"\n",
    "\n",
    "data = [43,6,3,1,3,7,0,7]\n",
    "print(seqSearch(data,-1))"
   ]
  },
  {
   "cell_type": "code",
   "execution_count": 7,
   "id": "f9e84f47",
   "metadata": {},
   "outputs": [
    {
     "name": "stdout",
     "output_type": "stream",
     "text": [
      "100 is not found, numberOfIteration: 6\n"
     ]
    }
   ],
   "source": [
    "def orderedSeqSearch(data,num):\n",
    "    i = 0\n",
    "    position = []\n",
    "    while i < len(data) and data[i] <= num:\n",
    "        if data[i] == num :\n",
    "            position.append(i)\n",
    "        i+=1\n",
    "    if position != []:\n",
    "        return f\"{num} is in : {position}, numberOfIteration: {i}\"\n",
    "    return f\"{num} is not found, numberOfIteration: {i}\"\n",
    "\n",
    "b = [2,9,10,13,26,50]\n",
    "print(orderedSeqSearch(b,100))"
   ]
  },
  {
   "cell_type": "markdown",
   "id": "5fe153a4",
   "metadata": {},
   "source": [
    "## Binary Search"
   ]
  },
  {
   "cell_type": "code",
   "execution_count": 11,
   "id": "5e902200",
   "metadata": {},
   "outputs": [
    {
     "name": "stdout",
     "output_type": "stream",
     "text": [
      "100 is not found, numberOfIteration: 3\n"
     ]
    }
   ],
   "source": [
    "def binarySearch(data,find):\n",
    "    i = 0\n",
    "    first=0\n",
    "    last=len(data)-1\n",
    "    while first <= last :\n",
    "        mid = (first+last)//2\n",
    "        i+=1\n",
    "        if data[mid] == find:\n",
    "            return f\"{find} is in : {mid}, numberOfiteration: {i}\"\n",
    "        elif find < data[mid]:\n",
    "            last = mid-1\n",
    "        else:\n",
    "            first = mid+1\n",
    "    return f\"{find} is not found, numberOfIteration: {i}\"\n",
    "\n",
    "b = [2,9,10,13,26,50]\n",
    "print(binarySearch(b,100))"
   ]
  },
  {
   "cell_type": "code",
   "execution_count": 12,
   "id": "8f30d484",
   "metadata": {},
   "outputs": [
    {
     "name": "stdout",
     "output_type": "stream",
     "text": [
      "3\n",
      "[2, 3]\n"
     ]
    }
   ],
   "source": [
    "# Menampilkan data yang dicari dobel \n",
    "def modBinarySearch(listData,data):\n",
    "    first = 0\n",
    "    last = len(listData)-1\n",
    "    found = False\n",
    "    position = []\n",
    "    \n",
    "    while first <= last and not found:\n",
    "        midpoint = (first+last)//2\n",
    "        if listData[midpoint]== data:\n",
    "            found = True\n",
    "            print(midpoint)\n",
    "            position.append(midpoint)\n",
    "            i=1\n",
    "            while listData[midpoint-i] == data:\n",
    "                position.insert(0,midpoint-i)\n",
    "                i+=1\n",
    "            j=1\n",
    "            while listData[midpoint+j] == data:\n",
    "                position.append(midpoint+j)\n",
    "                j+=1\n",
    "\n",
    "                \n",
    "        else:\n",
    "            if data < listData[midpoint]:\n",
    "                last = midpoint-1\n",
    "            else:\n",
    "                first = midpoint+1\n",
    "    return position\n",
    "\n",
    "# [0,1,2, 3, 4]\n",
    "a=[4,0,10,10,34,56,78,99]\n",
    "print(modBinarySearch(a,10))"
   ]
  },
  {
   "cell_type": "code",
   "execution_count": 25,
   "id": "6d5eb7fa",
   "metadata": {},
   "outputs": [
    {
     "name": "stdout",
     "output_type": "stream",
     "text": [
      "False\n"
     ]
    }
   ],
   "source": [
    "def recBinarySearch(listData,data):\n",
    "    if len(listData) == 0:\n",
    "        return False\n",
    "    else:\n",
    "        midpoint = (len(listData)-1)//2\n",
    "#         print(listData[midpoint],midpoint)\n",
    "        if data == listData[midpoint]:\n",
    "            return True\n",
    "        else:                \n",
    "            if data < listData[midpoint]:\n",
    "#                 if midpoint == 1:\n",
    "#                     return recBinarySearch(listData[:midpoint],data)\n",
    "                return recBinarySearch(listData[:midpoint-1],data)\n",
    "            else:\n",
    "                return recBinarySearch(listData[midpoint+1:],data)\n",
    "b=[-3,-2,0,1,2,3,49,100,200]\n",
    "print(recBinarySearch(b,-3))"
   ]
  },
  {
   "cell_type": "markdown",
   "id": "28388104",
   "metadata": {},
   "source": [
    "## Hashing"
   ]
  },
  {
   "cell_type": "code",
   "execution_count": 26,
   "id": "e87c0b77",
   "metadata": {},
   "outputs": [],
   "source": [
    "def remainderFunction(data,num):\n",
    "    return data%num\n",
    "\n",
    "def createHashTable(num):\n",
    "    temp = []\n",
    "    for i in range(num):\n",
    "        temp.append(None)\n",
    "    return temp\n",
    "\n",
    "def putData(data,table):\n",
    "    for i in range(len(data)):\n",
    "        idx = remainderFunction(data[i],len(table))\n",
    "        table[idx]=data[i]\n",
    "    return table\n",
    "\n",
    "def searchHash(data,table):\n",
    "    hashVal = remainderFunction(data,len(table))\n",
    "    if data == table[hashVal]:\n",
    "        return True \n",
    "    else:\n",
    "        return False "
   ]
  },
  {
   "cell_type": "code",
   "execution_count": 27,
   "id": "9d415c61",
   "metadata": {},
   "outputs": [
    {
     "name": "stdout",
     "output_type": "stream",
     "text": [
      "[None, None, None, None, None, None, None, None, None, None, None]\n"
     ]
    }
   ],
   "source": [
    "a=[54, 26, 93, 17, 77, 31]\n",
    "hashTable=createHashTable(11)\n",
    "print(hashTable)"
   ]
  },
  {
   "cell_type": "code",
   "execution_count": 28,
   "id": "bd8c7f58",
   "metadata": {},
   "outputs": [
    {
     "name": "stdout",
     "output_type": "stream",
     "text": [
      "[77, None, None, None, 26, 93, 17, None, None, 31, 54]\n"
     ]
    }
   ],
   "source": [
    "hashTable=putData(a,hashTable)\n",
    "print(hashTable)"
   ]
  },
  {
   "cell_type": "code",
   "execution_count": 29,
   "id": "eb4c3547",
   "metadata": {},
   "outputs": [
    {
     "data": {
      "text/plain": [
       "True"
      ]
     },
     "execution_count": 29,
     "metadata": {},
     "output_type": "execute_result"
    }
   ],
   "source": [
    "searchHash(77,hashTable)"
   ]
  },
  {
   "cell_type": "markdown",
   "id": "ff2e2f57",
   "metadata": {},
   "source": [
    "##### Perfect Hash Function"
   ]
  },
  {
   "cell_type": "code",
   "execution_count": 34,
   "id": "c4cdbd65",
   "metadata": {},
   "outputs": [],
   "source": [
    "def midSqFunction(data,num):\n",
    "    hasil = str(data**2)\n",
    "    if len(hasil)%2==1:\n",
    "        mid = int(hasil[len(hasil)//2])\n",
    "    else:\n",
    "        mid = int(hasil[len(hasil)//2-1:len(hasil)//2+1])\n",
    "    return mid%num\n",
    "\n",
    "def PutData2(data,table):\n",
    "    for i in range(len(data)):\n",
    "        idx = midSqFunction(data[i],len(table))\n",
    "        table[idx] = data[i]\n",
    "    return table\n",
    "        \n",
    "def perfectHash(data,table):\n",
    "    hasVal = midSqFunction(data,len(table))\n",
    "#     print(hasVal)\n",
    "    if data == table[hasVal]:\n",
    "        return True\n",
    "    else :\n",
    "        return False"
   ]
  },
  {
   "cell_type": "code",
   "execution_count": 31,
   "id": "91dc7866",
   "metadata": {},
   "outputs": [
    {
     "name": "stdout",
     "output_type": "stream",
     "text": [
      "[None, None, None, None, None, None, None, None, None, None, None]\n"
     ]
    }
   ],
   "source": [
    "a=[54, 26, 93, 17, 77, 31,44,11]\n",
    "hashTable=createHashTable(11)\n",
    "print(hashTable)"
   ]
  },
  {
   "cell_type": "code",
   "execution_count": 32,
   "id": "bd5489fa",
   "metadata": {},
   "outputs": [
    {
     "name": "stdout",
     "output_type": "stream",
     "text": [
      "[None, None, 11, 54, 77, 44, 31, 26, 17, 93, None]\n"
     ]
    }
   ],
   "source": [
    "hashTable=PutData2(a,hashTable)\n",
    "print(hashTable)"
   ]
  },
  {
   "cell_type": "code",
   "execution_count": 35,
   "id": "c4057899",
   "metadata": {},
   "outputs": [
    {
     "data": {
      "text/plain": [
       "True"
      ]
     },
     "execution_count": 35,
     "metadata": {},
     "output_type": "execute_result"
    }
   ],
   "source": [
    "perfectHash(11,hashTable)"
   ]
  },
  {
   "cell_type": "markdown",
   "id": "fc4e7feb",
   "metadata": {},
   "source": [
    "##### Hash String Function"
   ]
  },
  {
   "cell_type": "code",
   "execution_count": 36,
   "id": "1abf689f",
   "metadata": {},
   "outputs": [
    {
     "name": "stdout",
     "output_type": "stream",
     "text": [
      "302\n",
      "302\n"
     ]
    }
   ],
   "source": [
    "def strVal(strData):\n",
    "    temp=0\n",
    "    for i in strData:\n",
    "        temp+=ord(i)\n",
    "    return temp\n",
    "print(strVal('adi'))\n",
    "print(strVal('ida'))\n",
    "# menghasilkan nilai yang sama jika terdapat anagram"
   ]
  },
  {
   "cell_type": "code",
   "execution_count": 40,
   "id": "939b48a3",
   "metadata": {},
   "outputs": [
    {
     "name": "stdout",
     "output_type": "stream",
     "text": [
      "1684\n",
      "1616\n"
     ]
    }
   ],
   "source": [
    "def modStrVal(strData):\n",
    "    temp=0\n",
    "    for i in range(len(strData)):\n",
    "        temp+=ord(strData[i])*(i+1) # +1 untuk depan saja yg beda\n",
    "    return temp\n",
    "print(modStrVal('kasur'))\n",
    "print(modStrVal('rusak'))\n"
   ]
  },
  {
   "cell_type": "code",
   "execution_count": null,
   "id": "9d69df24",
   "metadata": {},
   "outputs": [],
   "source": [
    "def remainderFunctionStr(data,num):\n",
    "    return modStrVal(data)%num\n",
    "\n",
    "def putDataStr(data,table):\n",
    "    for i in range(len(data)):\n",
    "        idx = remainderFunctionStr(data[i],len(table))\n",
    "        table[idx]=data[i]\n",
    "    return table\n",
    "\n",
    "def searchHashStr(data,table):\n",
    "    hashVal = remainderFunctionStr(data,len(table))\n",
    "    if data == table[hashVal]:\n",
    "        return True \n",
    "    else:\n",
    "        return False "
   ]
  },
  {
   "cell_type": "code",
   "execution_count": 42,
   "id": "658300e4",
   "metadata": {},
   "outputs": [
    {
     "name": "stdout",
     "output_type": "stream",
     "text": [
      "[None, None, None, None, None, None, None, None, None, None, None]\n",
      "['7', None, 'ida', 'f', None, 'ada', None, None, None, None, None]\n"
     ]
    },
    {
     "data": {
      "text/plain": [
       "True"
      ]
     },
     "execution_count": 42,
     "metadata": {},
     "output_type": "execute_result"
    }
   ],
   "source": [
    "x = ['ada','ida','7','f']\n",
    "ha = createHashTable(11)\n",
    "print(ha)\n",
    "ha = putDataStr(x,ha)\n",
    "print(ha)\n",
    "searchHashStr('ida',ha)"
   ]
  },
  {
   "cell_type": "markdown",
   "id": "77d7333e",
   "metadata": {},
   "source": [
    "###### Linear Probing"
   ]
  },
  {
   "cell_type": "code",
   "execution_count": 44,
   "id": "680b99ce",
   "metadata": {},
   "outputs": [],
   "source": [
    "def linearProbing(idx,hashTable,data):\n",
    "    count =idx\n",
    "    found = False\n",
    "    while count != idx-1 and not found:\n",
    "        \n",
    "        if hashTable[count] == None:\n",
    "            found = True\n",
    "            hashTable[count] = data\n",
    "        else:\n",
    "            count+=1\n",
    "            if count == len(hashTable)-1:\n",
    "                count=0\n",
    "    return hashTable\n",
    "\n",
    "def putData3(a,hashTable,functionName):\n",
    "    \n",
    "    for i in range(len(a)):\n",
    "        \n",
    "        if functionName == 'reminder':\n",
    "            ind = remainderFunction(a[i],len(hashTable))\n",
    "        elif functionName == 'midSq':\n",
    "            ind = midSqFunction(a[i],len(hashTable))\n",
    "        \n",
    "        if hashTable[ind] == 'none':\n",
    "            hashTable[ind] = a[i]\n",
    "        else:\n",
    "            hashTable=linearProbing(ind,hashTable,a[i])\n",
    "\n",
    "            \n",
    "    return(hashTable)\n",
    "\n",
    "def searchHash2(data,table):\n",
    "    hashVal = remainderFunction(data,len(table))\n",
    "    if data == table[hashVal]:\n",
    "        return True \n",
    "    else:\n",
    "        count = hashVal\n",
    "        found = False\n",
    "        while count != hashVal-1 and not found:\n",
    "            if data == table[count]:\n",
    "                return True\n",
    "            else:\n",
    "                count+=1\n",
    "                if count == len(table)-1:\n",
    "                    count=0\n",
    "\n",
    "        return False"
   ]
  },
  {
   "cell_type": "code",
   "execution_count": 45,
   "id": "ca8dbdf1",
   "metadata": {},
   "outputs": [
    {
     "name": "stdout",
     "output_type": "stream",
     "text": [
      "[None, None, None, None, None, None, None, None, None, None, None]\n",
      "[77, None, None, None, 26, 93, 17, None, None, 31, 54]\n"
     ]
    },
    {
     "data": {
      "text/plain": [
       "True"
      ]
     },
     "execution_count": 45,
     "metadata": {},
     "output_type": "execute_result"
    }
   ],
   "source": [
    "a=[54, 26, 93, 17, 77, 31]\n",
    "hashTable=createHashTable(11)\n",
    "print(hashTable)\n",
    "hashTable=putData3(a,hashTable,'reminder')\n",
    "print(hashTable)\n",
    "searchHash2(77,hashTable)"
   ]
  },
  {
   "cell_type": "code",
   "execution_count": 46,
   "id": "316a3f7d",
   "metadata": {},
   "outputs": [
    {
     "name": "stdout",
     "output_type": "stream",
     "text": [
      "[None, None, None, None, None, None, None, None, None, None, None]\n",
      "[77, 44, 55, 20, 26, 93, 17, None, None, 31, 54]\n"
     ]
    },
    {
     "data": {
      "text/plain": [
       "True"
      ]
     },
     "execution_count": 46,
     "metadata": {},
     "output_type": "execute_result"
    }
   ],
   "source": [
    "a=[54, 26, 93, 17, 77, 31,44,55,20]\n",
    "hashTable=createHashTable(11)\n",
    "print(hashTable)\n",
    "hashTable=putData3(a,hashTable,'reminder')\n",
    "print(hashTable)\n",
    "searchHash2(55,hashTable)"
   ]
  },
  {
   "cell_type": "markdown",
   "id": "0b810a85",
   "metadata": {},
   "source": [
    "###### Quadratic Probing"
   ]
  },
  {
   "cell_type": "code",
   "execution_count": null,
   "id": "821024a4",
   "metadata": {},
   "outputs": [],
   "source": [
    "# def quadraticProbing(idx,hashTable,data):\n",
    "#     i = 1\n",
    "#     while hashTable[idx] != None :\n",
    "#         idx = (idx+i**2) % len(hashTable)\n",
    "#         if idx >= len(hashTable):\n",
    "#             return 'table is full cant input value'\n",
    "#         i+=1\n",
    "#     hashTable[idx] = data\n",
    "#     return hashTable\n",
    "        \n",
    "# def putData4(a,hashTable):\n",
    "    \n",
    "#     for i in range(len(a)):\n",
    "#         ind = remainderFunction(a[i],len(hashTable))\n",
    "#         if hashTable[ind] == None:\n",
    "#             hashTable[ind] = a[i]\n",
    "#         else:\n",
    "#             hashTable=quadraticProbing(ind,hashTable,a[i])\n",
    "\n",
    "            \n",
    "#     return(hashTable)\n",
    "\n",
    "# def searchHash2(data,table):\n",
    "#     hashVal = remainderFunction(data,len(table))\n",
    "#     if data == table[hashVal]:\n",
    "#         return True \n",
    "#     else:\n",
    "#         count = hashVal\n",
    "#         found = False\n",
    "#         while count != hashVal-1 and not found:\n",
    "#             if data == table[count]:\n",
    "#                 return True\n",
    "#             else:\n",
    "#                 count+=1\n",
    "#                 if count == len(table)-1:\n",
    "#                     count=0\n",
    "\n",
    "#         return False"
   ]
  },
  {
   "cell_type": "markdown",
   "id": "cd0aa711",
   "metadata": {},
   "source": [
    "##### Chaining"
   ]
  },
  {
   "cell_type": "code",
   "execution_count": 47,
   "id": "ed48bd81",
   "metadata": {},
   "outputs": [],
   "source": [
    "def hashTableChaining(num):\n",
    "    return [[None] for i in range(num)]\n",
    "\n",
    "def putData4(listData,hashTable):\n",
    "    for i in range(len(listData)):\n",
    "        ind =  remainderFunction(listData[i],len(hashTable))\n",
    "        \n",
    "        if hashTable[ind][0] == None:\n",
    "            hashTable[ind][0] = listData[i]\n",
    "        else:\n",
    "            hashTable[ind].append(listData[i])\n",
    "            \n",
    "    return hashTable\n",
    "        \n",
    "def searchHashChaining(data,table):\n",
    "    hasVal = data%len(table)\n",
    "    for i in table[hasVal]:\n",
    "        if data == i:\n",
    "            return True\n",
    "        \n",
    "    return False"
   ]
  },
  {
   "cell_type": "code",
   "execution_count": 48,
   "id": "16392c6b",
   "metadata": {},
   "outputs": [
    {
     "name": "stdout",
     "output_type": "stream",
     "text": [
      "[[None], [None], [None], [None], [None], [None], [None], [None], [None], [None], [None]]\n",
      "[[77, 44, 55], [None], [None], [None], [26], [93], [17], [None], [None], [31, 20], [54]]\n"
     ]
    },
    {
     "data": {
      "text/plain": [
       "True"
      ]
     },
     "execution_count": 48,
     "metadata": {},
     "output_type": "execute_result"
    }
   ],
   "source": [
    "a=[54, 26, 93, 17, 77, 31,44,55,20]\n",
    "h = hashTableChaining(11)\n",
    "print(h)\n",
    "hashTab = putData4(a,h)\n",
    "print(hashTab)\n",
    "searchHashChaining(31,hashTab)"
   ]
  },
  {
   "cell_type": "code",
   "execution_count": 50,
   "id": "502b5789",
   "metadata": {},
   "outputs": [
    {
     "name": "stdout",
     "output_type": "stream",
     "text": [
      "[None, None, None, None, None, None, None, None, None, None, None]\n",
      "[[77, 44, 55, 66, 99], None, None, None, 26, 93, 17, None, None, [31, 20], 54]\n"
     ]
    },
    {
     "data": {
      "text/plain": [
       "[0, 4]"
      ]
     },
     "execution_count": 50,
     "metadata": {},
     "output_type": "execute_result"
    }
   ],
   "source": [
    "def hashTableCh(num):\n",
    "    return [None for i in range(num)]\n",
    "\n",
    "def putData5(listData,hashTable):\n",
    "    for i in range(len(listData)):\n",
    "        ind =  remainderFunction(listData[i],len(hashTable))\n",
    "        if hashTable[ind] == None:\n",
    "            hashTable[ind] = listData[i]\n",
    "        else:\n",
    "            if type(hashTable[ind]) != list :\n",
    "                hashTable[ind] = [ hashTable[ind],listData[i] ]\n",
    "            else:\n",
    "                hashTable[ind].append(listData[i])\n",
    "            \n",
    "    return hashTable\n",
    "\n",
    "def modSearchHashChaining(data,table):\n",
    "    hasVal = remainderFunction(data,len(table))\n",
    "    if data == table[hasVal]:\n",
    "        return hasVal\n",
    "    elif type(table[hasVal]) == list:\n",
    "        for i in range(len(table[hasVal])):\n",
    "            if data == table[hasVal][i] :\n",
    "                return [hasVal,i]\n",
    "        return False\n",
    "                \n",
    "\n",
    "b = [54, 26, 93, 17, 77, 31,44,55,66,99,20]\n",
    "l = [1,4,15,1]\n",
    "c = hashTableCh(11)\n",
    "print(c)\n",
    "O = putData5(b,c)\n",
    "print(O)\n",
    "modSearchHashChaining(99,O)"
   ]
  }
 ],
 "metadata": {
  "kernelspec": {
   "display_name": "Python 3 (ipykernel)",
   "language": "python",
   "name": "python3"
  },
  "language_info": {
   "codemirror_mode": {
    "name": "ipython",
    "version": 3
   },
   "file_extension": ".py",
   "mimetype": "text/x-python",
   "name": "python",
   "nbconvert_exporter": "python",
   "pygments_lexer": "ipython3",
   "version": "3.9.12"
  }
 },
 "nbformat": 4,
 "nbformat_minor": 5
}
