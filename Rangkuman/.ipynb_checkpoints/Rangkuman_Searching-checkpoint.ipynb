{
 "cells": [
  {
   "cell_type": "markdown",
   "id": "46dcfa51",
   "metadata": {},
   "source": [
    "## Bubble Sort"
   ]
  },
  {
   "cell_type": "code",
   "execution_count": 1,
   "id": "ef142559",
   "metadata": {},
   "outputs": [
    {
     "name": "stdout",
     "output_type": "stream",
     "text": [
      "\n",
      "Iterasi ke- 1 Jumlah Iterasi = 8\n",
      "[1, 10, 2, 3, 75, -7, 4, 5, -4]\n",
      "[1, 2, 10, 3, 75, -7, 4, 5, -4]\n",
      "[1, 2, 3, 10, 75, -7, 4, 5, -4]\n",
      "[1, 2, 3, 10, 75, -7, 4, 5, -4]\n",
      "[1, 2, 3, 10, -7, 75, 4, 5, -4]\n",
      "[1, 2, 3, 10, -7, 4, 75, 5, -4]\n",
      "[1, 2, 3, 10, -7, 4, 5, 75, -4]\n",
      "[1, 2, 3, 10, -7, 4, 5, -4, 75]\n",
      "\n",
      "Iterasi ke- 2 Jumlah Iterasi = 7\n",
      "[1, 2, 3, 10, -7, 4, 5, -4, 75]\n",
      "[1, 2, 3, 10, -7, 4, 5, -4, 75]\n",
      "[1, 2, 3, 10, -7, 4, 5, -4, 75]\n",
      "[1, 2, 3, -7, 10, 4, 5, -4, 75]\n",
      "[1, 2, 3, -7, 4, 10, 5, -4, 75]\n",
      "[1, 2, 3, -7, 4, 5, 10, -4, 75]\n",
      "[1, 2, 3, -7, 4, 5, -4, 10, 75]\n",
      "\n",
      "Iterasi ke- 3 Jumlah Iterasi = 6\n",
      "[1, 2, 3, -7, 4, 5, -4, 10, 75]\n",
      "[1, 2, 3, -7, 4, 5, -4, 10, 75]\n",
      "[1, 2, -7, 3, 4, 5, -4, 10, 75]\n",
      "[1, 2, -7, 3, 4, 5, -4, 10, 75]\n",
      "[1, 2, -7, 3, 4, 5, -4, 10, 75]\n",
      "[1, 2, -7, 3, 4, -4, 5, 10, 75]\n",
      "\n",
      "Iterasi ke- 4 Jumlah Iterasi = 5\n",
      "[1, 2, -7, 3, 4, -4, 5, 10, 75]\n",
      "[1, -7, 2, 3, 4, -4, 5, 10, 75]\n",
      "[1, -7, 2, 3, 4, -4, 5, 10, 75]\n",
      "[1, -7, 2, 3, 4, -4, 5, 10, 75]\n",
      "[1, -7, 2, 3, -4, 4, 5, 10, 75]\n",
      "\n",
      "Iterasi ke- 5 Jumlah Iterasi = 4\n",
      "[-7, 1, 2, 3, -4, 4, 5, 10, 75]\n",
      "[-7, 1, 2, 3, -4, 4, 5, 10, 75]\n",
      "[-7, 1, 2, 3, -4, 4, 5, 10, 75]\n",
      "[-7, 1, 2, -4, 3, 4, 5, 10, 75]\n",
      "\n",
      "Iterasi ke- 6 Jumlah Iterasi = 3\n",
      "[-7, 1, 2, -4, 3, 4, 5, 10, 75]\n",
      "[-7, 1, 2, -4, 3, 4, 5, 10, 75]\n",
      "[-7, 1, -4, 2, 3, 4, 5, 10, 75]\n",
      "\n",
      "Iterasi ke- 7 Jumlah Iterasi = 2\n",
      "[-7, 1, -4, 2, 3, 4, 5, 10, 75]\n",
      "[-7, -4, 1, 2, 3, 4, 5, 10, 75]\n",
      "\n",
      "Iterasi ke- 8 Jumlah Iterasi = 1\n",
      "[-7, -4, 1, 2, 3, 4, 5, 10, 75]\n",
      "Data terurut :  [-7, -4, 1, 2, 3, 4, 5, 10, 75]\n"
     ]
    }
   ],
   "source": [
    "# assending dari kiri ke kanan\n",
    "def bubbleSort(data):\n",
    "    for i in range(len(data)-1,0,-1):\n",
    "        print('\\nIterasi ke-',len(data)-i,'Jumlah Iterasi =',i)\n",
    "        for j in range(i):\n",
    "            if data[j] >data[j+1]:\n",
    "                data[j],data[j+1]=data[j+1],data[j]\n",
    "            print(data)\n",
    "    print('Data terurut : ',data)\n",
    "bubbleSort([1,10,2,3,75,-7,4,5,-4])"
   ]
  },
  {
   "cell_type": "code",
   "execution_count": 2,
   "id": "699d5cfb",
   "metadata": {},
   "outputs": [
    {
     "name": "stdout",
     "output_type": "stream",
     "text": [
      "Iterasi ke- 1 jumlah Iterasi =  8\n",
      "1 => [1, 10, 2, 3, 75, -7, 4, -4, 5]\n",
      "2 => [1, 10, 2, 3, 75, -7, -4, 4, 5]\n",
      "3 => [1, 10, 2, 3, 75, -7, -4, 4, 5]\n",
      "4 => [1, 10, 2, 3, -7, 75, -4, 4, 5]\n",
      "5 => [1, 10, 2, -7, 3, 75, -4, 4, 5]\n",
      "6 => [1, 10, -7, 2, 3, 75, -4, 4, 5]\n",
      "7 => [1, -7, 10, 2, 3, 75, -4, 4, 5]\n",
      "8 => [-7, 1, 10, 2, 3, 75, -4, 4, 5]\n",
      "Iterasi ke- 2 jumlah Iterasi =  7\n",
      "1 => [-7, 1, 10, 2, 3, 75, -4, 4, 5]\n",
      "2 => [-7, 1, 10, 2, 3, 75, -4, 4, 5]\n",
      "3 => [-7, 1, 10, 2, 3, -4, 75, 4, 5]\n",
      "4 => [-7, 1, 10, 2, -4, 3, 75, 4, 5]\n",
      "5 => [-7, 1, 10, -4, 2, 3, 75, 4, 5]\n",
      "6 => [-7, 1, -4, 10, 2, 3, 75, 4, 5]\n",
      "7 => [-7, -4, 1, 10, 2, 3, 75, 4, 5]\n",
      "Iterasi ke- 3 jumlah Iterasi =  6\n",
      "1 => [-7, -4, 1, 10, 2, 3, 75, 4, 5]\n",
      "2 => [-7, -4, 1, 10, 2, 3, 4, 75, 5]\n",
      "3 => [-7, -4, 1, 10, 2, 3, 4, 75, 5]\n",
      "4 => [-7, -4, 1, 10, 2, 3, 4, 75, 5]\n",
      "5 => [-7, -4, 1, 2, 10, 3, 4, 75, 5]\n",
      "6 => [-7, -4, 1, 2, 10, 3, 4, 75, 5]\n",
      "Iterasi ke- 4 jumlah Iterasi =  5\n",
      "1 => [-7, -4, 1, 2, 10, 3, 4, 5, 75]\n",
      "2 => [-7, -4, 1, 2, 10, 3, 4, 5, 75]\n",
      "3 => [-7, -4, 1, 2, 10, 3, 4, 5, 75]\n",
      "4 => [-7, -4, 1, 2, 3, 10, 4, 5, 75]\n",
      "5 => [-7, -4, 1, 2, 3, 10, 4, 5, 75]\n",
      "Iterasi ke- 5 jumlah Iterasi =  4\n",
      "1 => [-7, -4, 1, 2, 3, 10, 4, 5, 75]\n",
      "2 => [-7, -4, 1, 2, 3, 10, 4, 5, 75]\n",
      "3 => [-7, -4, 1, 2, 3, 4, 10, 5, 75]\n",
      "4 => [-7, -4, 1, 2, 3, 4, 10, 5, 75]\n",
      "Iterasi ke- 6 jumlah Iterasi =  3\n",
      "1 => [-7, -4, 1, 2, 3, 4, 10, 5, 75]\n",
      "2 => [-7, -4, 1, 2, 3, 4, 5, 10, 75]\n",
      "3 => [-7, -4, 1, 2, 3, 4, 5, 10, 75]\n",
      "Iterasi ke- 7 jumlah Iterasi =  2\n",
      "1 => [-7, -4, 1, 2, 3, 4, 5, 10, 75]\n",
      "2 => [-7, -4, 1, 2, 3, 4, 5, 10, 75]\n",
      "Iterasi ke- 8 jumlah Iterasi =  1\n",
      "1 => [-7, -4, 1, 2, 3, 4, 5, 10, 75]\n",
      "Data Terurut [-7, -4, 1, 2, 3, 4, 5, 10, 75]\n"
     ]
    }
   ],
   "source": [
    "# assending dari kanan ke kiri\n",
    "def bubbleShort(listAgk):\n",
    "    for i in range(len(listAgk)-1,0,-1) :\n",
    "        Itr=len(listAgk)-i\n",
    "        print('Iterasi ke-',Itr,'jumlah Iterasi = ',i)\n",
    "        for j in range(len(listAgk)-1,Itr-1,-1):\n",
    "            if listAgk[j] < listAgk[j-1]:\n",
    "                listAgk[j],listAgk[j-1] = listAgk[j-1],listAgk[j]\n",
    "            print(len(listAgk)-j,'=>',listAgk)\n",
    "    print('Data Terurut',listAgk)\n",
    "    \n",
    "bubbleShort([1,10,2,3,75,-7,4,5,-4])"
   ]
  },
  {
   "cell_type": "code",
   "execution_count": 13,
   "id": "1c1f42e0",
   "metadata": {},
   "outputs": [
    {
     "name": "stdout",
     "output_type": "stream",
     "text": [
      "\n",
      "Iterasi ke- 1 Jumlah Iterasi  = 11\n",
      "1 => [11, -1, 5, 7, 4, 5, 3, 42, 1, 13, 2, -1]\n",
      "2 => [11, 5, -1, 7, 4, 5, 3, 42, 1, 13, 2, -1]\n",
      "3 => [11, 5, 7, -1, 4, 5, 3, 42, 1, 13, 2, -1]\n",
      "4 => [11, 5, 7, 4, -1, 5, 3, 42, 1, 13, 2, -1]\n",
      "5 => [11, 5, 7, 4, 5, -1, 3, 42, 1, 13, 2, -1]\n",
      "6 => [11, 5, 7, 4, 5, 3, -1, 42, 1, 13, 2, -1]\n",
      "7 => [11, 5, 7, 4, 5, 3, 42, -1, 1, 13, 2, -1]\n",
      "8 => [11, 5, 7, 4, 5, 3, 42, 1, -1, 13, 2, -1]\n",
      "9 => [11, 5, 7, 4, 5, 3, 42, 1, 13, -1, 2, -1]\n",
      "10 => [11, 5, 7, 4, 5, 3, 42, 1, 13, 2, -1, -1]\n",
      "11 => [11, 5, 7, 4, 5, 3, 42, 1, 13, 2, -1, -1]\n",
      "\n",
      "Iterasi ke- 2 Jumlah Iterasi  = 10\n",
      "1 => [11, 5, 7, 4, 5, 3, 42, 1, 13, 2, -1, -1]\n",
      "2 => [11, 7, 5, 4, 5, 3, 42, 1, 13, 2, -1, -1]\n",
      "3 => [11, 7, 5, 4, 5, 3, 42, 1, 13, 2, -1, -1]\n",
      "4 => [11, 7, 5, 5, 4, 3, 42, 1, 13, 2, -1, -1]\n",
      "5 => [11, 7, 5, 5, 4, 3, 42, 1, 13, 2, -1, -1]\n",
      "6 => [11, 7, 5, 5, 4, 42, 3, 1, 13, 2, -1, -1]\n",
      "7 => [11, 7, 5, 5, 4, 42, 3, 1, 13, 2, -1, -1]\n",
      "8 => [11, 7, 5, 5, 4, 42, 3, 13, 1, 2, -1, -1]\n",
      "9 => [11, 7, 5, 5, 4, 42, 3, 13, 2, 1, -1, -1]\n",
      "10 => [11, 7, 5, 5, 4, 42, 3, 13, 2, 1, -1, -1]\n",
      "\n",
      "Iterasi ke- 3 Jumlah Iterasi  = 9\n",
      "1 => [11, 7, 5, 5, 4, 42, 3, 13, 2, 1, -1, -1]\n",
      "2 => [11, 7, 5, 5, 4, 42, 3, 13, 2, 1, -1, -1]\n",
      "3 => [11, 7, 5, 5, 4, 42, 3, 13, 2, 1, -1, -1]\n",
      "4 => [11, 7, 5, 5, 4, 42, 3, 13, 2, 1, -1, -1]\n",
      "5 => [11, 7, 5, 5, 42, 4, 3, 13, 2, 1, -1, -1]\n",
      "6 => [11, 7, 5, 5, 42, 4, 3, 13, 2, 1, -1, -1]\n",
      "7 => [11, 7, 5, 5, 42, 4, 13, 3, 2, 1, -1, -1]\n",
      "8 => [11, 7, 5, 5, 42, 4, 13, 3, 2, 1, -1, -1]\n",
      "9 => [11, 7, 5, 5, 42, 4, 13, 3, 2, 1, -1, -1]\n",
      "\n",
      "Iterasi ke- 4 Jumlah Iterasi  = 8\n",
      "1 => [11, 7, 5, 5, 42, 4, 13, 3, 2, 1, -1, -1]\n",
      "2 => [11, 7, 5, 5, 42, 4, 13, 3, 2, 1, -1, -1]\n",
      "3 => [11, 7, 5, 5, 42, 4, 13, 3, 2, 1, -1, -1]\n",
      "4 => [11, 7, 5, 42, 5, 4, 13, 3, 2, 1, -1, -1]\n",
      "5 => [11, 7, 5, 42, 5, 4, 13, 3, 2, 1, -1, -1]\n",
      "6 => [11, 7, 5, 42, 5, 13, 4, 3, 2, 1, -1, -1]\n",
      "7 => [11, 7, 5, 42, 5, 13, 4, 3, 2, 1, -1, -1]\n",
      "8 => [11, 7, 5, 42, 5, 13, 4, 3, 2, 1, -1, -1]\n",
      "\n",
      "Iterasi ke- 5 Jumlah Iterasi  = 7\n",
      "1 => [11, 7, 5, 42, 5, 13, 4, 3, 2, 1, -1, -1]\n",
      "2 => [11, 7, 5, 42, 5, 13, 4, 3, 2, 1, -1, -1]\n",
      "3 => [11, 7, 42, 5, 5, 13, 4, 3, 2, 1, -1, -1]\n",
      "4 => [11, 7, 42, 5, 5, 13, 4, 3, 2, 1, -1, -1]\n",
      "5 => [11, 7, 42, 5, 13, 5, 4, 3, 2, 1, -1, -1]\n",
      "6 => [11, 7, 42, 5, 13, 5, 4, 3, 2, 1, -1, -1]\n",
      "7 => [11, 7, 42, 5, 13, 5, 4, 3, 2, 1, -1, -1]\n",
      "\n",
      "Iterasi ke- 6 Jumlah Iterasi  = 6\n",
      "1 => [11, 7, 42, 5, 13, 5, 4, 3, 2, 1, -1, -1]\n",
      "2 => [11, 42, 7, 5, 13, 5, 4, 3, 2, 1, -1, -1]\n",
      "3 => [11, 42, 7, 5, 13, 5, 4, 3, 2, 1, -1, -1]\n",
      "4 => [11, 42, 7, 13, 5, 5, 4, 3, 2, 1, -1, -1]\n",
      "5 => [11, 42, 7, 13, 5, 5, 4, 3, 2, 1, -1, -1]\n",
      "6 => [11, 42, 7, 13, 5, 5, 4, 3, 2, 1, -1, -1]\n",
      "\n",
      "Iterasi ke- 7 Jumlah Iterasi  = 5\n",
      "1 => [42, 11, 7, 13, 5, 5, 4, 3, 2, 1, -1, -1]\n",
      "2 => [42, 11, 7, 13, 5, 5, 4, 3, 2, 1, -1, -1]\n",
      "3 => [42, 11, 13, 7, 5, 5, 4, 3, 2, 1, -1, -1]\n",
      "4 => [42, 11, 13, 7, 5, 5, 4, 3, 2, 1, -1, -1]\n",
      "5 => [42, 11, 13, 7, 5, 5, 4, 3, 2, 1, -1, -1]\n",
      "\n",
      "Iterasi ke- 8 Jumlah Iterasi  = 4\n",
      "1 => [42, 11, 13, 7, 5, 5, 4, 3, 2, 1, -1, -1]\n",
      "2 => [42, 13, 11, 7, 5, 5, 4, 3, 2, 1, -1, -1]\n",
      "3 => [42, 13, 11, 7, 5, 5, 4, 3, 2, 1, -1, -1]\n",
      "4 => [42, 13, 11, 7, 5, 5, 4, 3, 2, 1, -1, -1]\n",
      "\n",
      "Iterasi ke- 9 Jumlah Iterasi  = 3\n",
      "1 => [42, 13, 11, 7, 5, 5, 4, 3, 2, 1, -1, -1]\n",
      "2 => [42, 13, 11, 7, 5, 5, 4, 3, 2, 1, -1, -1]\n",
      "3 => [42, 13, 11, 7, 5, 5, 4, 3, 2, 1, -1, -1]\n",
      "\n",
      "Iterasi ke- 10 Jumlah Iterasi  = 2\n",
      "1 => [42, 13, 11, 7, 5, 5, 4, 3, 2, 1, -1, -1]\n",
      "2 => [42, 13, 11, 7, 5, 5, 4, 3, 2, 1, -1, -1]\n",
      "\n",
      "Iterasi ke- 11 Jumlah Iterasi  = 1\n",
      "1 => [42, 13, 11, 7, 5, 5, 4, 3, 2, 1, -1, -1]\n",
      "Data terurut = [42, 13, 11, 7, 5, 5, 4, 3, 2, 1, -1, -1]\n"
     ]
    }
   ],
   "source": [
    "# bubble short decending dari kiri ke kanan\n",
    "data = [-1,11,5,7,4,5,3,42,1,13,2,-1]\n",
    "for j in range(len(data)-1,0,-1):\n",
    "    print('\\nIterasi ke-',len(data)-j,'Jumlah Iterasi  =',j)\n",
    "    for i in range(j):\n",
    "        if data[i] < data[i+1]:\n",
    "            data[i],data[i+1]=data[i+1],data[i]\n",
    "        print(i+1,'=>',data)\n",
    "print('Data terurut =',data)"
   ]
  },
  {
   "cell_type": "code",
   "execution_count": 15,
   "id": "ba7cc20b",
   "metadata": {
    "scrolled": false
   },
   "outputs": [
    {
     "name": "stdout",
     "output_type": "stream",
     "text": [
      "\n",
      "Iterasi ke- 1 Jumlah Iterasi = 5\n",
      "5 = [-2, 100, 11, 51, 7, 1]\n",
      "4 = [-2, 100, 11, 51, 7, 1]\n",
      "3 = [-2, 100, 51, 11, 7, 1]\n",
      "2 = [-2, 100, 51, 11, 7, 1]\n",
      "1 = [100, -2, 51, 11, 7, 1]\n",
      "\n",
      "Iterasi ke- 2 Jumlah Iterasi = 4\n",
      "5 = [100, -2, 51, 11, 7, 1]\n",
      "4 = [100, -2, 51, 11, 7, 1]\n",
      "3 = [100, -2, 51, 11, 7, 1]\n",
      "2 = [100, 51, -2, 11, 7, 1]\n",
      "\n",
      "Iterasi ke- 3 Jumlah Iterasi = 3\n",
      "5 = [100, 51, -2, 11, 7, 1]\n",
      "4 = [100, 51, -2, 11, 7, 1]\n",
      "3 = [100, 51, 11, -2, 7, 1]\n",
      "\n",
      "Iterasi ke- 4 Jumlah Iterasi = 2\n",
      "5 = [100, 51, 11, -2, 7, 1]\n",
      "4 = [100, 51, 11, 7, -2, 1]\n",
      "\n",
      "Iterasi ke- 5 Jumlah Iterasi = 1\n",
      "5 = [100, 51, 11, 7, 1, -2]\n",
      "Data urut- [100, 51, 11, 7, 1, -2]\n"
     ]
    }
   ],
   "source": [
    "#bubblesort decending dari kanan ke kiri\n",
    "def bubbleShort(listData):\n",
    "    for h in range(len(listData)-1,0,-1):\n",
    "        itr=len(listData)-h\n",
    "        print('\\nIterasi ke-',itr,'Jumlah Iterasi =',h)\n",
    "        for i in range(len(listData)-1,itr-1,-1):\n",
    "            if listData[i] > listData[i-1]:\n",
    "                listData[i],listData[i-1]=listData[i-1],listData[i]\n",
    "            print(i,'=',listData)\n",
    "    print('Data urut-',listData)\n",
    "bubbleShort([-2,100,11,51,7,1])"
   ]
  },
  {
   "cell_type": "code",
   "execution_count": 24,
   "id": "98a501c1",
   "metadata": {
    "scrolled": false
   },
   "outputs": [
    {
     "name": "stdout",
     "output_type": "stream",
     "text": [
      "Iterasi ke- 1 Jumlah Iterasi =  8\n",
      "0 => [1, 10, 2, 2, 2, 3, 4, 2, 2]\n",
      "1 => [1, 2, 10, 2, 2, 3, 4, 2, 2]\n",
      "2 => [1, 2, 2, 10, 2, 3, 4, 2, 2]\n",
      "3 => [1, 2, 2, 2, 10, 3, 4, 2, 2]\n",
      "4 => [1, 2, 2, 2, 3, 10, 4, 2, 2]\n",
      "5 => [1, 2, 2, 2, 3, 4, 10, 2, 2]\n",
      "6 => [1, 2, 2, 2, 3, 4, 2, 10, 2]\n",
      "7 => [1, 2, 2, 2, 3, 4, 2, 2, 10]\n",
      "Iterasi ke- 2 Jumlah Iterasi =  7\n",
      "0 => [1, 2, 2, 2, 3, 4, 2, 2, 10]\n",
      "1 => [1, 2, 2, 2, 3, 4, 2, 2, 10]\n",
      "2 => [1, 2, 2, 2, 3, 4, 2, 2, 10]\n",
      "3 => [1, 2, 2, 2, 3, 4, 2, 2, 10]\n",
      "4 => [1, 2, 2, 2, 3, 4, 2, 2, 10]\n",
      "5 => [1, 2, 2, 2, 3, 2, 4, 2, 10]\n",
      "6 => [1, 2, 2, 2, 3, 2, 2, 4, 10]\n",
      "Iterasi ke- 3 Jumlah Iterasi =  6\n",
      "0 => [1, 2, 2, 2, 3, 2, 2, 4, 10]\n",
      "1 => [1, 2, 2, 2, 3, 2, 2, 4, 10]\n",
      "2 => [1, 2, 2, 2, 3, 2, 2, 4, 10]\n",
      "3 => [1, 2, 2, 2, 3, 2, 2, 4, 10]\n",
      "4 => [1, 2, 2, 2, 2, 3, 2, 4, 10]\n",
      "5 => [1, 2, 2, 2, 2, 2, 3, 4, 10]\n",
      "Iterasi ke- 4 Jumlah Iterasi =  5\n",
      "0 => [1, 2, 2, 2, 2, 2, 3, 4, 10]\n",
      "1 => [1, 2, 2, 2, 2, 2, 3, 4, 10]\n",
      "2 => [1, 2, 2, 2, 2, 2, 3, 4, 10]\n",
      "3 => [1, 2, 2, 2, 2, 2, 3, 4, 10]\n",
      "4 => [1, 2, 2, 2, 2, 2, 3, 4, 10]\n",
      "Data Terurut [1, 2, 2, 2, 2, 2, 3, 4, 10]\n"
     ]
    }
   ],
   "source": [
    "def modifBubbleShort(listAgk):\n",
    "    i = len(listAgk)-1\n",
    "    while i > 0:\n",
    "        print('Iterasi ke-',len(listAgk)-i,'Jumlah Iterasi = ',i)\n",
    "        temp=0\n",
    "        for j in range(i):\n",
    "            if listAgk[j] > listAgk[j+1]:\n",
    "                listAgk[j+1],listAgk[j] = listAgk[j],listAgk[j+1]\n",
    "                temp+=1\n",
    "            print(j,'=>',listAgk)\n",
    "        i-=1\n",
    "        if temp == 0 :\n",
    "            i=0\n",
    "    print('Data Terurut',listAgk)\n",
    "modifBubbleShort([1,10,2,2,2,3,4,2,2])"
   ]
  },
  {
   "cell_type": "code",
   "execution_count": 18,
   "id": "84d15332",
   "metadata": {},
   "outputs": [
    {
     "name": "stdout",
     "output_type": "stream",
     "text": [
      "# 1\n",
      "kanan [3, 100, 7, 3, 6, 4, 90, 0]\n",
      "kanan [3, 7, 100, 3, 6, 4, 90, 0]\n",
      "kanan [3, 7, 3, 100, 6, 4, 90, 0]\n",
      "kanan [3, 7, 3, 6, 100, 4, 90, 0]\n",
      "kanan [3, 7, 3, 6, 4, 100, 90, 0]\n",
      "kanan [3, 7, 3, 6, 4, 90, 100, 0]\n",
      "kanan [3, 7, 3, 6, 4, 90, 0, 100]\n",
      "kiri [3, 7, 3, 6, 4, 0, 90, 100]\n",
      "kiri [3, 7, 3, 6, 0, 4, 90, 100]\n",
      "kiri [3, 7, 3, 0, 6, 4, 90, 100]\n",
      "kiri [3, 7, 0, 3, 6, 4, 90, 100]\n",
      "kiri [3, 0, 7, 3, 6, 4, 90, 100]\n",
      "kiri [0, 3, 7, 3, 6, 4, 90, 100]\n",
      "# 2\n",
      "kanan [0, 3, 7, 3, 6, 4, 90, 100]\n",
      "kanan [0, 3, 3, 7, 6, 4, 90, 100]\n",
      "kanan [0, 3, 3, 6, 7, 4, 90, 100]\n",
      "kanan [0, 3, 3, 6, 4, 7, 90, 100]\n",
      "kanan [0, 3, 3, 6, 4, 7, 90, 100]\n",
      "kiri [0, 3, 3, 6, 4, 7, 90, 100]\n",
      "kiri [0, 3, 3, 4, 6, 7, 90, 100]\n",
      "kiri [0, 3, 3, 4, 6, 7, 90, 100]\n",
      "kiri [0, 3, 3, 4, 6, 7, 90, 100]\n",
      "# 3\n",
      "kanan [0, 3, 3, 4, 6, 7, 90, 100]\n",
      "kanan [0, 3, 3, 4, 6, 7, 90, 100]\n",
      "kanan [0, 3, 3, 4, 6, 7, 90, 100]\n",
      "kiri [0, 3, 3, 4, 6, 7, 90, 100]\n",
      "kiri [0, 3, 3, 4, 6, 7, 90, 100]\n",
      "# 4\n",
      "kanan [0, 3, 3, 4, 6, 7, 90, 100]\n",
      "[0, 3, 3, 4, 6, 7, 90, 100]\n"
     ]
    }
   ],
   "source": [
    "def bidirectional(lst):\n",
    "    kiri = 0\n",
    "    kanan= len(lst)-1\n",
    "    count=1\n",
    "    while kiri < kanan:\n",
    "        print('#',count)\n",
    "        for i in range(kiri,kanan):\n",
    "            if lst[i]>lst[i+1]:\n",
    "                lst[i],lst[i+1]=lst[i+1],lst[i]\n",
    "            print('kanan',lst)\n",
    "        kanan-=1\n",
    "        for j in range(kanan,kiri,-1):\n",
    "            if lst[j] < lst[j-1]:\n",
    "                lst[j],lst[j-1]=lst[j-1],lst[j]\n",
    "            print('kiri',lst)\n",
    "        kiri+=1\n",
    "        count+=1\n",
    "    return lst\n",
    "print(bidirectional([100,3,7,3,6,4,90,0]))   "
   ]
  },
  {
   "cell_type": "code",
   "execution_count": 76,
   "id": "ed485102",
   "metadata": {},
   "outputs": [
    {
     "name": "stdout",
     "output_type": "stream",
     "text": [
      "Genap-Ganjil\n",
      "[12, 13, 10, 8, 7, 5, 11, 2]\n",
      "[12, 13, 8, 10, 7, 5, 11, 2]\n",
      "[12, 13, 8, 10, 5, 7, 11, 2]\n",
      "[12, 13, 8, 10, 5, 7, 2, 11]\n",
      "Ganjil-Genap\n",
      "[12, 8, 13, 10, 5, 7, 2, 11]\n",
      "[12, 8, 13, 5, 10, 7, 2, 11]\n",
      "[12, 8, 13, 5, 10, 2, 7, 11]\n",
      "Genap-Ganjil\n",
      "[8, 12, 13, 5, 10, 2, 7, 11]\n",
      "[8, 12, 5, 13, 10, 2, 7, 11]\n",
      "[8, 12, 5, 13, 2, 10, 7, 11]\n",
      "[8, 12, 5, 13, 2, 10, 7, 11]\n",
      "Ganjil-Genap\n",
      "[8, 5, 12, 13, 2, 10, 7, 11]\n",
      "[8, 5, 12, 2, 13, 10, 7, 11]\n",
      "[8, 5, 12, 2, 13, 7, 10, 11]\n",
      "Genap-Ganjil\n",
      "[5, 8, 12, 2, 13, 7, 10, 11]\n",
      "[5, 8, 2, 12, 13, 7, 10, 11]\n",
      "[5, 8, 2, 12, 7, 13, 10, 11]\n",
      "[5, 8, 2, 12, 7, 13, 10, 11]\n",
      "Ganjil-Genap\n",
      "[5, 2, 8, 12, 7, 13, 10, 11]\n",
      "[5, 2, 8, 7, 12, 13, 10, 11]\n",
      "[5, 2, 8, 7, 12, 10, 13, 11]\n",
      "Genap-Ganjil\n",
      "[2, 5, 8, 7, 12, 10, 13, 11]\n",
      "[2, 5, 7, 8, 12, 10, 13, 11]\n",
      "[2, 5, 7, 8, 10, 12, 13, 11]\n",
      "[2, 5, 7, 8, 10, 12, 11, 13]\n",
      "Ganjil-Genap\n",
      "[2, 5, 7, 8, 10, 12, 11, 13]\n",
      "[2, 5, 7, 8, 10, 12, 11, 13]\n",
      "[2, 5, 7, 8, 10, 11, 12, 13]\n"
     ]
    }
   ],
   "source": [
    "arr = [13, 12, 10, 8, 7, 5, 11,2]\n",
    "n = len(arr)\n",
    "kondisi = True\n",
    "count = 0\n",
    "while kondisi:\n",
    "    kondisi = False\n",
    "    for i in range(n-1):\n",
    "        if arr[i] > arr[i+1]:\n",
    "            kondisi = True\n",
    "    if kondisi:\n",
    "        if count % 2 == 0:\n",
    "            print(\"Genap-Ganjil\")\n",
    "            for i in range(0,n-1,2):\n",
    "                if arr[i] > arr[i+1]:\n",
    "                    arr[i],arr[i+1] = arr[i+1],arr[i]\n",
    "                print(arr)\n",
    "        else:\n",
    "            print(\"Ganjil-Genap\")\n",
    "            for j in range(1,n-1,2):\n",
    "                if arr[j] > arr[j+1]:\n",
    "                    arr[j],arr[j+1] = arr[j+1],arr[j]\n",
    "                print(arr)\n",
    "    count+=1"
   ]
  },
  {
   "cell_type": "markdown",
   "id": "df2ee5a5",
   "metadata": {},
   "source": [
    "# Selection Sort"
   ]
  },
  {
   "cell_type": "code",
   "execution_count": 30,
   "id": "197a1123",
   "metadata": {},
   "outputs": [
    {
     "name": "stdout",
     "output_type": "stream",
     "text": [
      "[2, 11, 3, 5, 7, 16]\n",
      "[2, 7, 3, 5, 11, 16]\n",
      "[2, 7, 3, 5, 11, 16]\n",
      "[2, 7, 3, 5, 11, 16]\n",
      "[2, 7, 3, 5, 11, 16]\n"
     ]
    }
   ],
   "source": [
    "# assending min ke depan\n",
    "a = [7,11,3,5,2,16]\n",
    "for srt in range(len(a)-1):\n",
    "    idx=srt\n",
    "    for i in range(srt+1,len(a)):\n",
    "        if a[srt] > a[i]:\n",
    "            idx=i\n",
    "    a[idx],a[srt]=a[srt],a[idx]\n",
    "    print(a)"
   ]
  },
  {
   "cell_type": "code",
   "execution_count": 22,
   "id": "01716d25",
   "metadata": {},
   "outputs": [
    {
     "name": "stdout",
     "output_type": "stream",
     "text": [
      "5 => [8, 3, 0, 1, 4, 11]\n",
      "4 => [4, 3, 0, 1, 8, 11]\n",
      "3 => [1, 3, 0, 4, 8, 11]\n",
      "2 => [1, 0, 3, 4, 8, 11]\n",
      "1 => [0, 1, 3, 4, 8, 11]\n"
     ]
    }
   ],
   "source": [
    "# assending max ke belakang\n",
    "def selectionSortMax(lst):\n",
    "    for i in range(len(lst)-1,0,-1):\n",
    "        maxIdx=i\n",
    "        for j in range(i):\n",
    "            if lst[maxIdx] < lst[j]:\n",
    "                maxIdx=j\n",
    "        lst[maxIdx],lst[i]=lst[i],lst[maxIdx]\n",
    "        print(i,'=>',lst)\n",
    "selectionSortMax([8,3,0,11,4,1])"
   ]
  },
  {
   "cell_type": "code",
   "execution_count": 27,
   "id": "1588dd1b",
   "metadata": {},
   "outputs": [
    {
     "name": "stdout",
     "output_type": "stream",
     "text": [
      "0 => [13, 5, 7, 11, 2, 8]\n",
      "1 => [13, 11, 7, 5, 2, 8]\n",
      "2 => [13, 11, 8, 5, 2, 7]\n",
      "3 => [13, 11, 8, 7, 2, 5]\n",
      "4 => [13, 11, 8, 7, 5, 2]\n"
     ]
    }
   ],
   "source": [
    "#decending max ke depan\n",
    "def selectionSort(arr):\n",
    "    for i in range(len(arr)-1):\n",
    "        maxIdx=i\n",
    "        for j in range(i+1,len(arr)):\n",
    "            if arr[maxIdx]<arr[j]:\n",
    "                maxIdx=j\n",
    "        arr[i],arr[maxIdx]=arr[maxIdx],arr[i]\n",
    "        print(i,'=>',arr)\n",
    "selectionSort([11,5,7,13,2,8])"
   ]
  },
  {
   "cell_type": "code",
   "execution_count": 28,
   "id": "355b417c",
   "metadata": {},
   "outputs": [
    {
     "name": "stdout",
     "output_type": "stream",
     "text": [
      "5 => [11, 5, 7, 13, 8, 2]\n",
      "4 => [11, 8, 7, 13, 5, 2]\n",
      "3 => [11, 8, 13, 7, 5, 2]\n",
      "2 => [11, 13, 8, 7, 5, 2]\n",
      "1 => [13, 11, 8, 7, 5, 2]\n"
     ]
    }
   ],
   "source": [
    "# decending min ke belakang\n",
    "def selectionSortMin(lst):\n",
    "    for i in range(len(lst)-1,0,-1):\n",
    "        minIdx=i\n",
    "        for j in range(i):\n",
    "            if lst[minIdx] > lst[j]:\n",
    "                minIdx=j\n",
    "        lst[minIdx],lst[i]=lst[i],lst[minIdx]\n",
    "        print(i,'=>',lst)\n",
    "selectionSortMin([11,5,7,13,2,8])"
   ]
  },
  {
   "cell_type": "code",
   "execution_count": 52,
   "id": "8b5cf577",
   "metadata": {},
   "outputs": [
    {
     "name": "stdout",
     "output_type": "stream",
     "text": [
      "Data Awal =  [-1, 11, 5, 7, 4, 5, 3, 42, 1, 13, 2]\n",
      "Iterasi ke -  1\n",
      "Urut data minimal  :  [-1, 11, 5, 7, 4, 5, 3, 42, 1, 13, 2]\n",
      "Urut data maksimal :  [-1, 11, 5, 7, 4, 5, 3, 2, 1, 13, 42]\n",
      "Iterasi ke -  2\n",
      "Urut data minimal  :  [-1, 1, 5, 7, 4, 5, 3, 2, 11, 13, 42]\n",
      "Urut data maksimal :  [-1, 1, 5, 7, 4, 5, 3, 2, 11, 13, 42]\n",
      "Iterasi ke -  3\n",
      "Urut data minimal  :  [-1, 1, 2, 7, 4, 5, 3, 5, 11, 13, 42]\n",
      "Urut data maksimal :  [-1, 1, 2, 7, 4, 5, 3, 5, 11, 13, 42]\n",
      "Iterasi ke -  4\n",
      "Urut data minimal  :  [-1, 1, 2, 3, 4, 5, 7, 5, 11, 13, 42]\n",
      "Urut data maksimal :  [-1, 1, 2, 3, 4, 5, 5, 7, 11, 13, 42]\n",
      "Iterasi ke -  5\n",
      "Urut data minimal  :  [-1, 1, 2, 3, 4, 5, 5, 7, 11, 13, 42]\n",
      "Urut data maksimal :  [-1, 1, 2, 3, 4, 5, 5, 7, 11, 13, 42]\n",
      "Data Urut =   [-1, 1, 2, 3, 4, 5, 5, 7, 11, 13, 42]\n"
     ]
    }
   ],
   "source": [
    "def selectionMinMax(data) :\n",
    "    print('Data Awal = ',data)\n",
    "    inc = 0\n",
    "    dec = len(data)-1\n",
    "    while inc < len(data)//2 :\n",
    "        print('Iterasi ke - ',inc+1)\n",
    "        \n",
    "        idxMin = inc\n",
    "        for j in range(inc+1,len(data)) :\n",
    "            if data[idxMin] > data[j] :\n",
    "                idxMin = j\n",
    "        data[inc],data[idxMin]=data[idxMin],data[inc]\n",
    "        print('Urut data minimal  : ',data)\n",
    "        \n",
    "        idxMax = dec\n",
    "        for k in range(dec-1,inc,-1) : \n",
    "            if data[idxMax] < data[k] :\n",
    "                idxMax = k\n",
    "        data[dec],data[idxMax] = data[idxMax],data[dec]\n",
    "        \n",
    "        dec-=1\n",
    "        inc+= 1\n",
    "        print('Urut data maksimal : ',data)\n",
    "        \n",
    "    return data\n",
    "\n",
    "arr= [-1,11,5,7,4,5,3,42,1,13,2]\n",
    "y = selectionMinMax(arr)\n",
    "print('Data Urut =  ',y)"
   ]
  },
  {
   "cell_type": "code",
   "execution_count": 77,
   "id": "98d01a9d",
   "metadata": {},
   "outputs": [
    {
     "name": "stdout",
     "output_type": "stream",
     "text": [
      "[2, 5, 7, 8, 10, 11, 12, 13]\n",
      "Data : [13, 12, 10, 8, 7, 5, 11, 2]\n",
      "\n",
      "Iterasi ke-1\n",
      "Ganjil - Genap : [2, 12, 10, 8, 7, 5, 11, 13]\n",
      "\n",
      "Iterasi ke-2\n",
      "Genap - Ganjil : [2, 5, 10, 8, 7, 12, 11, 13]\n",
      "\n",
      "Iterasi ke-3\n",
      "Genap - Ganjil : [2, 5, 7, 8, 10, 12, 11, 13]\n",
      "\n",
      "Iterasi ke-4\n",
      "Ganjil - Genap : [2, 5, 7, 8, 10, 12, 11, 13]\n",
      "\n",
      "Iterasi ke-5\n",
      "Genap - Ganjil : [2, 5, 7, 8, 10, 12, 11, 13]\n",
      "\n",
      "Iterasi ke-6\n",
      "Genap - Ganjil : [2, 5, 7, 8, 10, 11, 12, 13]\n",
      "\n"
     ]
    }
   ],
   "source": [
    "#Ganjil - Genap\n",
    "def selection_sort(data):\n",
    "    iterasi = 0\n",
    "    block = data.copy()\n",
    "    while data != block:\n",
    "        lock = data[iterasi] #Mengunci setiap index += 1\n",
    "        set_low = max(data) #reset ke nilai terbesar setiap iterasi\n",
    "        print(\"Iterasi ke-{}\".format(iterasi+1))\n",
    "        for b in range(len(data)-1,iterasi,-1): #mencari data terkecil dari rear ke front\n",
    "            if data[b] <= set_low:\n",
    "                set_low = data[b]\n",
    "        iterasi += 1   \n",
    "        #Deklarasi   \n",
    "        idx_lock = data.index(lock)\n",
    "        idx_low = data.index(set_low)\n",
    "        #Swapping\n",
    "        if lock > set_low:\n",
    "            temp = data[idx_lock]\n",
    "            data[idx_lock] = data[idx_low]\n",
    "            data[idx_low] = temp\n",
    "        #output\n",
    "        if lock % 2 == 0 and set_low % 2 == 1 :\n",
    "            print(\"Genap - Ganjil : {}\\n\".format(data))\n",
    "        else:\n",
    "            print(\"Ganjil - Genap : {}\\n\".format(data))\n",
    "    \n",
    "array = [13,12,10,8,7,5,11,2]\n",
    "selection_sort(array)"
   ]
  },
  {
   "cell_type": "markdown",
   "id": "e58a0ad2",
   "metadata": {},
   "source": [
    "## Insertion Sort"
   ]
  },
  {
   "cell_type": "code",
   "execution_count": 61,
   "id": "ec10a61d",
   "metadata": {},
   "outputs": [
    {
     "name": "stdout",
     "output_type": "stream",
     "text": [
      "[1, 0, 3, 4, 5]\n",
      "inner =  [1, 1, 3, 4, 5]\n",
      "[0, 1, 3, 4, 5]\n",
      "[0, 1, 3, 4, 5]\n",
      "[0, 1, 3, 4, 5]\n",
      "sorted Data =  [0, 1, 3, 4, 5]\n"
     ]
    }
   ],
   "source": [
    "#assending dari depan\n",
    "def insertionSort(listData):\n",
    "    for i in range(1,len(listData)):\n",
    "        print(listData)\n",
    "        key =  listData[i]\n",
    "        idx = i\n",
    "        while idx>0 and listData[idx-1] > key :\n",
    "            listData[idx] = listData[idx-1]\n",
    "            idx-= 1\n",
    "            print('inner = ',listData)\n",
    "        listData[idx] = key\n",
    "    print('sorted Data = ',listData)\n",
    "    \n",
    "insertionSort([1,0,3,4,5])"
   ]
  },
  {
   "cell_type": "code",
   "execution_count": 65,
   "id": "2054237e",
   "metadata": {},
   "outputs": [
    {
     "name": "stdout",
     "output_type": "stream",
     "text": [
      "[1, 0, 3, 4, 5]\n",
      "[1, 0, 3, 4, 5]\n",
      "[1, 0, 3, 4, 5]\n",
      "[1, 0, 3, 4, 5]\n",
      "inner =  [1, 1, 3, 4, 5]\n",
      "[0, 1, 3, 4, 5]\n",
      "sorted Data =  [0, 1, 3, 4, 5]\n"
     ]
    }
   ],
   "source": [
    "#assending dari belakang\n",
    "def insertionSort(listData):\n",
    "    for i in range(len(listData)-1,-1,-1):\n",
    "        print(listData)\n",
    "        key =  listData[i]\n",
    "        idx = i\n",
    "        while idx>0 and listData[idx-1] > key :\n",
    "            listData[idx] = listData[idx-1]\n",
    "            idx-= 1\n",
    "            print('inner = ',listData)\n",
    "        listData[idx] = key\n",
    "    print('sorted Data = ',listData)\n",
    "    \n",
    "insertionSort([1,0,3,4,5])"
   ]
  },
  {
   "cell_type": "code",
   "execution_count": 67,
   "id": "6b895492",
   "metadata": {},
   "outputs": [
    {
     "name": "stdout",
     "output_type": "stream",
     "text": [
      "[5, 4, 3, 2, 1, 10]\n",
      "[5, 4, 3, 2, 1, 10]\n",
      "[5, 4, 3, 2, 1, 10]\n",
      "[5, 4, 3, 2, 1, 10]\n",
      "[5, 4, 3, 2, 1, 10]\n",
      "inner =  [5, 4, 3, 2, 1, 1]\n",
      "inner =  [5, 4, 3, 2, 2, 1]\n",
      "inner =  [5, 4, 3, 3, 2, 1]\n",
      "inner =  [5, 4, 4, 3, 2, 1]\n",
      "inner =  [5, 5, 4, 3, 2, 1]\n",
      "sorted Data =  [10, 5, 4, 3, 2, 1]\n"
     ]
    }
   ],
   "source": [
    "# decending dari depan\n",
    "def insertionSort(listData):\n",
    "    for i in range(1,len(listData)):\n",
    "        print(listData)\n",
    "        key =  listData[i]\n",
    "        idx = i\n",
    "        while idx>0 and listData[idx-1] < key :\n",
    "            listData[idx] = listData[idx-1]\n",
    "            idx-= 1\n",
    "            print('inner = ',listData)\n",
    "        listData[idx] = key\n",
    "    print('sorted Data = ',listData)\n",
    "    \n",
    "insertionSort([5,4,3,2,1,10])"
   ]
  },
  {
   "cell_type": "code",
   "execution_count": 69,
   "id": "48745044",
   "metadata": {},
   "outputs": [
    {
     "name": "stdout",
     "output_type": "stream",
     "text": [
      "[5, 4, 3, 2, 10]\n",
      "inner =  [5, 4, 3, 2, 2]\n",
      "inner =  [5, 4, 3, 3, 2]\n",
      "inner =  [5, 4, 4, 3, 2]\n",
      "inner =  [5, 5, 4, 3, 2]\n",
      "[10, 5, 4, 3, 2]\n",
      "[10, 5, 4, 3, 2]\n",
      "[10, 5, 4, 3, 2]\n",
      "[10, 5, 4, 3, 2]\n",
      "sorted Data =  [10, 5, 4, 3, 2]\n"
     ]
    }
   ],
   "source": [
    "# decending dari belakang\n",
    "def insertionSort(listData):\n",
    "    for i in range(len(listData)-1,-1,-1):\n",
    "        print(listData)\n",
    "        key =  listData[i]\n",
    "        idx = i\n",
    "        while idx>0 and listData[idx-1] < key :\n",
    "            listData[idx] = listData[idx-1]\n",
    "            idx-= 1\n",
    "            print('inner = ',listData)\n",
    "        listData[idx] = key\n",
    "    print('sorted Data = ',listData)\n",
    "    \n",
    "insertionSort([5,4,3,2,10])"
   ]
  }
 ],
 "metadata": {
  "kernelspec": {
   "display_name": "Python 3 (ipykernel)",
   "language": "python",
   "name": "python3"
  },
  "language_info": {
   "codemirror_mode": {
    "name": "ipython",
    "version": 3
   },
   "file_extension": ".py",
   "mimetype": "text/x-python",
   "name": "python",
   "nbconvert_exporter": "python",
   "pygments_lexer": "ipython3",
   "version": "3.9.12"
  }
 },
 "nbformat": 4,
 "nbformat_minor": 5
}
