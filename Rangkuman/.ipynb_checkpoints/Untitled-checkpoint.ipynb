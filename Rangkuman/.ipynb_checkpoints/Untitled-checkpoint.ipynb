{
 "cells": [
  {
   "cell_type": "code",
   "execution_count": 1,
   "id": "3b334615",
   "metadata": {},
   "outputs": [
    {
     "data": {
      "text/plain": [
       "['C:\\\\Users\\\\Muhammad Alivian\\\\Struktur Data\\\\Untitled Folder',\n",
       " 'C:\\\\Users\\\\Muhammad Alivian\\\\anaconda3\\\\python39.zip',\n",
       " 'C:\\\\Users\\\\Muhammad Alivian\\\\anaconda3\\\\DLLs',\n",
       " 'C:\\\\Users\\\\Muhammad Alivian\\\\anaconda3\\\\lib',\n",
       " 'C:\\\\Users\\\\Muhammad Alivian\\\\anaconda3',\n",
       " '',\n",
       " 'C:\\\\Users\\\\Muhammad Alivian\\\\anaconda3\\\\lib\\\\site-packages',\n",
       " 'C:\\\\Users\\\\Muhammad Alivian\\\\anaconda3\\\\lib\\\\site-packages\\\\win32',\n",
       " 'C:\\\\Users\\\\Muhammad Alivian\\\\anaconda3\\\\lib\\\\site-packages\\\\win32\\\\lib',\n",
       " 'C:\\\\Users\\\\Muhammad Alivian\\\\anaconda3\\\\lib\\\\site-packages\\\\Pythonwin',\n",
       " '../']"
      ]
     },
     "execution_count": 1,
     "metadata": {},
     "output_type": "execute_result"
    }
   ],
   "source": [
    "import sys\n",
    "sys.path.append(\"../\")\n",
    "sys.path"
   ]
  },
  {
   "cell_type": "code",
   "execution_count": 2,
   "id": "e8424aa6",
   "metadata": {},
   "outputs": [],
   "source": [
    "from stack import *"
   ]
  },
  {
   "cell_type": "code",
   "execution_count": null,
   "id": "77c7d6eb",
   "metadata": {},
   "outputs": [],
   "source": [
    "def penjumlahanStc(bil1,bil2):\n",
    "    Stack1 = stack()\n",
    "    Stack2 = stack()\n",
    "    for i in bil1 :\n",
    "        push(Stack1,i)\n",
    "    for j in bil2 :\n",
    "        push(Stack2, j) \n",
    "    print(\"stack bil1 = \",Stack1)\n",
    "    print(\"stack bil2 = \",Stack2)\n",
    "    temp=\"\"\n",
    "    hsl=0\n",
    "    while not(isEmpty(Stack1) or isEmpty(Stack2)) :\n",
    "        hsl += int(pop(Stack1))+ int(pop(Stack2))\n",
    "        hsl = str(hsl)\n",
    "        if len(hsl) > 1:\n",
    "            temp=hsl[1]+temp\n",
    "            hsl = int(hsl[0])\n",
    "        else:\n",
    "            temp=hsl+temp\n",
    "            hsl=0\n",
    "        print(Stack1,Stack2)\n",
    "    if not isEmpty(Stack1):\n",
    "        x=Stack1\n",
    "    else:\n",
    "        x=Stack2\n",
    "    if hsl != 0 and not isEmpty(x):\n",
    "        temp=str(hsl+int(pop(x)))+temp\n",
    "    elif hsl != 0:\n",
    "        temp=str(hsl)+temp\n",
    "    while not isEmpty(x):\n",
    "        temp=pop(x)+temp\n",
    "    print(temp)\n",
    "        \n",
    "penjumlahanStc(\"1234\",\"12345\")"
   ]
  },
  {
   "cell_type": "code",
   "execution_count": null,
   "id": "6acb32d0",
   "metadata": {},
   "outputs": [],
   "source": [
    "1234+12345"
   ]
  },
  {
   "cell_type": "code",
   "execution_count": 21,
   "id": "e5ff2562",
   "metadata": {},
   "outputs": [
    {
     "name": "stdout",
     "output_type": "stream",
     "text": [
      "stack bil1=  ['9', '8', '7', '6', '5']\n",
      "stack bil1=  ['5']\n",
      "jumlah =  14  stcak hasil =  [4]  sisa  1\n",
      "stack bil1=  ['8', '7', '6', '5']\n",
      "stack bil1=  []\n",
      "jumlah =  9  stcak hasil =  [9, 4]  sisa  0\n",
      "stack bil1=  ['7', '6', '5']\n",
      "stack bil1=  []\n",
      "jumlah =  7  stcak hasil =  [7, 9, 4]  sisa  0\n",
      "stack bil1=  ['6', '5']\n",
      "stack bil1=  []\n",
      "jumlah =  6  stcak hasil =  [6, 7, 9, 4]  sisa  0\n",
      "stack bil1=  ['5']\n",
      "stack bil1=  []\n",
      "jumlah =  5  stcak hasil =  [5, 6, 7, 9, 4]  sisa  0\n",
      "[5, 6, 7, 9, 4]\n",
      "56789  +  5  =  56794\n"
     ]
    }
   ],
   "source": [
    "def penjumlahanStack(bil1,bil2):\n",
    "    stc1 = stack()\n",
    "    stc2 = stack()\n",
    "    stcHsl = stack()\n",
    "    for i in bil1 :\n",
    "        push(stc1,i)\n",
    "    for j in bil2 :\n",
    "        push(stc2,j)\n",
    "    if size(stc1) > size(stc2):\n",
    "        maxStc = stc1\n",
    "        minStc = stc2\n",
    "    else:\n",
    "        maxStc = stc2\n",
    "        minStc = stc1\n",
    "        \n",
    "    hsl=0\n",
    "    while not isEmpty(maxStc):\n",
    "        print(\"stack bil1= \",stc1)\n",
    "        print(\"stack bil1= \",stc2)\n",
    "        if isEmpty(minStc):\n",
    "            hsl+= int(pop(maxStc))\n",
    "        else:\n",
    "            hsl +=int(pop(stc1)) + int(pop(stc2))\n",
    "        if hsl >=10:\n",
    "            puluhan = hsl//10\n",
    "            satuan = hsl %10\n",
    "        else:\n",
    "            satuan = hsl\n",
    "            puluhan = 0\n",
    "        push(stcHsl,int(satuan))\n",
    "        print(\"jumlah = \",hsl,\" stcak hasil = \",stcHsl,\" sisa \",puluhan)\n",
    "        hsl = puluhan\n",
    "    if hsl !=0:\n",
    "        push(stcHsl,hsl)\n",
    "    print(stcHsl)\n",
    "    temp=\"\"\n",
    "    while not isEmpty(stcHsl):\n",
    "        temp+=str(pop(stcHsl))\n",
    "    print(bil1,\" + \",bil2,\" = \",temp)\n",
    "            \n",
    "            \n",
    "penjumlahanStack(\"56789\",\"5\")"
   ]
  },
  {
   "cell_type": "code",
   "execution_count": 20,
   "id": "b7eb7af5",
   "metadata": {},
   "outputs": [
    {
     "data": {
      "text/plain": [
       "56794"
      ]
     },
     "execution_count": 20,
     "metadata": {},
     "output_type": "execute_result"
    }
   ],
   "source": [
    "56789+5"
   ]
  },
  {
   "cell_type": "code",
   "execution_count": null,
   "id": "48dbc581",
   "metadata": {},
   "outputs": [],
   "source": [
    "def faktorPembagi(num1,num2):\n",
    "    arr = []\n",
    "    if num1 > num2:\n",
    "        minn = num2\n",
    "    else:\n",
    "        minn = num1\n",
    "    for i in range(1,minn):\n",
    "        if num1%i == 0 and num2%i==0:\n",
    "            arr.append(i)\n",
    "    return arr\n",
    "        \n",
    "faktorPembagi(36,48)"
   ]
  },
  {
   "cell_type": "code",
   "execution_count": null,
   "id": "538424e3",
   "metadata": {},
   "outputs": [],
   "source": [
    "def bubbleSort(arr):\n",
    "    print(\"Data awal = \",arr)\n",
    "    for i in range(len(arr)-1):\n",
    "        print(f\"Iterasi utama ke-{i+1} = {arr}\")\n",
    "        for j in range(len(arr)-1,i,-1):\n",
    "            if arr[j-1] <arr[j] :\n",
    "                arr[j-1],arr[j]=arr[j],arr[j-1]\n",
    "            print(f\"{len(arr)-j} : data[{j},{j-1}] = {arr[j-1]} dan {arr[j]} -> {arr}\")\n",
    "        print(\"\")\n",
    "    print(f\"Data terurut = {arr}\")\n",
    "        \n",
    "bubbleSort([1,12,50,75,83,126])"
   ]
  },
  {
   "cell_type": "code",
   "execution_count": null,
   "id": "1d43be7c",
   "metadata": {},
   "outputs": [],
   "source": [
    "def des2Hex(des):\n",
    "    StcHex = stack()\n",
    "    Hex = \"\"\n",
    "    dictHex = {10:\"A\",11:\"B\",12:\"C\",13:\"D\",14:\"E\",15:\"F\"}\n",
    "    while des != 0:\n",
    "        hasil = des%16\n",
    "        if hasil > 10 :\n",
    "            push(StcHex,dictHex[hasil])\n",
    "        else:\n",
    "            push(StcHex,hasil)\n",
    "        des //= 16\n",
    "    while not isEmpty(StcHex):\n",
    "        Hex+=str(pop(StcHex))\n",
    "    return Hex\n",
    "print(des2Hex(10846))        "
   ]
  }
 ],
 "metadata": {
  "kernelspec": {
   "display_name": "Python 3 (ipykernel)",
   "language": "python",
   "name": "python3"
  },
  "language_info": {
   "codemirror_mode": {
    "name": "ipython",
    "version": 3
   },
   "file_extension": ".py",
   "mimetype": "text/x-python",
   "name": "python",
   "nbconvert_exporter": "python",
   "pygments_lexer": "ipython3",
   "version": "3.9.12"
  }
 },
 "nbformat": 4,
 "nbformat_minor": 5
}
