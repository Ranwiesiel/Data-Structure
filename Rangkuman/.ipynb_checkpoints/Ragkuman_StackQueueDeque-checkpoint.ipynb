{
 "cells": [
  {
   "cell_type": "markdown",
   "id": "493e869b",
   "metadata": {},
   "source": [
    "## Stack"
   ]
  },
  {
   "cell_type": "code",
   "execution_count": 47,
   "id": "07c2580b",
   "metadata": {},
   "outputs": [
    {
     "name": "stdout",
     "output_type": "stream",
     "text": [
      "[1, 3, 5, 9, 15, 45]\n"
     ]
    }
   ],
   "source": [
    "def fpdouble(akg1,akg2) :\n",
    "    hs   = []\n",
    "    if akg1 > akg2 :\n",
    "        akg = akg1\n",
    "    else :\n",
    "        akg = akg2\n",
    "    \n",
    "    for i in range(1,akg+1) :\n",
    "        if akg1 % i == 0 and akg2 % i == 0 :\n",
    "            hs.append(i)\n",
    "            \n",
    "    return hs\n",
    "\n",
    "fp = fpdouble(225,45)\n",
    "print(fp)"
   ]
  },
  {
   "cell_type": "code",
   "execution_count": 16,
   "id": "052fc76a",
   "metadata": {},
   "outputs": [
    {
     "data": {
      "text/plain": [
       "79"
      ]
     },
     "execution_count": 16,
     "metadata": {},
     "output_type": "execute_result"
    }
   ],
   "source": [
    "39+40"
   ]
  },
  {
   "cell_type": "code",
   "execution_count": 48,
   "id": "b006ac66",
   "metadata": {},
   "outputs": [
    {
     "data": {
      "text/plain": [
       "[1, 3, 5, 9, 15, 45]"
      ]
     },
     "execution_count": 48,
     "metadata": {},
     "output_type": "execute_result"
    }
   ],
   "source": [
    "def fpba(agk,agk1):\n",
    "    rst = []\n",
    "    for i in range(1,agk+1):\n",
    "        if agk%i ==0 and agk1%i==0:\n",
    "            rst.append(i)\n",
    "    return rst\n",
    "fpba(225,45)"
   ]
  },
  {
   "cell_type": "code",
   "execution_count": 49,
   "id": "ad86e54f",
   "metadata": {},
   "outputs": [],
   "source": [
    "def stack():\n",
    "    s=[]\n",
    "    return (s)\n",
    "def push(s,data):\n",
    "    s.append(data)\n",
    "def pop(s):\n",
    "    data = s.pop()\n",
    "    return (data)\n",
    "def peek(s):\n",
    "    return (s[len(s)-1])\n",
    "def isEmpty(s):\n",
    "    return (s == [])\n",
    "def size(s):\n",
    "    return (len(s))"
   ]
  },
  {
   "cell_type": "code",
   "execution_count": 50,
   "id": "65e2ee7a",
   "metadata": {},
   "outputs": [
    {
     "name": "stdout",
     "output_type": "stream",
     "text": [
      "[10, 1, 5, 3, 7]\n"
     ]
    }
   ],
   "source": [
    "data=stack()\n",
    "isEmpty(data)\n",
    "data=[10,1,5,3,7]\n",
    "push(data,pop(data))\n",
    "print(data)"
   ]
  },
  {
   "cell_type": "code",
   "execution_count": 51,
   "id": "4e43d42a",
   "metadata": {},
   "outputs": [
    {
     "name": "stdout",
     "output_type": "stream",
     "text": [
      "[10, 1, 5, 3, 7, 100, 23]\n"
     ]
    }
   ],
   "source": [
    "push(data,100)\n",
    "push(data,23)\n",
    "push(data,34)\n",
    "pop(data)\n",
    "push(data,56)\n",
    "pop(data)\n",
    "print(data)"
   ]
  },
  {
   "cell_type": "code",
   "execution_count": 52,
   "id": "0cef8c66",
   "metadata": {},
   "outputs": [
    {
     "name": "stdout",
     "output_type": "stream",
     "text": [
      "[23, 100]\n"
     ]
    }
   ],
   "source": [
    "data=stack()\n",
    "def push(s,data):\n",
    "    s.insert(0,data)\n",
    "def pop(s):\n",
    "    data = s.pop(0)\n",
    "    return (data)\n",
    "def peek(s):\n",
    "    return (s[0])\n",
    "\n",
    "push(data,100)\n",
    "push(data,23)\n",
    "push(data,34)\n",
    "pop(data)\n",
    "push(data,56)\n",
    "pop(data)\n",
    "print(data)"
   ]
  },
  {
   "cell_type": "code",
   "execution_count": 46,
   "id": "8a7ed8ab",
   "metadata": {},
   "outputs": [
    {
     "data": {
      "text/plain": [
       "'uka'"
      ]
     },
     "execution_count": 46,
     "metadata": {},
     "output_type": "execute_result"
    }
   ],
   "source": [
    "# Membalik kata\n",
    "def reverseWord(strChr):\n",
    "    stc = stack()\n",
    "    for i in strChr:\n",
    "        push(stc,i)\n",
    "    hsl=''\n",
    "    while not isEmpty(stc):\n",
    "        hsl+=pop(stc)\n",
    "    return hsl\n",
    "reverseWord('aku')"
   ]
  },
  {
   "cell_type": "code",
   "execution_count": 56,
   "id": "609f4d3b",
   "metadata": {},
   "outputs": [
    {
     "name": "stdout",
     "output_type": "stream",
     "text": [
      "10100\n"
     ]
    }
   ],
   "source": [
    "def des2Bin(des):\n",
    "    binStc=stack()\n",
    "    while des!=0:\n",
    "        push(binStc,des%2)\n",
    "        des//=2\n",
    "    rslt=''\n",
    "    while not isEmpty(binStc):\n",
    "        rslt+=str(pop(binStc))\n",
    "    return rslt\n",
    "print(des2Bin(20))"
   ]
  },
  {
   "cell_type": "code",
   "execution_count": 107,
   "id": "5e1fc7c6",
   "metadata": {},
   "outputs": [
    {
     "data": {
      "text/plain": [
       "'Kelebihan kurung Tutup'"
      ]
     },
     "execution_count": 107,
     "metadata": {},
     "output_type": "execute_result"
    }
   ],
   "source": [
    "def parenthesesCheck(strMath):\n",
    "    kurung={')':'(','}':'{',']':'['}\n",
    "    kurungBuka=kurung.values()\n",
    "    kurungTutup=kurung.keys()\n",
    "    temp=stack()\n",
    "    matched=True\n",
    "    for ch in strMath:\n",
    "        if ch in kurungBuka: # if ch in kurung.values()\n",
    "            push(temp,ch)\n",
    "        if ch in kurungTutup: #if ch in kurung.keys()\n",
    "            if isEmpty(temp):\n",
    "                return 'Kelebihan kurung Tutup'\n",
    "            else:\n",
    "                tempKurung=pop(temp)\n",
    "                if tempKurung==kurung[ch]:\n",
    "                    matched=matched and True\n",
    "                else:\n",
    "                    matched=matched and False\n",
    "    if not(isEmpty(temp)):\n",
    "        return 'Kelebihan Kurung Buka'\n",
    "    if matched==True:\n",
    "        return 'OK'\n",
    "    else:\n",
    "        return 'Tidak Cocok kurungnya'\n",
    "    \n",
    "parenthesesCheck('{5+2}*3)')"
   ]
  },
  {
   "cell_type": "code",
   "execution_count": 96,
   "id": "aa5eb06f",
   "metadata": {},
   "outputs": [
    {
     "data": {
      "text/plain": [
       "True"
      ]
     },
     "execution_count": 96,
     "metadata": {},
     "output_type": "execute_result"
    }
   ],
   "source": [
    "def paranthesesCheck(strMath):\n",
    "    operandStack=stack()\n",
    "    lenMath=len(strMath)\n",
    "    openOperand='({['\n",
    "    closeOperand=')}]'\n",
    "     #print(lenMath)\n",
    "    i=0\n",
    "    Matched=True;\n",
    "    while i<(lenMath):\n",
    "        #print(i,'=',strMath[i])\n",
    "        if strMath[i] in openOperand:\n",
    "            push(operandStack,strMath[i])\n",
    "            #print(operandStack)\n",
    "        elif strMath[i] in closeOperand:\n",
    "            if not (isEmpty(operandStack)):\n",
    "                top=pop(operandStack)\n",
    "                #print(\"top=\",top)\n",
    "                #print (operandStack)\n",
    "                if openOperand.index(top)==closeOperand.index(strMath[i]):\n",
    "                    Matched=Matched and True\n",
    "                else:\n",
    "                    Matched=Matched and False\n",
    "                    print ('Kurung Buka dan Kurang Tutup tidak Cocok')\n",
    "            else:\n",
    "                Matched=Matched and False\n",
    "                print('Jumlah Kurung Tutup lebih banyak')\n",
    "        i=i+1\n",
    "        #print(Matched)\n",
    "    if not(isEmpty(operandStack)):\n",
    "        Matched=False\n",
    "        print('Jumlah Kurung Buka Lebih banyak')\n",
    "    return(Matched)\n",
    "    \n",
    "\n",
    "paranthesesCheck('[5 x 4 + 5] / ((3 + 2) x (10 - 8))')"
   ]
  },
  {
   "cell_type": "code",
   "execution_count": 75,
   "id": "2924d41c",
   "metadata": {},
   "outputs": [
    {
     "name": "stdout",
     "output_type": "stream",
     "text": [
      "16F\n"
     ]
    }
   ],
   "source": [
    "def des2Hex(des):\n",
    "    stcHex = stack()\n",
    "    Hex = \"\"\n",
    "    dictHex = {10:\"A\",11:\"B\",12:\"C\",13:\"D\",14:\"E\",15:\"F\"}\n",
    "    while des != 0:\n",
    "        hasil = des%16\n",
    "        if hasil >= 10 :\n",
    "            push(stcHex,dictHex[hasil])\n",
    "        else:\n",
    "            push(stcHex,hasil)\n",
    "        des //= 16\n",
    "    while not isEmpty(stcHex):\n",
    "        Hex+=str(pop(stcHex))\n",
    "    return Hex\n",
    "print(des2Hex(367))        "
   ]
  },
  {
   "cell_type": "code",
   "execution_count": 78,
   "id": "744db9bc",
   "metadata": {},
   "outputs": [
    {
     "name": "stdout",
     "output_type": "stream",
     "text": [
      "read token- 1  :  (\n",
      "stack :  ['('] \n",
      "\n",
      "read token- 2  :  (\n",
      "stack :  ['(', '('] \n",
      "\n",
      "read token- 3  :  A\n",
      "stack :  ['(', '('] \n",
      "\n",
      "read token- 4  :  +\n",
      "stack :  ['+', '(', '('] \n",
      "\n",
      "read token- 5  :  B\n",
      "stack :  ['+', '(', '('] \n",
      "\n",
      "read token- 6  :  )\n",
      "stack :  ['('] \n",
      "\n",
      "read token- 7  :  *\n",
      "stack :  ['*', '('] \n",
      "\n",
      "read token- 8  :  (\n",
      "stack :  ['(', '*', '('] \n",
      "\n",
      "read token- 9  :  C\n",
      "stack :  ['(', '*', '('] \n",
      "\n",
      "read token- 10  :  -\n",
      "stack :  ['-', '(', '*', '('] \n",
      "\n",
      "read token- 11  :  D\n",
      "stack :  ['-', '(', '*', '('] \n",
      "\n",
      "read token- 12  :  )\n",
      "stack :  ['*', '('] \n",
      "\n",
      "read token- 13  :  )\n",
      "stack :  [] \n",
      "\n",
      "read token- 14  :  /\n",
      "stack :  ['/'] \n",
      "\n",
      "read token- 15  :  F\n",
      "stack :  ['/'] \n",
      "\n",
      "((A+B)*(C-D))/F : AB+CD-*F/\n"
     ]
    }
   ],
   "source": [
    "# Infix to Postfix\n",
    "def inf2Post(strMath):\n",
    "    \n",
    "    hasil = \"\"\n",
    "    oprStc = stack()\n",
    "    opr = {'*':2,'/':2,'+':1,'-':1}\n",
    "    count=0\n",
    "    \n",
    "    for i in strMath :\n",
    "        count+=1\n",
    "        print('read token-',count,\" : \",i)\n",
    "        \n",
    "        if i == '(':\n",
    "            push(oprStc,i)\n",
    "            \n",
    "        elif i == ')':\n",
    "            while peek(oprStc) != '(':\n",
    "                hasil+=pop(oprStc)\n",
    "            pop(oprStc)\n",
    "            \n",
    "        elif i in opr.keys():\n",
    "            while not(isEmpty(oprStc)) and peek(oprStc) != '(' and opr[i] <= opr[peek(oprStc)]:\n",
    "                hasil+=pop(oprStc)\n",
    "            push(oprStc,i)\n",
    "            \n",
    "        else:\n",
    "            hasil+=i\n",
    "            \n",
    "        print('stack : ',oprStc,\"\\n\")\n",
    "        \n",
    "    while not isEmpty(oprStc):\n",
    "        hasil+= pop(oprStc)\n",
    "        \n",
    "    return (strMath+\" : \"+hasil)\n",
    "    \n",
    "print(inf2Post('((A+B)*(C-D))/F'))"
   ]
  },
  {
   "cell_type": "code",
   "execution_count": 161,
   "id": "37ca5c07",
   "metadata": {},
   "outputs": [
    {
     "name": "stdout",
     "output_type": "stream",
     "text": [
      "read token- 1  :  F\n",
      "stack :  [] \n",
      "\n",
      "read token- 2  :  /\n",
      "stack :  ['/'] \n",
      "\n",
      "read token- 3  :  )\n",
      "stack :  [')', '/'] \n",
      "\n",
      "read token- 4  :  )\n",
      "stack :  [')', ')', '/'] \n",
      "\n",
      "read token- 5  :  D\n",
      "stack :  [')', ')', '/'] \n",
      "\n",
      "read token- 6  :  -\n",
      "stack :  ['-', ')', ')', '/'] \n",
      "\n",
      "read token- 7  :  C\n",
      "stack :  ['-', ')', ')', '/'] \n",
      "\n",
      "read token- 8  :  (\n",
      "stack :  [')', '/'] \n",
      "\n",
      "read token- 9  :  *\n",
      "stack :  ['*', ')', '/'] \n",
      "\n",
      "read token- 10  :  )\n",
      "stack :  [')', '*', ')', '/'] \n",
      "\n",
      "read token- 11  :  B\n",
      "stack :  [')', '*', ')', '/'] \n",
      "\n",
      "read token- 12  :  +\n",
      "stack :  ['+', ')', '*', ')', '/'] \n",
      "\n",
      "read token- 13  :  A\n",
      "stack :  ['+', ')', '*', ')', '/'] \n",
      "\n",
      "read token- 14  :  (\n",
      "stack :  ['*', ')', '/'] \n",
      "\n",
      "read token- 15  :  (\n",
      "stack :  ['/'] \n",
      "\n",
      "((A+B)*(C-D))/F : /*+AB-CDF\n"
     ]
    }
   ],
   "source": [
    "# Infix to Prefix\n",
    "def inf2Prefix(strMath):\n",
    "    \n",
    "    hasil = \"\"\n",
    "    oprStc = stack()\n",
    "    opr = {'*':2,'/':2,'+':1,'-':1}\n",
    "    count=0\n",
    "    revStrMath = strMath[::-1]\n",
    "    \n",
    "    for i in revStrMath :\n",
    "        count+=1\n",
    "        print('read token-',count,\" : \",i)\n",
    "        \n",
    "        if i == ')':\n",
    "            push(oprStc,i)\n",
    "            \n",
    "        elif i == '(':\n",
    "            while peek(oprStc) != ')':\n",
    "                hasil+=pop(oprStc)\n",
    "            pop(oprStc)\n",
    "            \n",
    "        elif i in opr.keys():\n",
    "            while not(isEmpty(oprStc)) and peek(oprStc) != ')' and opr[i] <= opr[peek(oprStc)]:\n",
    "                hasil+=pop(oprStc)\n",
    "            push(oprStc,i)\n",
    "            \n",
    "        else:\n",
    "            hasil+=i\n",
    "            \n",
    "        print('stack : ',oprStc,\"\\n\")\n",
    "        \n",
    "    while not isEmpty(oprStc):\n",
    "        hasil+= pop(oprStc)\n",
    "       \n",
    "    hasil = hasil[::-1]\n",
    "    return (strMath+\" : \"+hasil)\n",
    "    \n",
    "print(inf2Prefix('((A+B)*(C-D))/F'))"
   ]
  },
  {
   "cell_type": "code",
   "execution_count": 162,
   "id": "fa3c07e4",
   "metadata": {},
   "outputs": [
    {
     "name": "stdout",
     "output_type": "stream",
     "text": [
      "read token- 1  :  2\n",
      "stack :  ['2'] \n",
      "\n",
      "read token- 2  :  5\n",
      "stack :  ['5', '2'] \n",
      "\n",
      "read token- 3  :  6\n",
      "stack :  ['6', '5', '2'] \n",
      "\n",
      "read token- 4  :  4\n",
      "stack :  ['4', '6', '5', '2'] \n",
      "\n",
      "read token- 5  :  +\n",
      "stack :  ['(4+6)', '5', '2'] \n",
      "\n",
      "read token- 6  :  *\n",
      "stack :  ['((4+6)*5)', '2'] \n",
      "\n",
      "read token- 7  :  -\n",
      "stack :  ['(((4+6)*5)-2)'] \n",
      "\n"
     ]
    },
    {
     "data": {
      "text/plain": [
       "'(((4+6)*5)-2)'"
      ]
     },
     "execution_count": 162,
     "metadata": {},
     "output_type": "execute_result"
    }
   ],
   "source": [
    "# prefix to Infix\n",
    "def Pref2Infix(strPost):\n",
    "    opr = {'*':2,'/':2,'+':1,'-':1}\n",
    "    oprndStc = stack()\n",
    "    result = ''  \n",
    "    count=1\n",
    "    for i in strPost[::-1]:\n",
    "        print('read token-',count,' : ',i)\n",
    "        if i not in opr.keys():\n",
    "            push(oprndStc,i)\n",
    "        else:\n",
    "            oprnd1=pop(oprndStc)\n",
    "            oprnd2=pop(oprndStc)\n",
    "            math='('+oprnd1+i+oprnd2+')'\n",
    "            push(oprndStc,math)\n",
    "        count+=1\n",
    "        print('stack : ',oprndStc,'\\n')\n",
    "    while not isEmpty(oprndStc):\n",
    "        result+=pop(oprndStc)\n",
    "    return result\n",
    "   \n",
    "Pref2Infix('-*+4652')"
   ]
  },
  {
   "cell_type": "code",
   "execution_count": 165,
   "id": "ea3bd876",
   "metadata": {},
   "outputs": [
    {
     "name": "stdout",
     "output_type": "stream",
     "text": [
      "read token- 1  :  4\n",
      "stack :  ['4'] \n",
      "\n",
      "read token- 2  :  6\n",
      "stack :  ['6', '4'] \n",
      "\n",
      "read token- 3  :  5\n",
      "stack :  ['5', '6', '4'] \n",
      "\n",
      "read token- 4  :  2\n",
      "stack :  ['2', '5', '6', '4'] \n",
      "\n",
      "read token- 5  :  -\n",
      "stack :  ['(5-2)', '6', '4'] \n",
      "\n",
      "read token- 6  :  *\n",
      "stack :  ['(6*(5-2))', '4'] \n",
      "\n",
      "read token- 7  :  +\n",
      "stack :  ['(4+(6*(5-2)))'] \n",
      "\n"
     ]
    },
    {
     "data": {
      "text/plain": [
       "'(4+(6*(5-2)))'"
      ]
     },
     "execution_count": 165,
     "metadata": {},
     "output_type": "execute_result"
    }
   ],
   "source": [
    "# Postfix to Infix\n",
    "def Post2Infix(strPost):\n",
    "    opr = {'*':2,'/':2,'+':1,'-':1}\n",
    "    oprndStc = stack()\n",
    "    result = ''\n",
    "    count=1\n",
    "    for i in strPost:\n",
    "        print('read token-',count,' : ',i)\n",
    "        if i not in opr.keys():\n",
    "            push(oprndStc,i)\n",
    "        else:\n",
    "            oprnd1=pop(oprndStc)\n",
    "            oprnd2=pop(oprndStc)\n",
    "            math='('+oprnd2+i+oprnd1+')'\n",
    "            push(oprndStc,math)\n",
    "        count+=1\n",
    "        print('stack : ',oprndStc,'\\n')\n",
    "    while not isEmpty(oprndStc):\n",
    "        result+=pop(oprndStc)\n",
    "    return result\n",
    "   \n",
    "Post2Infix('4652-*+')"
   ]
  },
  {
   "cell_type": "code",
   "execution_count": 167,
   "id": "cd64c5ba",
   "metadata": {},
   "outputs": [
    {
     "name": "stdout",
     "output_type": "stream",
     "text": [
      "read token- 1  :  C\n",
      "stack :  ['C'] \n",
      "\n",
      "read token- 2  :  B\n",
      "stack :  ['B', 'C'] \n",
      "\n",
      "read token- 3  :  A\n",
      "stack :  ['A', 'B', 'C'] \n",
      "\n",
      "read token- 4  :  +\n",
      "stack :  ['AB+', 'C'] \n",
      "\n",
      "read token- 5  :  *\n",
      "stack :  ['AB+C*'] \n",
      "\n"
     ]
    },
    {
     "data": {
      "text/plain": [
       "'AB+C*'"
      ]
     },
     "execution_count": 167,
     "metadata": {},
     "output_type": "execute_result"
    }
   ],
   "source": [
    "#Prefix to PostFix\n",
    "def pre2Post(strPre):\n",
    "    opr = {'*':2,'/':2,'+':1,'-':1}\n",
    "    oprndStc = stack()\n",
    "    result = ''\n",
    "    count=1\n",
    "    for i in strPre[::-1]:\n",
    "        print('read token-',count,' : ',i)\n",
    "        if i not in opr.keys():\n",
    "            push(oprndStc,i)\n",
    "        elif i in opr.keys():\n",
    "            oprnd1=pop(oprndStc)\n",
    "            oprnd2=pop(oprndStc)\n",
    "            new = oprnd1 + oprnd2+i\n",
    "            push(oprndStc,new)\n",
    "        print('stack : ',oprndStc,'\\n')\n",
    "        count+=1\n",
    "    while not isEmpty(oprndStc):\n",
    "        result+=pop(oprndStc)\n",
    "    return result\n",
    "pre2Post('*+ABC')"
   ]
  },
  {
   "cell_type": "code",
   "execution_count": 112,
   "id": "615bb028",
   "metadata": {},
   "outputs": [
    {
     "name": "stdout",
     "output_type": "stream",
     "text": [
      "read token- 1  :  A\n",
      "stack :  ['A'] \n",
      "\n",
      "read token- 2  :  B\n",
      "stack :  ['B', 'A'] \n",
      "\n",
      "read token- 3  :  +\n",
      "stack :  ['+AB'] \n",
      "\n",
      "read token- 4  :  C\n",
      "stack :  ['C', '+AB'] \n",
      "\n",
      "read token- 5  :  *\n",
      "stack :  ['*+ABC'] \n",
      "\n"
     ]
    },
    {
     "data": {
      "text/plain": [
       "'*+ABC'"
      ]
     },
     "execution_count": 112,
     "metadata": {},
     "output_type": "execute_result"
    }
   ],
   "source": [
    "#Postfix to Prefix\n",
    "def Post2Pref(strPost):\n",
    "    opr = {'*':2,'/':2,'+':1,'-':1}\n",
    "    oprndStc = stack()\n",
    "    result = ''\n",
    "    count=1\n",
    "    for i in strPost:\n",
    "        print('read token-',count,' : ',i)\n",
    "        if i not in opr.keys():\n",
    "            push(oprndStc,i)\n",
    "        elif i in opr.keys():\n",
    "            oprnd1=pop(oprndStc)\n",
    "            oprnd2=pop(oprndStc)\n",
    "            new = i+oprnd2+oprnd1\n",
    "            push(oprndStc,new)\n",
    "        print('stack : ',oprndStc,'\\n')\n",
    "        count+=1\n",
    "    while not isEmpty(oprndStc):\n",
    "        result+=pop(oprndStc)\n",
    "    return result\n",
    "Post2Pref('AB+C*')"
   ]
  },
  {
   "cell_type": "code",
   "execution_count": 110,
   "id": "8491168b",
   "metadata": {},
   "outputs": [
    {
     "name": "stdout",
     "output_type": "stream",
     "text": [
      "[1]: 3 * 4  =  12.0\n",
      "[2]: 12.0 / 10  =  1.2\n",
      "[3]: 2 + 1.2  =  3.2\n",
      "[4]: 3.2 - 11  =  -7.8\n",
      "[5]: 9 * 2  =  18.0\n",
      "[6]: -7.8 + 18.0  =  10.2\n",
      "10.2\n"
     ]
    }
   ],
   "source": [
    "# Kalkulator PostFix\n",
    "def evaluatePostfix(strPost):\n",
    "    strPost = strPost.split()\n",
    "    oprndStc = stack()\n",
    "    opr = '*/+-'\n",
    "    count=1\n",
    "    \n",
    "    for i in strPost:\n",
    "        if i not in opr:\n",
    "            push(oprndStc,i)\n",
    "            \n",
    "        else:\n",
    "            oprnd1 = pop(oprndStc)\n",
    "            oprnd2 = pop(oprndStc)\n",
    "            \n",
    "            if i == \"*\":\n",
    "                hsl = float(oprnd2) * float(oprnd1)\n",
    "                \n",
    "            elif i == \"/\":\n",
    "                hsl = float(oprnd2) / float(oprnd1)\n",
    "                \n",
    "            elif i == \"-\":\n",
    "                hsl = float(oprnd2) - float(oprnd1)\n",
    "                \n",
    "            elif i == \"+\":\n",
    "                hsl = float(oprnd2) + float(oprnd1)\n",
    "                \n",
    "            print(f\"[{count}]:\",oprnd2,i,oprnd1,\" = \",hsl)\n",
    "            count+=1\n",
    "            push(oprndStc,hsl)\n",
    "            \n",
    "    return pop(oprndStc)\n",
    "\n",
    "print(evaluatePostfix(\"2 3 4 * 10 / + 11 - 9 2 * +\"))"
   ]
  },
  {
   "cell_type": "code",
   "execution_count": 113,
   "id": "9febffe4",
   "metadata": {},
   "outputs": [
    {
     "name": "stdout",
     "output_type": "stream",
     "text": [
      "\n",
      "<html>\n",
      "<body>\n",
      "Praktikum Struktur Data\n",
      "</title>\n",
      "<h1>\n",
      "Stack\n",
      "</h1>\n",
      "</body>\n",
      "</html>\n",
      "\n"
     ]
    },
    {
     "data": {
      "text/plain": [
       "(False,\n",
       " ['Error : ',\n",
       "  '1. Open Tag </title> --> <body>',\n",
       "  '2. Open Tag </body> --> <html>',\n",
       "  '3. Kelebihan Close Tag : </html>'])"
      ]
     },
     "execution_count": 113,
     "metadata": {},
     "output_type": "execute_result"
    }
   ],
   "source": [
    "# Validasi Tag HTML\n",
    "def isValidateTagHTML(strHTML):\n",
    "    strHTML = strHTML.split()\n",
    "    tagHTML = stack()\n",
    "    match = True\n",
    "    pesan = ['Error : ']\n",
    "    no = 1\n",
    "    for i in strHTML:\n",
    "        \n",
    "        if \"</\" in i  and '>' in i :\n",
    "            if isEmpty(tagHTML):\n",
    "                return False , pesan + [f'{no}. Kelebihan Close Tag : {i}']\n",
    "            else:\n",
    "                temp = pop(tagHTML)\n",
    "                if temp[1:-1].lower() == i[2:-1].lower():\n",
    "                    match = match and True\n",
    "                else:\n",
    "                    match = match and False\n",
    "                    pesan.append(f'{no}. Open Tag {i} --> {temp}')\n",
    "                    no+=1\n",
    "\n",
    "        elif \"<\" in i and \">\" in i :\n",
    "            push(tagHTML,i)\n",
    "            \n",
    "    if not(isEmpty(tagHTML)):\n",
    "        return match , pesan + [f\"{no}. Kelebihan Open Tag : {tagHTML[0]}\"]\n",
    "    if match == False:\n",
    "        return match , pesan + [f'{no}. Tag Tidak Sesuai ']\n",
    "    else:\n",
    "        return match\n",
    "\n",
    "inp = \"\"\"\n",
    "<html>\n",
    "<body>\n",
    "Praktikum Struktur Data\n",
    "</title>\n",
    "<h1>\n",
    "Stack\n",
    "</h1>\n",
    "</body>\n",
    "</html>\n",
    "\"\"\"\n",
    "print(inp)\n",
    "isValidateTagHTML(inp)"
   ]
  },
  {
   "cell_type": "code",
   "execution_count": 114,
   "id": "55092c43",
   "metadata": {},
   "outputs": [
    {
     "name": "stdout",
     "output_type": "stream",
     "text": [
      "stack bil1=  ['9', '9', '9']\n",
      "stack bil1=  ['9', '0', '9', '9', '9']\n",
      "jumlah =  18  stcak hasil =  [8]  sisa  1\n",
      "stack bil1=  ['9', '9']\n",
      "stack bil1=  ['0', '9', '9', '9']\n",
      "jumlah =  10  stcak hasil =  [0, 8]  sisa  1\n",
      "stack bil1=  ['9']\n",
      "stack bil1=  ['9', '9', '9']\n",
      "jumlah =  19  stcak hasil =  [9, 0, 8]  sisa  1\n",
      "stack bil1=  []\n",
      "stack bil1=  ['9', '9']\n",
      "jumlah =  10  stcak hasil =  [0, 9, 0, 8]  sisa  1\n",
      "stack bil1=  []\n",
      "stack bil1=  ['9']\n",
      "jumlah =  10  stcak hasil =  [0, 0, 9, 0, 8]  sisa  1\n",
      "[1, 0, 0, 9, 0, 8]\n",
      "999  +  99909  =  100908\n"
     ]
    }
   ],
   "source": [
    "# Penjumlahan dengan Stack\n",
    "def penjumlahanStack(bil1,bil2):\n",
    "    stc1 = stack()\n",
    "    stc2 = stack()\n",
    "    stcHsl = stack()\n",
    "    for i in bil1 :\n",
    "        push(stc1,i)\n",
    "    for j in bil2 :\n",
    "        push(stc2,j)\n",
    "    if size(stc1) > size(stc2):\n",
    "        maxStc = stc1\n",
    "        minStc = stc2\n",
    "    else:\n",
    "        maxStc = stc2\n",
    "        minStc = stc1\n",
    "        \n",
    "    hsl=0\n",
    "    while not isEmpty(maxStc):\n",
    "        print(\"stack bil1= \",stc1)\n",
    "        print(\"stack bil1= \",stc2)\n",
    "        \n",
    "        if isEmpty(minStc):\n",
    "            hsl+= int(pop(maxStc))\n",
    "        else:\n",
    "            hsl +=int(pop(stc1)) + int(pop(stc2))\n",
    "            \n",
    "        if hsl >=10:\n",
    "            puluhan = hsl//10\n",
    "            satuan = hsl %10\n",
    "        else:\n",
    "            satuan = hsl\n",
    "            puluhan = 0\n",
    "        push(stcHsl,int(satuan))\n",
    "        print(\"jumlah = \",hsl,\" stcak hasil = \",stcHsl,\" sisa \",puluhan)\n",
    "        hsl = puluhan\n",
    "    if hsl !=0:\n",
    "        push(stcHsl,hsl)\n",
    "    print(stcHsl)\n",
    "    temp=\"\"\n",
    "    while not isEmpty(stcHsl):\n",
    "        temp+=str(pop(stcHsl))\n",
    "    print(bil1,\" + \",bil2,\" = \",temp)\n",
    "            \n",
    "            \n",
    "penjumlahanStack(\"999\",\"99909\")"
   ]
  },
  {
   "cell_type": "code",
   "execution_count": 115,
   "id": "f6da4b5f",
   "metadata": {},
   "outputs": [
    {
     "data": {
      "text/plain": [
       "0"
      ]
     },
     "execution_count": 115,
     "metadata": {},
     "output_type": "execute_result"
    }
   ],
   "source": [
    "def samaTumpukan(h1,h2,h3):\n",
    "    s1=sum(h1)\n",
    "    s2=sum(h2)\n",
    "    s3=sum(h3)\n",
    "    while h1 and h2 and h3 :\n",
    "        m = min(s1,s2,s3)\n",
    "        while s1 > m:\n",
    "            s1 -= pop(h1)    \n",
    "        while s2 > m:\n",
    "            s2 -= pop(h2)\n",
    "        while s3 > m:\n",
    "            s3 -= pop(h3)\n",
    "        if s1 == s2 == s3:\n",
    "            return s1\n",
    "    return 0\n",
    "\n",
    "samaTumpukan([2,3,2,2],[3,2,4,5],[1,1,1,1,1])"
   ]
  },
  {
   "cell_type": "markdown",
   "id": "c69ccb82",
   "metadata": {},
   "source": [
    "## Queue"
   ]
  },
  {
   "cell_type": "code",
   "execution_count": 1,
   "id": "e0a5a69a",
   "metadata": {},
   "outputs": [],
   "source": [
    "def createQueue():\n",
    "    q=[]\n",
    "    return q\n",
    "def enqueue(q,data):\n",
    "    q.insert(0,data)\n",
    "    return(q)\n",
    "def dequeue(q):\n",
    "    data=q.pop()\n",
    "    return(data)\n",
    "def isEmpty(q):\n",
    "    return (q==[])\n",
    "def size(q):\n",
    "    return (len(q))"
   ]
  },
  {
   "cell_type": "code",
   "execution_count": null,
   "id": "bedac1e6",
   "metadata": {},
   "outputs": [],
   "source": [
    "q =  createQueue()\n",
    "enqueue(q,'matematika')\n",
    "enqueue(q,'struktur data')\n",
    "enqueue(q,'bahasa inggris')\n",
    "enqueue(q,'pemrogramman web')\n",
    "print(q)"
   ]
  },
  {
   "cell_type": "code",
   "execution_count": null,
   "id": "8e210cde",
   "metadata": {},
   "outputs": [],
   "source": [
    "print(q)\n",
    "temp = dequeue(q)\n",
    "print(q)\n",
    "print(temp)"
   ]
  },
  {
   "cell_type": "code",
   "execution_count": null,
   "id": "fb23f135",
   "metadata": {},
   "outputs": [],
   "source": [
    "# Permainan Ular naga\n",
    "def ularNaga(nama, hitungan):\n",
    "    gameQueue = createQueue()\n",
    "    for namaAnak in nama:\n",
    "        enqueue(gameQueue,namaAnak)\n",
    "    print('Peserta Permainan=',gameQueue)\n",
    "    while size(gameQueue) > 1:\n",
    "        for i in range(hitungan):\n",
    "            enqueue(gameQueue,dequeue(gameQueue))\n",
    "            print('hitungan ke-',i+1,'=',gameQueue)\n",
    "        dequeue(gameQueue)\n",
    "        print('Peserta Permainan=',gameQueue)\n",
    "    return dequeue(gameQueue)\n",
    "\n",
    "ularNaga(['a','b','c','d','e','f','g'],2)"
   ]
  },
  {
   "cell_type": "code",
   "execution_count": null,
   "id": "f4bf19e4",
   "metadata": {},
   "outputs": [],
   "source": [
    "# Scheduling SJF Preemptive\n",
    "def inputTask(numOfTask):\n",
    "    task={}\n",
    "    for i in range(numOfTask):\n",
    "        nama = input(\"Nama task = \")\n",
    "        waktu = int(input('Waktu Task  = '))\n",
    "        task[nama]=[waktu,0]\n",
    "    return task\n"
   ]
  },
  {
   "cell_type": "code",
   "execution_count": 5,
   "id": "46781bfb",
   "metadata": {},
   "outputs": [],
   "source": [
    "def scheduling(limitTime,task):\n",
    "    taskQueue = createQueue()\n",
    "    for nama in task.keys():\n",
    "        enqueue(taskQueue,nama)\n",
    "        print(taskQueue,'--------taskQueue')\n",
    "    total = 0\n",
    "    \n",
    "    while not isEmpty(taskQueue):\n",
    "        temp = dequeue(taskQueue)\n",
    "        remainTime=task[temp][0]-limitTime\n",
    "        print(temp,'-----------temp')\n",
    "        print(remainTime,'----------remain')\n",
    "        \n",
    "        if remainTime > 0 :\n",
    "            enqueue(taskQueue,temp)\n",
    "            procTime = limitTime\n",
    "        else :\n",
    "            procTime = task[temp][0]\n",
    "            remainTime = 0\n",
    "        \n",
    "        print(procTime,'---------ProcTime')\n",
    "        total+=procTime\n",
    "        task[temp][0] = remainTime\n",
    "        task[temp][1] = total\n",
    "        print(remainTime,\"---\",total)\n",
    "        print(task)\n",
    "        print(taskQueue)\n",
    "        \n",
    "    return task"
   ]
  },
  {
   "cell_type": "code",
   "execution_count": null,
   "id": "caafcdb5",
   "metadata": {},
   "outputs": [],
   "source": []
  },
  {
   "cell_type": "code",
   "execution_count": null,
   "id": "031e5eff",
   "metadata": {},
   "outputs": [],
   "source": []
  },
  {
   "cell_type": "code",
   "execution_count": null,
   "id": "cb31e5a0",
   "metadata": {},
   "outputs": [],
   "source": []
  },
  {
   "cell_type": "code",
   "execution_count": 30,
   "id": "7fb5dcc9",
   "metadata": {},
   "outputs": [
    {
     "name": "stdout",
     "output_type": "stream",
     "text": [
      "Nama Proses = p1\n",
      "lama waktu yang dibutuhkan = 4\n",
      "resource sharing [A-B-C] = A\n",
      "Nama Proses = p2\n",
      "lama waktu yang dibutuhkan = 5\n",
      "resource sharing [A-B-C] = B\n",
      "Nama Proses = p3\n",
      "lama waktu yang dibutuhkan = 3\n",
      "resource sharing [A-B-C] = C\n",
      "Nama Proses = p4\n",
      "lama waktu yang dibutuhkan = 2\n",
      "resource sharing [A-B-C] = B\n",
      "Nama Proses = p5\n",
      "lama waktu yang dibutuhkan = 4\n",
      "resource sharing [A-B-C] = A\n",
      "Proses = {'p1': [0, 0, 0], 'p2': [0, 0, 0], 'p3': [0, 0, 0], 'p4': [0, 0, 0], 'p5': [0, 0, 0]}\n"
     ]
    }
   ],
   "source": [
    "# Scheduling SJF Preemptive\n",
    "def inputTask(numOfTask):\n",
    "    task={}\n",
    "    for i in range(numOfTask):\n",
    "        nama = input(\"Nama Proses = \")\n",
    "        waktu = int(input('lama waktu yang dibutuhkan = '))\n",
    "        rs = input(\"resource sharing [A-B-C] = \")\n",
    "        task[nama]=[waktu,rs,0]\n",
    "    return task\n",
    "dt = inputTask(5)"
   ]
  },
  {
   "cell_type": "code",
   "execution_count": 36,
   "id": "1ffc9fec",
   "metadata": {},
   "outputs": [
    {
     "name": "stdout",
     "output_type": "stream",
     "text": [
      "{'p1': [0, 0, 0], 'p2': [0, 0, 0], 'p3': [0, 0, 0], 'p4': [0, 0, 0], 'p5': [0, 0, 0]}\n"
     ]
    }
   ],
   "source": [
    "print(dt)"
   ]
  },
  {
   "cell_type": "code",
   "execution_count": 35,
   "id": "0c290414",
   "metadata": {},
   "outputs": [
    {
     "name": "stdout",
     "output_type": "stream",
     "text": [
      "Proses    t   R   T\n",
      "-------------------\n",
      " p1       0   0   0\n",
      " p2       0   0   0\n",
      " p3       0   0   0\n",
      " p4       0   0   0\n",
      " p5       0   0   0\n"
     ]
    }
   ],
   "source": [
    "data = dt\n",
    "def displayProses(data):\n",
    "    print('Proses    t   R   T')\n",
    "    print('-------------------')\n",
    "    for i in data:\n",
    "        print(f' {i}       {data[i][0]}   {data[i][1]}   {data[i][2]}')\n",
    "displayProses(data)"
   ]
  },
  {
   "cell_type": "code",
   "execution_count": null,
   "id": "0b28063b",
   "metadata": {},
   "outputs": [],
   "source": []
  },
  {
   "cell_type": "code",
   "execution_count": 18,
   "id": "afe6a8cc",
   "metadata": {},
   "outputs": [],
   "source": [
    "def createQueueProses(data):\n",
    "    prosesQueue = createQueue()\n",
    "    for nama in data.keys():\n",
    "        enqueue(prosesQueue,nama)\n",
    "    return prosesQueue "
   ]
  },
  {
   "cell_type": "code",
   "execution_count": 22,
   "id": "c8cd6168",
   "metadata": {},
   "outputs": [],
   "source": [
    "def scheduling(taskQueue,task,limitTime):\n",
    "    total = 0\n",
    "    while not isEmpty(taskQueue):\n",
    "        temp = dequeue(taskQueue)\n",
    "        remainTime=task[temp][0]-limitTime\n",
    "        if remainTime > 0 :\n",
    "            enqueue(taskQueue,temp)\n",
    "            procTime = limitTime\n",
    "        else :\n",
    "            procTime = task[temp][0]\n",
    "            remainTime = 0\n",
    "        total+=procTime\n",
    "        task[temp][0] = remainTime\n",
    "        task[temp][1] = total\n",
    "    return task"
   ]
  },
  {
   "cell_type": "code",
   "execution_count": 34,
   "id": "11f31bbb",
   "metadata": {},
   "outputs": [
    {
     "name": "stdout",
     "output_type": "stream",
     "text": [
      "Proses    t   R   T\n",
      "-------------------\n",
      " p1       4   A   0\n",
      " p2       5   B   0\n",
      " p3       3   C   0\n",
      " p4       2   B   0\n",
      " p5       4   A   0\n",
      "\n",
      "Penjadwalan\n",
      "\n",
      "Proses    t   R   T\n",
      "-------------------\n",
      " p1       0   0   0\n",
      " p2       0   0   0\n",
      " p3       0   0   0\n",
      " p4       0   0   0\n",
      " p5       0   0   0\n"
     ]
    }
   ],
   "source": [
    "data1 = dt.copy()\n",
    "q1=createQueueProses(data)\n",
    "q2=createQueueProses(data)\n",
    "q3=createQueueProses(data)\n",
    "displayProses(data1)\n",
    "scheduling(q1,data,4)\n",
    "scheduling(q2,data,3)\n",
    "scheduling(q3,data,2)\n",
    "print()\n",
    "print('Penjadwalan')\n",
    "print()\n",
    "displayProses(data)"
   ]
  },
  {
   "cell_type": "markdown",
   "id": "6fbd8276",
   "metadata": {},
   "source": [
    "## Deque"
   ]
  },
  {
   "cell_type": "code",
   "execution_count": 3,
   "id": "441e6028",
   "metadata": {},
   "outputs": [],
   "source": [
    "def createDeque():\n",
    "    d=[]\n",
    "    return d\n",
    "def addFront(d,data):\n",
    "    d.insert(0,data)\n",
    "    return d\n",
    "def addRear(d,data):\n",
    "    d.append(data)\n",
    "    return d\n",
    "def removeRear(d):\n",
    "    data=d.pop()\n",
    "    return data\n",
    "def removeFront(d):\n",
    "    data=d.pop(0)\n",
    "    return data\n",
    "def isEmpty(d):\n",
    "    return d == []\n",
    "def size(d):\n",
    "    return len(d)"
   ]
  },
  {
   "cell_type": "code",
   "execution_count": null,
   "id": "92c000bd",
   "metadata": {},
   "outputs": [],
   "source": [
    "def cekPalindrom(string):\n",
    "    palindrom = createDeque()\n",
    "    for ch in string :\n",
    "        addRear(palindrom,ch)\n",
    "    cek=True\n",
    "    while size(palindrom) > 1 :\n",
    "        a = removeFront(palindrom)\n",
    "        b = removeRear(palindrom)\n",
    "        if a == b :\n",
    "            cek = cek and True\n",
    "        else:\n",
    "            cek = cek and False\n",
    "    return cek \n",
    "cekPalindrom('ARAl')"
   ]
  },
  {
   "cell_type": "code",
   "execution_count": 5,
   "id": "6c6a281a",
   "metadata": {},
   "outputs": [
    {
     "name": "stdout",
     "output_type": "stream",
     "text": [
      "3 2 1\n"
     ]
    }
   ],
   "source": [
    "def any(p):\n",
    "    deq=createDeque()\n",
    "    for q in p:\n",
    "        addFront(deq,q)\n",
    "    hasil=0\n",
    "    while size(deq)>1:\n",
    "        if removeFront(deq)==removeRear(deq):\n",
    "            hasil+=1\n",
    "    return hasil\n",
    "print(any('hannah'),any('2002'),any('deques'))"
   ]
  },
  {
   "cell_type": "code",
   "execution_count": 155,
   "id": "0f01c2ef",
   "metadata": {},
   "outputs": [
    {
     "name": "stdout",
     "output_type": "stream",
     "text": [
      "[0, 1, 1, 2, 2, 7, 7, 7, 8, 9]\n",
      "4.5\n"
     ]
    }
   ],
   "source": [
    "def median(data):\n",
    "    data.sort()\n",
    "    Med = createDeque()\n",
    "    print(data)\n",
    "    for i in data :\n",
    "        addRear(Med,i)\n",
    "    while size(Med)>1:\n",
    "        a = removeFront(Med)\n",
    "        b = removeRear(Med)\n",
    "        \n",
    "    if not isEmpty(Med):\n",
    "        return removeFront(Med)\n",
    "    else:\n",
    "        return (a+b)/2\n",
    "    \n",
    "print(median([7,2,7,7,9,2,1,1,0,8]))"
   ]
  },
  {
   "cell_type": "code",
   "execution_count": null,
   "id": "0098177e",
   "metadata": {},
   "outputs": [],
   "source": [
    "def prosesAntrian (data):\n",
    "    for i in range ()"
   ]
  }
 ],
 "metadata": {
  "kernelspec": {
   "display_name": "Python 3 (ipykernel)",
   "language": "python",
   "name": "python3"
  },
  "language_info": {
   "codemirror_mode": {
    "name": "ipython",
    "version": 3
   },
   "file_extension": ".py",
   "mimetype": "text/x-python",
   "name": "python",
   "nbconvert_exporter": "python",
   "pygments_lexer": "ipython3",
   "version": "3.9.12"
  }
 },
 "nbformat": 4,
 "nbformat_minor": 5
}
