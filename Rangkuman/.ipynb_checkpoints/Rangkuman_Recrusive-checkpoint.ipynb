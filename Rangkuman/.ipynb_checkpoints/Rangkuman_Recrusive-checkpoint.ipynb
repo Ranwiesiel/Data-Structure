{
 "cells": [
  {
   "cell_type": "code",
   "execution_count": 1,
   "metadata": {},
   "outputs": [
    {
     "data": {
      "text/plain": [
       "256"
      ]
     },
     "execution_count": 1,
     "metadata": {},
     "output_type": "execute_result"
    }
   ],
   "source": [
    "def exponenRecursive(num,pangkat):\n",
    "    if pangkat==0:\n",
    "        return 1\n",
    "    else:\n",
    "        return num * exponenRecursive(num,pangkat-1)\n",
    "    \n",
    "exponenRecursive(2,8)"
   ]
  },
  {
   "cell_type": "code",
   "execution_count": 2,
   "metadata": {},
   "outputs": [
    {
     "name": "stdout",
     "output_type": "stream",
     "text": [
      "24\n"
     ]
    }
   ],
   "source": [
    "def factorialRecrusive(bil):\n",
    "    if bil < 1 :\n",
    "        return 1 \n",
    "    else :\n",
    "        return bil * factorialRecrusive(bil-1)\n",
    "    \n",
    "data = factorialRecrusive(4)\n",
    "print(data)"
   ]
  },
  {
   "cell_type": "code",
   "execution_count": 8,
   "metadata": {},
   "outputs": [
    {
     "data": {
      "text/plain": [
       "30"
      ]
     },
     "execution_count": 8,
     "metadata": {},
     "output_type": "execute_result"
    }
   ],
   "source": [
    "def sumRecursive(listData):\n",
    "    if len(listData) == 1:\n",
    "        return listData[0]\n",
    "    else:\n",
    "        return listData[0] + sumRecursive(listData[1:])\n",
    "    \n",
    "sumRecursive([12,1,0,8,9,0])"
   ]
  },
  {
   "cell_type": "markdown",
   "metadata": {},
   "source": [
    "~~~python\n",
    "4 * factorial(4-1)\n",
    "4 * (3 * factorial(3-1))\n",
    "4 * (3 * 2 * factorial(2-1))\n",
    "4 * (3 * 2 * 1 * factorial(1-1))\n",
    "4 * ()\n",
    "~~~"
   ]
  },
  {
   "cell_type": "code",
   "execution_count": 3,
   "metadata": {},
   "outputs": [
    {
     "data": {
      "text/plain": [
       "True"
      ]
     },
     "execution_count": 3,
     "metadata": {},
     "output_type": "execute_result"
    }
   ],
   "source": [
    "def palindromeRecursive(chr):\n",
    "    if len(chr) <= 1:\n",
    "#     if len(chr) == 0 or len(chr)==1:\n",
    "        return True \n",
    "    else:\n",
    "        return (chr[0] == chr[-1]) and palindromeRecursive(chr[1:-1])\n",
    "#         return (chr[0] == chr[-1]) and palindromeRecursive(chr[1:len(chr)-1])\n",
    "\n",
    "palindromeRecursive('katak')"
   ]
  },
  {
   "cell_type": "code",
   "execution_count": 4,
   "metadata": {},
   "outputs": [
    {
     "data": {
      "text/plain": [
       "15"
      ]
     },
     "execution_count": 4,
     "metadata": {},
     "output_type": "execute_result"
    }
   ],
   "source": [
    "# 1+2+3+4....n\n",
    "def triangularNumbers(n):\n",
    "    if n == 1 :\n",
    "        return 1\n",
    "    else:\n",
    "        return n + triangularNumbers(n-1)\n",
    "\n",
    "triangularNumbers(5)"
   ]
  },
  {
   "cell_type": "code",
   "execution_count": 5,
   "metadata": {},
   "outputs": [
    {
     "name": "stdout",
     "output_type": "stream",
     "text": [
      "<class 'int'> 125 <class 'int'> 0\n",
      "<class 'int'> 15 <class 'int'> 5\n",
      "<class 'int'> 1 <class 'int'> 7\n"
     ]
    },
    {
     "data": {
      "text/plain": [
       "'1750'"
      ]
     },
     "execution_count": 5,
     "metadata": {},
     "output_type": "execute_result"
    }
   ],
   "source": [
    "# convert desimal to basis\n",
    "def convertDesimal(des,base):\n",
    "    chrBilangan = '0123456789ABCDEF'\n",
    "    if des < base :\n",
    "        return chrBilangan[des]\n",
    "    else:\n",
    "        temp = des // base\n",
    "        idx = des % base\n",
    "        print(type(temp),temp,type(idx),idx)\n",
    "        return convertDesimal(temp,base)+chrBilangan[idx]\n",
    "    \n",
    "convertDesimal(1000,8)"
   ]
  },
  {
   "cell_type": "code",
   "execution_count": 3,
   "metadata": {},
   "outputs": [
    {
     "name": "stdout",
     "output_type": "stream",
     "text": [
      "List Acak :\n",
      " [899, 999, 931, 386, 428, 408, 394, 763, 683, 786, 253, 957, 600, 652, 543, 615, 731, 478, 70, 447]\n",
      "\n",
      "Mengunakan Recursive : \n",
      "Minimal dari list  =  70 \n",
      "Maksimal dari list =  999\n"
     ]
    }
   ],
   "source": [
    "def listAcak(size):\n",
    "    data = []\n",
    "    for i in range(size):\n",
    "        data.append(rd.randint(0,999))\n",
    "    return data\n",
    "def minMaxRecursive(data,find):\n",
    "    if find == 'maksimal':\n",
    "        if len(data) ==  1:\n",
    "            return data[0]\n",
    "        else:\n",
    "            maks = minMaxRecursive(data[1:],find)\n",
    "            if data[0] > maks :\n",
    "                return data[0]\n",
    "            else:\n",
    "                return maks\n",
    "            \n",
    "    if find == 'minimal':\n",
    "        if len(data) ==  1:\n",
    "            return data[0]\n",
    "        else:\n",
    "            mins = minMaxRecursive(data[1:],find)\n",
    "            if data[0] < mins :\n",
    "                return data[0]\n",
    "            else:\n",
    "                return mins\n",
    "    else :\n",
    "        return 'Parameter Salah'\n",
    "import random as rd\n",
    "data = listAcak(20)\n",
    "print('List Acak :\\n',data)\n",
    "print()\n",
    "minList1 = minMaxRecursive(data,'minimal')\n",
    "maxList1 = minMaxRecursive(data,'maksimal')\n",
    "print('Mengunakan Recursive :','\\nMinimal dari list  = ',minList1,'\\nMaksimal dari list = ',maxList1)"
   ]
  },
  {
   "cell_type": "code",
   "execution_count": 6,
   "metadata": {},
   "outputs": [
    {
     "name": "stdout",
     "output_type": "stream",
     "text": [
      "Pindahkan lempengan 1 dari B ke C\n",
      "Pindahkan lempengan 2 dari B ke A\n",
      "Pindahkan lempengan 1 dari C ke A\n",
      "Pindahkan lempengan 3 dari B ke C\n",
      "Pindahkan lempengan 1 dari A ke B\n",
      "Pindahkan lempengan 2 dari A ke C\n",
      "Pindahkan lempengan 1 dari B ke C\n"
     ]
    }
   ],
   "source": [
    "def towerOfHanoi(n,asal,bantuan,tujuan):\n",
    "    if n == 1 :\n",
    "        print('Pindahkan lempengan',n,'dari',asal,'ke',tujuan)\n",
    "    else:\n",
    "        towerOfHanoi(n-1,asal,tujuan,bantuan)\n",
    "        print('Pindahkan lempengan',n,'dari',asal,'ke',tujuan)\n",
    "        towerOfHanoi(n-1,bantuan,asal,tujuan)\n",
    "              \n",
    "towerOfHanoi(3,'B','A','C')"
   ]
  },
  {
   "cell_type": "code",
   "execution_count": 7,
   "metadata": {},
   "outputs": [
    {
     "name": "stdout",
     "output_type": "stream",
     "text": [
      "Pemindahan 4 lempengan dari A ke C dengan menggunakan bantuan B\n",
      "A:\n",
      "|1|\n",
      "|2|\n",
      "|3|\n",
      "|4|\n",
      "B:\n",
      "C:\n",
      "Lempengan - 1 dari- A ke- B\n",
      "A:\n",
      "|2|\n",
      "|3|\n",
      "|4|\n",
      "B:\n",
      "|1|\n",
      "C:\n",
      "Lempengan - 2 dari- A ke- C\n",
      "A:\n",
      "|3|\n",
      "|4|\n",
      "B:\n",
      "|1|\n",
      "C:\n",
      "|2|\n",
      "Lempengan - 1 dari- B ke- C\n",
      "A:\n",
      "|3|\n",
      "|4|\n",
      "B:\n",
      "C:\n",
      "|1|\n",
      "|2|\n",
      "Lempengan - 3 dari- A ke- B\n",
      "A:\n",
      "|4|\n",
      "B:\n",
      "|3|\n",
      "C:\n",
      "|1|\n",
      "|2|\n",
      "Lempengan - 1 dari- C ke- A\n",
      "A:\n",
      "|1|\n",
      "|4|\n",
      "B:\n",
      "|3|\n",
      "C:\n",
      "|2|\n",
      "Lempengan - 2 dari- C ke- B\n",
      "A:\n",
      "|1|\n",
      "|4|\n",
      "B:\n",
      "|2|\n",
      "|3|\n",
      "C:\n",
      "Lempengan - 1 dari- A ke- B\n",
      "A:\n",
      "|4|\n",
      "B:\n",
      "|1|\n",
      "|2|\n",
      "|3|\n",
      "C:\n",
      "Lempengan - 4 dari- A ke- C\n",
      "A:\n",
      "B:\n",
      "|1|\n",
      "|2|\n",
      "|3|\n",
      "C:\n",
      "|4|\n",
      "Lempengan - 1 dari- B ke- C\n",
      "A:\n",
      "B:\n",
      "|2|\n",
      "|3|\n",
      "C:\n",
      "|1|\n",
      "|4|\n",
      "Lempengan - 2 dari- B ke- A\n",
      "A:\n",
      "|2|\n",
      "B:\n",
      "|3|\n",
      "C:\n",
      "|1|\n",
      "|4|\n",
      "Lempengan - 1 dari- C ke- A\n",
      "A:\n",
      "|1|\n",
      "|2|\n",
      "B:\n",
      "|3|\n",
      "C:\n",
      "|4|\n",
      "Lempengan - 3 dari- B ke- C\n",
      "A:\n",
      "|1|\n",
      "|2|\n",
      "B:\n",
      "C:\n",
      "|3|\n",
      "|4|\n",
      "Lempengan - 1 dari- A ke- B\n",
      "A:\n",
      "|2|\n",
      "B:\n",
      "|1|\n",
      "C:\n",
      "|3|\n",
      "|4|\n",
      "Lempengan - 2 dari- A ke- C\n",
      "A:\n",
      "B:\n",
      "|1|\n",
      "C:\n",
      "|2|\n",
      "|3|\n",
      "|4|\n",
      "Lempengan - 1 dari- B ke- C\n",
      "A:\n",
      "B:\n",
      "C:\n",
      "|1|\n",
      "|2|\n",
      "|3|\n",
      "|4|\n"
     ]
    }
   ],
   "source": [
    "def tampilanTowers(dic):\n",
    "    print('A:')\n",
    "    for i in dic['A']:\n",
    "        print(f'|{i}|')\n",
    "    print('B:')\n",
    "    for j in dic['B']:\n",
    "        print(f'|{j}|')\n",
    "    print('C:')\n",
    "    for k in dic['C']:\n",
    "        print(f'|{k}|')\n",
    "        \n",
    "def visualisasiTowers (n,awal,bantuan,tujuan,dic):\n",
    "    if n == 1 :\n",
    "        print('Lempengan - 1 dari-',awal,'ke-',tujuan)\n",
    "        dic[tujuan].insert(0,dic[awal].pop(0))\n",
    "        tampilanTowers(dic)\n",
    "    else :\n",
    "        visualisasiTowers(n-1,awal,tujuan,bantuan,dic)\n",
    "        print(\"Lempengan -\",n,'dari-',awal,'ke-',tujuan)\n",
    "        dic[tujuan].insert(0,dic[awal].pop(0))\n",
    "        tampilanTowers(dic)\n",
    "        visualisasiTowers(n-1,bantuan,awal,tujuan,dic)\n",
    "        \n",
    "n = 4      \n",
    "dic = {'A':[i for i in range(1,n+1)],'B':[],'C':[]}\n",
    "print('Pemindahan',n,'lempengan dari A ke C dengan menggunakan bantuan B')\n",
    "tampilanTowers(dic)\n",
    "visualisasiTowers(n,'A','B','C',dic)"
   ]
  },
  {
   "cell_type": "code",
   "execution_count": 8,
   "metadata": {},
   "outputs": [],
   "source": [
    "import turtle\n",
    "my_turtle = turtle.Turtle()\n",
    "my_win = turtle.Screen()\n",
    "\n",
    "def draw_spiral(my_turtle, line_len):\n",
    "    if line_len > 0:\n",
    "        my_turtle.forward(line_len)\n",
    "        my_turtle.right(90)\n",
    "        draw_spiral(my_turtle, line_len - 5)\n",
    "        \n",
    "# draw_spiral(my_turtle, 90)\n",
    "# my_win.exitonclick()"
   ]
  },
  {
   "cell_type": "code",
   "execution_count": 9,
   "metadata": {},
   "outputs": [],
   "source": [
    "import turtle\n",
    "def tree(branch_len, t):\n",
    "    t.speed('slowest')\n",
    "    if branch_len > 5:\n",
    "        t.forward(branch_len)\n",
    "        t.right(20)\n",
    "        tree(branch_len - 15, t)\n",
    "        t.left(40)\n",
    "        tree(branch_len - 15, t)\n",
    "        t.right(20)\n",
    "        t.backward(branch_len)\n",
    "def main():\n",
    "    my_win = turtle.Screen()\n",
    "    t = turtle.Turtle()\n",
    "\n",
    "    t.shape(\"turtle\")\n",
    "    t.left(90)\n",
    "    t.up()\n",
    "    t.backward(100)\n",
    "    t.down()\n",
    "    t.color(\"green\")\n",
    "    tree(60, t)\n",
    "    my_win.exitonclick()\n",
    "# main()"
   ]
  },
  {
   "cell_type": "code",
   "execution_count": 10,
   "metadata": {},
   "outputs": [],
   "source": [
    "import turtle\n",
    "def draw_triangle(points, color, my_turtle):\n",
    "    my_turtle.speed('slowest')\n",
    "    my_turtle.fillcolor(color)\n",
    "    my_turtle.up()\n",
    "    my_turtle.goto(points[0][0],points[0][1])\n",
    "    my_turtle.down()\n",
    "    my_turtle.begin_fill()\n",
    "    my_turtle.goto(points[1][0], points[1][1])\n",
    "    my_turtle.goto(points[2][0], points[2][1])\n",
    "    my_turtle.goto(points[0][0], points[0][1])\n",
    "    my_turtle.end_fill()\n",
    "def get_mid(p1, p2):\n",
    "    return ((p1[0] + p2[0]) / 2, (p1[1] + p2[1]) / 2)\n",
    "def sierpinski(points, degree, my_turtle):\n",
    "    color_map = [\"blue\", \"red\" , \"green\", \"white\" , \"yellow\" ,\"violet\" , \"orange\"]\n",
    "    draw_triangle(points, color_map[degree], my_turtle)\n",
    "    if degree > 0:\n",
    "        sierpinski([points[0],get_mid(points[0], points[1]), get_mid(points[0])])\n",
    "        sierpinski([points[1],get_mid(points[0], points[1]), get_mid(points[1])])\n",
    "        sierpinski([points[2],get_mid(points[2], points[1]), get_mid(points[0])])\n",
    "def main():\n",
    "    my_turtle = turtle.Turtle()\n",
    "    my_win = turtle.Screen()\n",
    "    my_points = [[-100, -50], [0, 100], [100, -50]]\n",
    "    sierpinski(my_points, 2, my_turtle)\n",
    "    my_win.exitonclick()\n",
    "# main()"
   ]
  }
 ],
 "metadata": {
  "kernelspec": {
   "display_name": "Python 3 (ipykernel)",
   "language": "python",
   "name": "python3"
  },
  "language_info": {
   "codemirror_mode": {
    "name": "ipython",
    "version": 3
   },
   "file_extension": ".py",
   "mimetype": "text/x-python",
   "name": "python",
   "nbconvert_exporter": "python",
   "pygments_lexer": "ipython3",
   "version": "3.9.12"
  }
 },
 "nbformat": 4,
 "nbformat_minor": 2
}
