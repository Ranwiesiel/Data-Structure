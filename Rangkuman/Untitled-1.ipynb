{
 "cells": [
  {
   "cell_type": "code",
   "execution_count": 2,
   "metadata": {},
   "outputs": [],
   "source": [
    "def stack():\n",
    " s=[]\n",
    " return (s)\n",
    "def push(s,data):\n",
    " s.append(data)\n",
    "def pop(s):\n",
    " data=s.pop()\n",
    " return(data)\n",
    "def peek(s):\n",
    " return(s[len(s)-1])\n",
    "def isEmpty(s):\n",
    " return (s==[])\n",
    "def size(s):\n",
    " return(len(s))"
   ]
  },
  {
   "cell_type": "code",
   "execution_count": 3,
   "metadata": {},
   "outputs": [
    {
     "data": {
      "text/plain": [
       "'ollaH'"
      ]
     },
     "execution_count": 3,
     "metadata": {},
     "output_type": "execute_result"
    }
   ],
   "source": [
    "def reverseWord(kata):\n",
    "    s=stack()\n",
    "    for i in range (len(kata)):\n",
    "        push(s, kata[i])\n",
    "    b=''\n",
    "    while not isEmpty(s):\n",
    "        b=b+ pop(s)\n",
    "    return b\n",
    "reverseWord('Hallo')"
   ]
  },
  {
   "cell_type": "code",
   "execution_count": 6,
   "metadata": {},
   "outputs": [
    {
     "data": {
      "text/plain": [
       "'1010'"
      ]
     },
     "execution_count": 6,
     "metadata": {},
     "output_type": "execute_result"
    }
   ],
   "source": [
    "def desbin (desimal):\n",
    "    s=stack()\n",
    "    a=''\n",
    "    while desimal > 0:\n",
    "        push(s,desimal%2)\n",
    "        desimal=desimal//2\n",
    "    for i in range(len(s)):\n",
    "        a=a+str(pop(s))\n",
    "    return a\n",
    "        \n",
    "desbin(10)"
   ]
  },
  {
   "cell_type": "code",
   "execution_count": 35,
   "metadata": {},
   "outputs": [
    {
     "name": "stdout",
     "output_type": "stream",
     "text": [
      "[1, 2, 5, 10] [1, 2, 4, 5, 10, 20]\n"
     ]
    },
    {
     "data": {
      "text/plain": [
       "[1, 2, 5, 10]"
      ]
     },
     "execution_count": 35,
     "metadata": {},
     "output_type": "execute_result"
    }
   ],
   "source": [
    "def fp (ang1, ang2):\n",
    "    simpan= []\n",
    "    simpan1=[]\n",
    "    simpan2=[]\n",
    "    for i in range(1, ang1+1):\n",
    "        if ang1 % i == 0:\n",
    "            simpan1.append(i)\n",
    "    for j in range(1, ang2+1):\n",
    "        if ang2 % j == 0:\n",
    "            simpan2.append(j)\n",
    "    print(simpan1, simpan2)\n",
    "    for k in range (len(simpan1)):\n",
    "        for l in range(len(simpan2)):\n",
    "            if simpan1[k] == simpan2[l]:\n",
    "                simpan.append(simpan2[l])\n",
    "    return simpan\n",
    "fp(10,20)"
   ]
  },
  {
   "cell_type": "code",
   "execution_count": 34,
   "metadata": {},
   "outputs": [
    {
     "data": {
      "text/plain": [
       "[1, 2, 5, 10]"
      ]
     },
     "execution_count": 34,
     "metadata": {},
     "output_type": "execute_result"
    }
   ],
   "source": [
    "def fpsama(bil1,bil2):\n",
    "    hsl=[]\n",
    "    for i in range(1,bil1+1):\n",
    "        if bil1 % i==0 and bil2% i ==0:\n",
    "            hsl.append(i)\n",
    "    return hsl\n",
    "fpsama(10,20)"
   ]
  },
  {
   "cell_type": "code",
   "execution_count": 38,
   "metadata": {},
   "outputs": [
    {
     "data": {
      "text/plain": [
       "[1, 2, 5, 10]"
      ]
     },
     "execution_count": 38,
     "metadata": {},
     "output_type": "execute_result"
    }
   ],
   "source": [
    "def fpcomp(bil1, bil2):\n",
    "    return [k for k in range (1, bil1+1) if bil1%k == 0 and bil2%k==0]\n",
    "fpcomp(10,20)"
   ]
  },
  {
   "cell_type": "code",
   "execution_count": 64,
   "metadata": {},
   "outputs": [
    {
     "name": "stdout",
     "output_type": "stream",
     "text": [
      "9\n",
      "6\n",
      "4\n",
      "1\n",
      "[1, 4, 6, 1]\n"
     ]
    }
   ],
   "source": [
    "def bubshort(lis):\n",
    "    for i in range(len(lis)-1,-1,-1):\n",
    "        print(lis[i])\n",
    "        if lis[i] < lis[i-1]:\n",
    "            lis[i-1]=lis[i]\n",
    "            print(lis)\n",
    "\n",
    "bubshort([1,4,6,9])"
   ]
  },
  {
   "cell_type": "code",
   "execution_count": null,
   "metadata": {},
   "outputs": [],
   "source": [
    "def bubshortb(lis):\n",
    "    for i in range (len(lis)):\n",
    "        if lis[i] < "
   ]
  }
 ],
 "metadata": {
  "kernelspec": {
   "display_name": "base",
   "language": "python",
   "name": "python3"
  },
  "language_info": {
   "codemirror_mode": {
    "name": "ipython",
    "version": 3
   },
   "file_extension": ".py",
   "mimetype": "text/x-python",
   "name": "python",
   "nbconvert_exporter": "python",
   "pygments_lexer": "ipython3",
   "version": "3.9.12"
  },
  "orig_nbformat": 4
 },
 "nbformat": 4,
 "nbformat_minor": 2
}
