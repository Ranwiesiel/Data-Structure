{
 "cells": [
  {
   "cell_type": "code",
   "execution_count": 2,
   "id": "9644b96b",
   "metadata": {},
   "outputs": [],
   "source": [
    "def stack():\n",
    "    s=[]\n",
    "    return (s)\n",
    "def push(s,data):\n",
    "    s.append(data)\n",
    "def pop(s):\n",
    "    data = s.pop()\n",
    "    return (data)\n",
    "def peek(s):\n",
    "    return (s[len(s)-1])\n",
    "def isEmpty(s):\n",
    "    return (s == [])\n",
    "def size(s):\n",
    "    return (len(s))"
   ]
  },
  {
   "cell_type": "code",
   "execution_count": null,
   "id": "5841c0bf",
   "metadata": {},
   "outputs": [],
   "source": [
    "data = [1,2,3]\n",
    "data.remove(data[0])\n",
    "print(data)\n",
    "data.insert(0,1)\n",
    "print(data)\n",
    "pop(data)\n",
    "print(data)\n",
    "push(data,pop(data))\n",
    "print(data)"
   ]
  },
  {
   "cell_type": "code",
   "execution_count": 4,
   "id": "db165247",
   "metadata": {},
   "outputs": [
    {
     "name": "stdout",
     "output_type": "stream",
     "text": [
      "1001\n"
     ]
    }
   ],
   "source": [
    "def convertBin(des):\n",
    "    strBin = stack()\n",
    "    while des != 0 :\n",
    "        push(strBin,des%2)\n",
    "        des //= 2\n",
    "    temp=''\n",
    "    for i in range(size(strBin)):\n",
    "        temp+=str(pop(strBin))\n",
    "    return temp\n",
    "print(convertBin(9))"
   ]
  },
  {
   "cell_type": "code",
   "execution_count": null,
   "id": "0772dda6",
   "metadata": {
    "scrolled": true
   },
   "outputs": [],
   "source": [
    "def reverseWord(word):\n",
    "    data = stack()\n",
    "    for i in word:\n",
    "        push(data,i)\n",
    "    temp=''\n",
    "    while  not isEmpty(data):\n",
    "        temp+=pop(data)\n",
    "    return temp\n",
    "reverseWord('aku')"
   ]
  },
  {
   "cell_type": "code",
   "execution_count": null,
   "id": "f9d297bb",
   "metadata": {},
   "outputs": [],
   "source": [
    "def evaluatePost(postStr):\n",
    "    operandStack=stack()\n",
    "    operator='+-/*'\n",
    "    postStr=postStr.split()\n",
    "    \n",
    "    for i in postStr:\n",
    "        if i not in operator:\n",
    "            push(operandStack,i)\n",
    "        else:\n",
    "            oprnd2=pop(operandStack)\n",
    "            oprnd1=pop(operandStack)\n",
    "            if i=='+':\n",
    "                result=float(oprnd1)+float(oprnd2)\n",
    "            elif i=='-':\n",
    "                result=float(oprnd1)-float(oprnd2)\n",
    "            elif i=='*':\n",
    "                result=float(oprnd1)*float(oprnd2)\n",
    "            elif i == \"/\":\n",
    "                result=float(oprnd1)/float(oprnd2)\n",
    "            push(operandStack,result)\n",
    "    return(pop(operandStack))\n",
    "\n",
    "\n",
    "print(evaluatePost('66 2 / 4 +'))"
   ]
  },
  {
   "cell_type": "code",
   "execution_count": null,
   "id": "96626a04",
   "metadata": {},
   "outputs": [],
   "source": [
    "def isGre(a,b):\n",
    "    operator = {\"^\":2,\"*\":1,\"/\":1,\"+\":0,\"-\":0}\n",
    "    if operator[a] >= operator[b]:\n",
    "        return True\n",
    "    else:\n",
    "        return False "
   ]
  },
  {
   "cell_type": "code",
   "execution_count": null,
   "id": "52cc04d7",
   "metadata": {},
   "outputs": [],
   "source": [
    "math = \"a+b*c\"\n",
    "opr=\"+_*/\"\n",
    "for i in math :\n",
    "    if i not in opr :\n",
    "        print(i,\"---> operand\")\n",
    "    else:\n",
    "        print(i,\"---> operator\")"
   ]
  },
  {
   "cell_type": "code",
   "execution_count": null,
   "id": "d8caf62f",
   "metadata": {
    "scrolled": true
   },
   "outputs": [],
   "source": [
    "def infixToPostfix(strMath):\n",
    "    hasil    =\"\"\n",
    "    oprStc   = stack()\n",
    "    opr      =\"*/-+\"\n",
    "    \n",
    "    for i in strMath :\n",
    "\n",
    "        if i not in opr :\n",
    "            hasil+=i\n",
    "            \n",
    "        else:\n",
    "            while not(isEmpty(oprStc)) and isGre(peek(oprStc),i):\n",
    "                hasil+=pop(oprStc)\n",
    "            push(oprStc,i)\n",
    "        \n",
    "    while not(isEmpty(oprStc)):\n",
    "        hasil+=pop(oprStc)\n",
    "        \n",
    "    return hasil\n",
    "            \n",
    "print(infixToPostfix(\"a*b+c\"))"
   ]
  },
  {
   "cell_type": "code",
   "execution_count": 5,
   "id": "26bd2dbe",
   "metadata": {},
   "outputs": [
    {
     "name": "stdout",
     "output_type": "stream",
     "text": [
      "----- 7\n",
      "----- 3\n",
      "----- 1\n"
     ]
    }
   ],
   "source": [
    "a = [1] \n",
    "b = [1,2]  \n",
    "c = [1,3,7]\n",
    "\n",
    "while a and b and c :\n",
    "    print('-----',c.pop())"
   ]
  },
  {
   "cell_type": "code",
   "execution_count": 19,
   "id": "0716b133",
   "metadata": {},
   "outputs": [
    {
     "data": {
      "text/plain": [
       "[0, 12]"
      ]
     },
     "execution_count": 19,
     "metadata": {},
     "output_type": "execute_result"
    }
   ],
   "source": [
    "[1] and [4,7,9] and [0,12] "
   ]
  }
 ],
 "metadata": {
  "kernelspec": {
   "display_name": "Python 3 (ipykernel)",
   "language": "python",
   "name": "python3"
  },
  "language_info": {
   "codemirror_mode": {
    "name": "ipython",
    "version": 3
   },
   "file_extension": ".py",
   "mimetype": "text/x-python",
   "name": "python",
   "nbconvert_exporter": "python",
   "pygments_lexer": "ipython3",
   "version": "3.9.12"
  }
 },
 "nbformat": 4,
 "nbformat_minor": 5
}
