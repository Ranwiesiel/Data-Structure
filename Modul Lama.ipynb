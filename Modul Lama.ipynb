{
 "cells": [
  {
   "cell_type": "code",
   "execution_count": 2,
   "id": "81be2faf",
   "metadata": {},
   "outputs": [
    {
     "name": "stdout",
     "output_type": "stream",
     "text": [
      "5\n"
     ]
    }
   ],
   "source": [
    "def remainderFun(data,num):\n",
    "    return data%num\n",
    "slot = remainderFun(55,10)\n",
    "print(slot)"
   ]
  },
  {
   "cell_type": "code",
   "execution_count": 3,
   "id": "3a998d9a",
   "metadata": {},
   "outputs": [
    {
     "name": "stdout",
     "output_type": "stream",
     "text": [
      "[[None], [None], [None], [None], [None], [None], [None], [None], [None], [None], [None]]\n"
     ]
    }
   ],
   "source": [
    "def createHashTable(size):\n",
    "    return [[None] for i in range(size)]"
   ]
  },
  {
   "cell_type": "code",
   "execution_count": 4,
   "id": "fef334c5",
   "metadata": {},
   "outputs": [
    {
     "name": "stdout",
     "output_type": "stream",
     "text": [
      "[[77, 44, 55], [None], [None], [None], [26], [93], [17], [None], [None], [31, 20], [54]]\n"
     ]
    }
   ],
   "source": [
    "def chaining(dataList,hashTable):\n",
    "    for i in dataList:\n",
    "        idx = remainderFun(i,len(hashTable))\n",
    "        if hashTable[idx][0] == None:\n",
    "            hashTable[idx][0]=i\n",
    "        else:\n",
    "            hashTable[idx].append(i)"
   ]
  },
  {
   "cell_type": "code",
   "execution_count": 13,
   "id": "2a70ee0c",
   "metadata": {},
   "outputs": [
    {
     "name": "stdout",
     "output_type": "stream",
     "text": [
      "[[None], [None], [None], [None], [None], [None], [None], [None], [None], [None], [None]]\n",
      "[[77, 44, 55], [None], [None], [None], [26], [93], [17], [None], [None], [31, 20], [54]]\n"
     ]
    },
    {
     "data": {
      "text/plain": [
       "'data berada di slot ke- 10 dan index ke- 0'"
      ]
     },
     "execution_count": 13,
     "metadata": {},
     "output_type": "execute_result"
    }
   ],
   "source": [
    "def searchHash(data,hashTable):\n",
    "    idx = remainderFun(data,len(hashTable))\n",
    "    if hashTable[idx] != [None]:\n",
    "        for i in range(len(hashTable[idx])):\n",
    "            if hashTable[idx][i] == data:\n",
    "                return f'data berada di slot ke- {idx} dan index ke- {i}'\n",
    "    return False\n",
    "\n",
    "\n",
    "hashTable = createHashTable(11)\n",
    "print(hashTable)\n",
    "a=[54,26,93,17,77,31,44,55,20]\n",
    "chaining(a,hashTable)\n",
    "print(hashTable)\n",
    "searchHash(54,hashTable)"
   ]
  },
  {
   "cell_type": "code",
   "execution_count": null,
   "id": "f9743d19",
   "metadata": {},
   "outputs": [],
   "source": []
  }
 ],
 "metadata": {
  "kernelspec": {
   "display_name": "Python 3 (ipykernel)",
   "language": "python",
   "name": "python3"
  },
  "language_info": {
   "codemirror_mode": {
    "name": "ipython",
    "version": 3
   },
   "file_extension": ".py",
   "mimetype": "text/x-python",
   "name": "python",
   "nbconvert_exporter": "python",
   "pygments_lexer": "ipython3",
   "version": "3.9.12"
  }
 },
 "nbformat": 4,
 "nbformat_minor": 5
}
