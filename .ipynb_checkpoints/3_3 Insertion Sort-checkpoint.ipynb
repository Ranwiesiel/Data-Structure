{
 "cells": [
  {
   "cell_type": "code",
   "execution_count": 18,
   "id": "0a5c60fc",
   "metadata": {},
   "outputs": [
    {
     "name": "stdout",
     "output_type": "stream",
     "text": [
      "idx Falg =  1\n",
      "1 >< 0\n",
      "idx Falg =  2\n",
      "2 >< 1\n",
      "2 >< 0\n",
      "idx Falg =  3\n",
      "3 >< 2\n",
      "3 >< 1\n",
      "3 >< 0\n",
      "idx Falg =  4\n",
      "4 >< 3\n",
      "4 >< 2\n",
      "4 >< 1\n",
      "4 >< 0\n"
     ]
    }
   ],
   "source": [
    "data = [7,4,1,8,15]\n",
    "for i in range(len(data)-1):\n",
    "    idx = i+1\n",
    "    flag =  data[idx]\n",
    "    print('idx Falg = ',idx)\n",
    "#     print(idx,':',flag)\n",
    "    for j in range (idx-1,-1,-1):\n",
    "        print(idx,'><',j)\n",
    "        "
   ]
  },
  {
   "cell_type": "code",
   "execution_count": 21,
   "id": "6ef1e477",
   "metadata": {},
   "outputs": [
    {
     "name": "stdout",
     "output_type": "stream",
     "text": [
      "idx Falg =  1\n",
      "1 >< 0\n",
      "idx Falg =  2\n",
      "2 >< 1\n",
      "2 >< 0\n",
      "idx Falg =  3\n",
      "3 >< 2\n",
      "3 >< 1\n",
      "3 >< 0\n",
      "idx Falg =  4\n",
      "4 >< 3\n",
      "4 >< 2\n",
      "4 >< 1\n",
      "4 >< 0\n"
     ]
    }
   ],
   "source": [
    "data = [7,4,1,8,15]\n",
    "for i in range(len(data)-1):\n",
    "    idx = i+1\n",
    "    flag =  data[idx]\n",
    "    print('idx Falg = ',idx)\n",
    "#     print(idx,':',flag)\n",
    "    j = idx-1\n",
    "    while j > -1 :\n",
    "        print(idx,'><',j)\n",
    "        j -=1   "
   ]
  },
  {
   "cell_type": "code",
   "execution_count": 46,
   "id": "5815d06a",
   "metadata": {},
   "outputs": [
    {
     "name": "stdout",
     "output_type": "stream",
     "text": [
      "[ 1 ]: 4\n",
      "hasil innerloop [7, 7, 1, 8, 6, 15, 9, 3, 2]\n",
      "hasil sementara [4, 7, 1, 8, 6, 15, 9, 3, 2]\n",
      "[ 2 ]: 1\n",
      "hasil innerloop [4, 7, 7, 8, 6, 15, 9, 3, 2]\n",
      "hasil innerloop [4, 4, 7, 8, 6, 15, 9, 3, 2]\n",
      "hasil sementara [1, 4, 7, 8, 6, 15, 9, 3, 2]\n",
      "[ 3 ]: 8\n",
      "hasil sementara [1, 4, 7, 8, 6, 15, 9, 3, 2]\n",
      "[ 4 ]: 6\n",
      "hasil innerloop [1, 4, 7, 8, 8, 15, 9, 3, 2]\n",
      "hasil innerloop [1, 4, 7, 7, 8, 15, 9, 3, 2]\n",
      "hasil sementara [1, 4, 6, 7, 8, 15, 9, 3, 2]\n",
      "[ 5 ]: 15\n",
      "hasil sementara [1, 4, 6, 7, 8, 15, 9, 3, 2]\n",
      "[ 6 ]: 9\n",
      "hasil innerloop [1, 4, 6, 7, 8, 15, 15, 3, 2]\n",
      "hasil sementara [1, 4, 6, 7, 8, 9, 15, 3, 2]\n",
      "[ 7 ]: 3\n",
      "hasil innerloop [1, 4, 6, 7, 8, 9, 15, 15, 2]\n",
      "hasil innerloop [1, 4, 6, 7, 8, 9, 9, 15, 2]\n",
      "hasil innerloop [1, 4, 6, 7, 8, 8, 9, 15, 2]\n",
      "hasil innerloop [1, 4, 6, 7, 7, 8, 9, 15, 2]\n",
      "hasil innerloop [1, 4, 6, 6, 7, 8, 9, 15, 2]\n",
      "hasil innerloop [1, 4, 4, 6, 7, 8, 9, 15, 2]\n",
      "hasil sementara [1, 3, 4, 6, 7, 8, 9, 15, 2]\n",
      "[ 8 ]: 2\n",
      "hasil innerloop [1, 3, 4, 6, 7, 8, 9, 15, 15]\n",
      "hasil innerloop [1, 3, 4, 6, 7, 8, 9, 9, 15]\n",
      "hasil innerloop [1, 3, 4, 6, 7, 8, 8, 9, 15]\n",
      "hasil innerloop [1, 3, 4, 6, 7, 7, 8, 9, 15]\n",
      "hasil innerloop [1, 3, 4, 6, 6, 7, 8, 9, 15]\n",
      "hasil innerloop [1, 3, 4, 4, 6, 7, 8, 9, 15]\n",
      "hasil innerloop [1, 3, 3, 4, 6, 7, 8, 9, 15]\n",
      "hasil sementara [1, 2, 3, 4, 6, 7, 8, 9, 15]\n",
      "Data urut :  [1, 2, 3, 4, 6, 7, 8, 9, 15]\n"
     ]
    }
   ],
   "source": [
    "data = [7,4,1,8,6,15,9,3,2]\n",
    "#base case data = [1,2,3,4]\n",
    "#worsh case data = [4,3,2,1]\n",
    "\n",
    "for i in range(len(data)-1):\n",
    "    idx = i+1\n",
    "    flag =  data[idx]\n",
    "    print('[',idx,']:',flag)\n",
    "    j = idx-1\n",
    "    while j > -1 and data[j] > flag :\n",
    "#         print('Perbandingan indeks :',idx,j)\n",
    "        data[j+1] = data[j]\n",
    "        print('hasil innerloop',data)\n",
    "        j -=1\n",
    "    data[j+1]=flag\n",
    "    print('hasil sementara',data)\n",
    "print('Data urut : ',data)"
   ]
  },
  {
   "cell_type": "code",
   "execution_count": 10,
   "id": "1cc38737",
   "metadata": {},
   "outputs": [
    {
     "name": "stdout",
     "output_type": "stream",
     "text": [
      "[1, 6, 9, 4, 5, 56, 3, 1]\n",
      "[1, 6, 9, 4, 5, 56, 3, 1]\n",
      "[1, 6, 9, 4, 5, 56, 3, 1]\n",
      "inner= [1, 6, 9, 9, 5, 56, 3, 1]\n",
      "inner= [1, 6, 6, 9, 5, 56, 3, 1]\n",
      "[1, 4, 6, 9, 5, 56, 3, 1]\n",
      "inner= [1, 4, 6, 9, 9, 56, 3, 1]\n",
      "inner= [1, 4, 6, 6, 9, 56, 3, 1]\n",
      "[1, 4, 5, 6, 9, 56, 3, 1]\n",
      "[1, 4, 5, 6, 9, 56, 3, 1]\n",
      "inner= [1, 4, 5, 6, 9, 56, 56, 1]\n",
      "inner= [1, 4, 5, 6, 9, 9, 56, 1]\n",
      "inner= [1, 4, 5, 6, 6, 9, 56, 1]\n",
      "inner= [1, 4, 5, 5, 6, 9, 56, 1]\n",
      "inner= [1, 4, 4, 5, 6, 9, 56, 1]\n",
      "[1, 3, 4, 5, 6, 9, 56, 1]\n",
      "inner= [1, 3, 4, 5, 6, 9, 56, 56]\n",
      "inner= [1, 3, 4, 5, 6, 9, 9, 56]\n",
      "inner= [1, 3, 4, 5, 6, 6, 9, 56]\n",
      "inner= [1, 3, 4, 5, 5, 6, 9, 56]\n",
      "inner= [1, 3, 4, 4, 5, 6, 9, 56]\n",
      "inner= [1, 3, 3, 4, 5, 6, 9, 56]\n",
      "sortedData= [1, 1, 3, 4, 5, 6, 9, 56]\n"
     ]
    }
   ],
   "source": [
    "def insertionSort(listData):\n",
    "    for outIter in range(1,len(listData)):\n",
    "        print(listData)\n",
    "        key=listData[outIter]\n",
    "        ind=outIter\n",
    "        while (ind>0 and listData[ind-1]>key):\n",
    "            listData[ind]=listData[ind-1]\n",
    "            ind=ind-1\n",
    "            print('inner=',listData)\n",
    "        listData[ind]=key\n",
    "\n",
    "    print('sortedData=',listData) \n",
    "    \n",
    "insertionSort([1,6,9,4,5,56,3,1])"
   ]
  },
  {
   "cell_type": "code",
   "execution_count": 67,
   "id": "55bead0b",
   "metadata": {},
   "outputs": [
    {
     "name": "stdout",
     "output_type": "stream",
     "text": [
      "2\n",
      "4\n",
      "3\n",
      ">< 4\n",
      "5\n"
     ]
    }
   ],
   "source": [
    "data = [8,3,0,11,4]\n",
    "data = [1,2,4,3,5]\n",
    "\n",
    "for i in range(1,len(data)):\n",
    "    print(data[i])\n",
    "    j = i-1\n",
    "#     for j in range(i-1,-1,-1):\n",
    "    while j > -1 and data[i] < data[j]:\n",
    "        print('><',data[j])\n",
    "        j-=1"
   ]
  },
  {
   "cell_type": "code",
   "execution_count": 26,
   "id": "7d478436",
   "metadata": {},
   "outputs": [
    {
     "name": "stdout",
     "output_type": "stream",
     "text": [
      "1 -------\n",
      "[1, 0, 3, 4, 5]\n",
      "1 ------idx\n",
      "inner =  [1, 1, 3, 4, 5]\n",
      "2 -------\n",
      "[0, 1, 3, 4, 5]\n",
      "3 -------\n",
      "[0, 1, 3, 4, 5]\n",
      "4 -------\n",
      "[0, 1, 3, 4, 5]\n",
      "sorted Data =  [0, 1, 3, 4, 5]\n"
     ]
    }
   ],
   "source": [
    "#assending dari kiri ke kanan\n",
    "def insertionSort(listData):\n",
    "    for i in range(1,len(listData)):\n",
    "        print(i,'-------')\n",
    "        print(listData)\n",
    "        key =  listData[i]\n",
    "        idx = i\n",
    "        while idx>0 and listData[idx-1] > key :\n",
    "            print(idx,'------idx')\n",
    "            listData[idx] = listData[idx-1]\n",
    "            idx-= 1\n",
    "            print('inner = ',listData)\n",
    "        listData[idx] = key\n",
    "    print('sorted Data = ',listData)\n",
    "    \n",
    "insertionSort([1,0,3,4,5])"
   ]
  },
  {
   "cell_type": "code",
   "execution_count": 27,
   "id": "2ed44a0f",
   "metadata": {},
   "outputs": [
    {
     "name": "stdout",
     "output_type": "stream",
     "text": [
      "4 -------\n",
      "[1, 0, 3, 4, 5]\n",
      "3 -------\n",
      "[1, 0, 3, 4, 5]\n",
      "2 -------\n",
      "[1, 0, 3, 4, 5]\n",
      "1 -------\n",
      "[1, 0, 3, 4, 5]\n",
      "1 ------idx\n",
      "inner =  [1, 1, 3, 4, 5]\n",
      "0 -------\n",
      "[0, 1, 3, 4, 5]\n",
      "sorted Data =  [0, 1, 3, 4, 5]\n"
     ]
    }
   ],
   "source": [
    "#assending dari kanan ke kiri\n",
    "def insertionSort(listData):\n",
    "    for i in range(len(listData)-1,-1,-1):\n",
    "        print(i,'-------')\n",
    "        print(listData)\n",
    "        key =  listData[i]\n",
    "        idx = i\n",
    "        while idx>0 and listData[idx-1] > key :\n",
    "            print(idx,'------idx')\n",
    "            listData[idx] = listData[idx-1]\n",
    "            idx-= 1\n",
    "            print('inner = ',listData)\n",
    "        listData[idx] = key\n",
    "    print('sorted Data = ',listData)\n",
    "    \n",
    "insertionSort([1,0,3,4,5])"
   ]
  },
  {
   "cell_type": "code",
   "execution_count": 30,
   "id": "03b81c52",
   "metadata": {},
   "outputs": [
    {
     "name": "stdout",
     "output_type": "stream",
     "text": [
      "1 -------\n",
      "[5, 4, 3, 2, 1, 10]\n",
      "2 -------\n",
      "[5, 4, 3, 2, 1, 10]\n",
      "3 -------\n",
      "[5, 4, 3, 2, 1, 10]\n",
      "4 -------\n",
      "[5, 4, 3, 2, 1, 10]\n",
      "5 -------\n",
      "[5, 4, 3, 2, 1, 10]\n",
      "5 ------idx\n",
      "inner =  [5, 4, 3, 2, 1, 1]\n",
      "4 ------idx\n",
      "inner =  [5, 4, 3, 2, 2, 1]\n",
      "3 ------idx\n",
      "inner =  [5, 4, 3, 3, 2, 1]\n",
      "2 ------idx\n",
      "inner =  [5, 4, 4, 3, 2, 1]\n",
      "1 ------idx\n",
      "inner =  [5, 5, 4, 3, 2, 1]\n",
      "sorted Data =  [10, 5, 4, 3, 2, 1]\n"
     ]
    }
   ],
   "source": [
    "# decending dari kiri ke kanan\n",
    "def insertionSort(listData):\n",
    "    for i in range(1,len(listData)):\n",
    "        print(i,'-------')\n",
    "        print(listData)\n",
    "        key =  listData[i]\n",
    "        idx = i\n",
    "        while idx>0 and listData[idx-1] < key :\n",
    "            print(idx,'------idx')\n",
    "            listData[idx] = listData[idx-1]\n",
    "            idx-= 1\n",
    "            print('inner = ',listData)\n",
    "        listData[idx] = key\n",
    "    print('sorted Data = ',listData)\n",
    "    \n",
    "insertionSort([5,4,3,2,1,10])"
   ]
  },
  {
   "cell_type": "code",
   "execution_count": 32,
   "id": "5e4d4c1d",
   "metadata": {},
   "outputs": [
    {
     "name": "stdout",
     "output_type": "stream",
     "text": [
      "4 -------\n",
      "[5, 4, 3, 2, 10]\n",
      "4 ------idx\n",
      "inner =  [5, 4, 3, 2, 2]\n",
      "3 ------idx\n",
      "inner =  [5, 4, 3, 3, 2]\n",
      "2 ------idx\n",
      "inner =  [5, 4, 4, 3, 2]\n",
      "1 ------idx\n",
      "inner =  [5, 5, 4, 3, 2]\n",
      "3 -------\n",
      "[10, 5, 4, 3, 2]\n",
      "2 -------\n",
      "[10, 5, 4, 3, 2]\n",
      "1 -------\n",
      "[10, 5, 4, 3, 2]\n",
      "0 -------\n",
      "[10, 5, 4, 3, 2]\n",
      "sorted Data =  [10, 5, 4, 3, 2]\n"
     ]
    }
   ],
   "source": [
    "# decending dari kanan ke kiri\n",
    "def insertionSort(listData):\n",
    "    for i in range(len(listData)-1,-1,-1):\n",
    "        print(i,'-------')\n",
    "        print(listData)\n",
    "        key =  listData[i]\n",
    "        idx = i\n",
    "        while idx>0 and listData[idx-1] < key :\n",
    "            print(idx,'------idx')\n",
    "            listData[idx] = listData[idx-1]\n",
    "            idx-= 1\n",
    "            print('inner = ',listData)\n",
    "        listData[idx] = key\n",
    "    print('sorted Data = ',listData)\n",
    "    \n",
    "insertionSort([5,4,3,2,10])"
   ]
  },
  {
   "cell_type": "code",
   "execution_count": null,
   "id": "7aa41733",
   "metadata": {},
   "outputs": [],
   "source": []
  }
 ],
 "metadata": {
  "kernelspec": {
   "display_name": "Python 3 (ipykernel)",
   "language": "python",
   "name": "python3"
  },
  "language_info": {
   "codemirror_mode": {
    "name": "ipython",
    "version": 3
   },
   "file_extension": ".py",
   "mimetype": "text/x-python",
   "name": "python",
   "nbconvert_exporter": "python",
   "pygments_lexer": "ipython3",
   "version": "3.9.12"
  }
 },
 "nbformat": 4,
 "nbformat_minor": 5
}
