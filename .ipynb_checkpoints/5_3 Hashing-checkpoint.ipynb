{
 "cells": [
  {
   "cell_type": "code",
   "execution_count": 1,
   "id": "af39aefe",
   "metadata": {},
   "outputs": [],
   "source": [
    "def initHashTable(n):\n",
    "    return [None for i in range(n)]\n",
    "\n",
    "def initHashTable2(n,hashTable):\n",
    "    for i in range(n):\n",
    "        hashTable.append(None)\n",
    "        \n",
    "def remainderFun(data,n):\n",
    "    return data%n\n",
    "\n",
    "def putData(dataList,hashTable):\n",
    "    for dt in dataList:\n",
    "        hashTable[remainderFun(dt,len(hashTable))] = dt\n",
    "\n"
   ]
  },
  {
   "cell_type": "code",
   "execution_count": 2,
   "id": "f9f41cf4",
   "metadata": {},
   "outputs": [
    {
     "name": "stdout",
     "output_type": "stream",
     "text": [
      "[None, None, None, None, None, None, None, None, None, None, None]\n",
      "[88, None, None, None, 26, 93, 17, None, None, 31, 54]\n"
     ]
    }
   ],
   "source": [
    "data = [54,26,93,17,77,31,88]\n",
    "dataTable = initHashTable(11)\n",
    "print(dataTable)\n",
    "putData(data,dataTable)\n",
    "print(dataTable)"
   ]
  },
  {
   "cell_type": "code",
   "execution_count": null,
   "id": "ae038bd7",
   "metadata": {},
   "outputs": [],
   "source": []
  },
  {
   "cell_type": "code",
   "execution_count": 3,
   "id": "f9584d70",
   "metadata": {},
   "outputs": [],
   "source": [
    "def remainderFunction(data,num):\n",
    "    return data%num\n",
    "\n",
    "def createHashTable(num):\n",
    "    temp = []\n",
    "    for i in range(num):\n",
    "        temp.append(None)\n",
    "    return temp\n",
    "\n",
    "def putData(data,table):\n",
    "    for i in range(len(data)):\n",
    "        idx = remainderFunction(data[i],len(table))\n",
    "        table[idx]=data[i]\n",
    "    return table\n",
    "\n",
    "def searchHash(data,table):\n",
    "    hashVal = remainderFunction(data,len(table))\n",
    "    if data == table[hashVal]:\n",
    "        return True \n",
    "    else:\n",
    "        return False "
   ]
  },
  {
   "cell_type": "code",
   "execution_count": 4,
   "id": "52d149e3",
   "metadata": {},
   "outputs": [
    {
     "name": "stdout",
     "output_type": "stream",
     "text": [
      "[None, None, None, None, None, None, None, None, None, None, None]\n"
     ]
    }
   ],
   "source": [
    "a=[54, 26, 93, 17, 77, 31]\n",
    "hashTable=createHashTable(11)\n",
    "print(hashTable)"
   ]
  },
  {
   "cell_type": "code",
   "execution_count": 5,
   "id": "7ebd5914",
   "metadata": {},
   "outputs": [
    {
     "name": "stdout",
     "output_type": "stream",
     "text": [
      "[77, None, None, None, 26, 93, 17, None, None, 31, 54]\n"
     ]
    }
   ],
   "source": [
    "hashTable=putData(a,hashTable)\n",
    "print(hashTable)"
   ]
  },
  {
   "cell_type": "code",
   "execution_count": 6,
   "id": "ec6c8b89",
   "metadata": {},
   "outputs": [
    {
     "data": {
      "text/plain": [
       "True"
      ]
     },
     "execution_count": 6,
     "metadata": {},
     "output_type": "execute_result"
    }
   ],
   "source": [
    "searchHash(77,hashTable)"
   ]
  },
  {
   "cell_type": "markdown",
   "id": "710737d7",
   "metadata": {},
   "source": [
    "### Perfect Hash Function"
   ]
  },
  {
   "cell_type": "code",
   "execution_count": 7,
   "id": "af5301a3",
   "metadata": {},
   "outputs": [],
   "source": [
    "def midSqFunction(data,num):\n",
    "    hasil = str(data**2)\n",
    "    if len(hasil)%2==1:\n",
    "        mid = int(hasil[len(hasil)//2])\n",
    "    else:\n",
    "        mid = int(hasil[len(hasil)//2-1:len(hasil)//2+1])\n",
    "    return mid%num\n",
    "\n",
    "def PutData2(data,table):\n",
    "    for i in range(len(data)):\n",
    "        idx = midSqFunction(data[i],len(table))\n",
    "        table[idx] = data[i]\n",
    "    return table\n",
    "        \n",
    "def perfectHash(data,table):\n",
    "    hasVal = midSqFunction(data,len(table))\n",
    "    print(hasVal)\n",
    "    if data == table[hasVal]:\n",
    "        return True\n",
    "    else :\n",
    "        return False"
   ]
  },
  {
   "cell_type": "code",
   "execution_count": 8,
   "id": "6dbf406e",
   "metadata": {},
   "outputs": [
    {
     "name": "stdout",
     "output_type": "stream",
     "text": [
      "[None, None, None, None, None, None, None, None, None, None, None]\n"
     ]
    }
   ],
   "source": [
    "a=[54, 26, 93, 17, 77, 31,44,11]\n",
    "hashTable=createHashTable(11)\n",
    "print(hashTable)"
   ]
  },
  {
   "cell_type": "code",
   "execution_count": 9,
   "id": "7e8beb06",
   "metadata": {},
   "outputs": [
    {
     "name": "stdout",
     "output_type": "stream",
     "text": [
      "[None, None, 11, 54, 77, 44, 31, 26, 17, 93, None]\n"
     ]
    }
   ],
   "source": [
    "hashTable=PutData2(a,hashTable)\n",
    "print(hashTable)"
   ]
  },
  {
   "cell_type": "code",
   "execution_count": 10,
   "id": "78ea7f8f",
   "metadata": {},
   "outputs": [
    {
     "name": "stdout",
     "output_type": "stream",
     "text": [
      "2\n"
     ]
    },
    {
     "data": {
      "text/plain": [
       "True"
      ]
     },
     "execution_count": 10,
     "metadata": {},
     "output_type": "execute_result"
    }
   ],
   "source": [
    "perfectHash(11,hashTable)"
   ]
  },
  {
   "cell_type": "markdown",
   "id": "a1af7228",
   "metadata": {},
   "source": [
    "### Hash String Function"
   ]
  },
  {
   "cell_type": "code",
   "execution_count": 11,
   "id": "138290d6",
   "metadata": {},
   "outputs": [
    {
     "name": "stdout",
     "output_type": "stream",
     "text": [
      "302\n",
      "302\n"
     ]
    }
   ],
   "source": [
    "def strVal(strData):\n",
    "    temp=0\n",
    "    for i in strData:\n",
    "        temp+=ord(i)\n",
    "    return temp\n",
    "print(strVal('adi'))\n",
    "print(strVal('ida'))\n",
    "# menghasilkan nilai yang sama jika terdapat anagram"
   ]
  },
  {
   "cell_type": "code",
   "execution_count": 12,
   "id": "ae4b2ef2",
   "metadata": {},
   "outputs": [
    {
     "name": "stdout",
     "output_type": "stream",
     "text": [
      "1684\n",
      "1616\n"
     ]
    }
   ],
   "source": [
    "def modStrVal(strData):\n",
    "    temp=0\n",
    "    for i in range(len(strData)):\n",
    "        temp+=ord(strData[i])*(i+1)\n",
    "    return temp\n",
    "print(modStrVal('kasur'))\n",
    "print(modStrVal('rusak'))\n"
   ]
  },
  {
   "cell_type": "code",
   "execution_count": 15,
   "id": "6e25cd0e",
   "metadata": {},
   "outputs": [],
   "source": [
    "def remainderFunctionStr(data,num):\n",
    "    return modStrVal(data)%num\n",
    "\n",
    "def putDataStr(data,table):\n",
    "    for i in range(len(data)):\n",
    "        idx = remainderFunctionStr(data[i],len(table))\n",
    "        table[idx]=data[i]\n",
    "    return table\n",
    "\n",
    "def searchHashStr(data,table):\n",
    "    hashVal = remainderFunctionStr(data,len(table))\n",
    "    if data == table[hashVal]:\n",
    "        return True \n",
    "    else:\n",
    "        return False "
   ]
  },
  {
   "cell_type": "code",
   "execution_count": 19,
   "id": "787c8cea",
   "metadata": {},
   "outputs": [
    {
     "name": "stdout",
     "output_type": "stream",
     "text": [
      "[None, None, None, None, None, None, None, None, None, None, None]\n",
      "['7', None, 'ida', 'f', None, 'ada', None, None, None, None, None]\n"
     ]
    },
    {
     "data": {
      "text/plain": [
       "True"
      ]
     },
     "execution_count": 19,
     "metadata": {},
     "output_type": "execute_result"
    }
   ],
   "source": [
    "x = ['ada','ida','7','f']\n",
    "ha = createHashTable(11)\n",
    "print(ha)\n",
    "ha = putDataStr(x,ha)\n",
    "print(ha)\n",
    "searchHashStr('ida',ha)"
   ]
  },
  {
   "cell_type": "markdown",
   "id": "664da10c",
   "metadata": {},
   "source": [
    "### Linear Probing"
   ]
  },
  {
   "cell_type": "code",
   "execution_count": 24,
   "id": "06af2c03",
   "metadata": {},
   "outputs": [],
   "source": [
    "def linearProbing(idx,hashTable,data):\n",
    "    count =idx\n",
    "    found = False\n",
    "    while count != idx-1 and not found:\n",
    "        \n",
    "        if hashTable[count] == None:\n",
    "            found = True\n",
    "            hashTable[count] = data\n",
    "        else:\n",
    "            count+=1\n",
    "            if count == len(hashTable)-1:\n",
    "                count=0\n",
    "    return hashTable\n",
    "\n",
    "def putData3(a,hashTable,functionName):\n",
    "    \n",
    "    for i in range(len(a)):\n",
    "        \n",
    "        if functionName == 'reminder':\n",
    "            ind = remainderFunction(a[i],len(hashTable))\n",
    "        elif functionName == 'midSq':\n",
    "            ind = midSqFunction(a[i],len(hashTable))\n",
    "        \n",
    "        if hashTable[ind] == 'none':\n",
    "            hashTable[ind] = a[i]\n",
    "        else:\n",
    "            hashTable=linearProbing(ind,hashTable,a[i])\n",
    "\n",
    "            \n",
    "    return(hashTable)\n",
    "\n",
    "def searchHash2(data,table):\n",
    "    hashVal = remainderFunction(data,len(table))\n",
    "    if data == table[hashVal]:\n",
    "        return True \n",
    "    else:\n",
    "        count = hashVal\n",
    "        found = False\n",
    "        while count != hashVal-1 and not found:\n",
    "            if data == table[count]:\n",
    "                return True\n",
    "            else:\n",
    "                count+=1\n",
    "                if count == len(table)-1:\n",
    "                    count=0\n",
    "\n",
    "        return False"
   ]
  },
  {
   "cell_type": "code",
   "execution_count": 25,
   "id": "98dd216e",
   "metadata": {},
   "outputs": [
    {
     "name": "stdout",
     "output_type": "stream",
     "text": [
      "[None, None, None, None, None, None, None, None, None, None, None]\n",
      "[77, None, None, None, 26, 93, 17, None, None, 31, 54]\n"
     ]
    },
    {
     "data": {
      "text/plain": [
       "True"
      ]
     },
     "execution_count": 25,
     "metadata": {},
     "output_type": "execute_result"
    }
   ],
   "source": [
    "a=[54, 26, 93, 17, 77, 31]\n",
    "hashTable=createHashTable(11)\n",
    "print(hashTable)\n",
    "hashTable=putData3(a,hashTable,'reminder')\n",
    "print(hashTable)\n",
    "searchHash2(77,hashTable)"
   ]
  },
  {
   "cell_type": "code",
   "execution_count": 26,
   "id": "b3e2f2c4",
   "metadata": {},
   "outputs": [
    {
     "name": "stdout",
     "output_type": "stream",
     "text": [
      "[None, None, None, None, None, None, None, None, None, None, None]\n",
      "[77, 44, 55, 20, 26, 93, 17, None, None, 31, 54]\n"
     ]
    },
    {
     "data": {
      "text/plain": [
       "True"
      ]
     },
     "execution_count": 26,
     "metadata": {},
     "output_type": "execute_result"
    }
   ],
   "source": [
    "a=[54, 26, 93, 17, 77, 31,44,55,20]\n",
    "hashTable=createHashTable(11)\n",
    "print(hashTable)\n",
    "hashTable=putData3(a,hashTable,'reminder')\n",
    "print(hashTable)\n",
    "searchHash2(55,hashTable)"
   ]
  },
  {
   "cell_type": "code",
   "execution_count": null,
   "id": "7d2b6c4a",
   "metadata": {},
   "outputs": [],
   "source": [
    "# def quadraticProbing(idx,hashTable,data):\n",
    "#     count =idx\n",
    "#     found = False\n",
    "#     i=1\n",
    "    \n",
    "#     while count < len(hashTable) and not found:\n",
    "        \n",
    "#         if hashTable[count] == 'none':\n",
    "#             found = True\n",
    "#             hashTable[count] = data\n",
    "#         else:\n",
    "#             count=i\n",
    "#             i+=2\n",
    "#             print(count)\n",
    "#     return hashTable"
   ]
  },
  {
   "cell_type": "markdown",
   "id": "bbf2bfe8",
   "metadata": {},
   "source": [
    "### Chaining"
   ]
  },
  {
   "cell_type": "code",
   "execution_count": 27,
   "id": "a20af96e",
   "metadata": {},
   "outputs": [],
   "source": [
    "\n",
    "def hashTableChaining(num):\n",
    "    temp=[]\n",
    "    for i in range(num):\n",
    "        temp.append(['none'])\n",
    "    return temp\n",
    "\n",
    "def putData4(listData,hashTable):\n",
    "    for i in range(len(listData)):\n",
    "        ind =  remainderFunction(listData[i],len(hashTable))\n",
    "        if hashTable[ind][0] == 'none':\n",
    "            hashTable[ind][0] = a[i]\n",
    "        else:\n",
    "            hashTable[ind].append(a[i])\n",
    "            \n",
    "    return hashTable\n",
    "        \n",
    "def searchHashChaining(data,table):\n",
    "    hasVal = data%len(table)\n",
    "    for i in table[hasVal]:\n",
    "        if data == i:\n",
    "            return True\n",
    "    return False"
   ]
  },
  {
   "cell_type": "code",
   "execution_count": 28,
   "id": "3d3b5e3e",
   "metadata": {},
   "outputs": [
    {
     "name": "stdout",
     "output_type": "stream",
     "text": [
      "[['none'], ['none'], ['none'], ['none'], ['none'], ['none'], ['none'], ['none'], ['none'], ['none'], ['none']]\n",
      "[[77, 44, 55], ['none'], ['none'], ['none'], [26], [93], [17], ['none'], ['none'], [31, 20], [54]]\n"
     ]
    },
    {
     "data": {
      "text/plain": [
       "False"
      ]
     },
     "execution_count": 28,
     "metadata": {},
     "output_type": "execute_result"
    }
   ],
   "source": [
    "h = hashTableChaining(11)\n",
    "print(h)\n",
    "hashTab = putData4(a,h)\n",
    "print(hashTab)\n",
    "searchHashChaining(5,hashTab)"
   ]
  },
  {
   "cell_type": "code",
   "execution_count": 75,
   "id": "dae619c2",
   "metadata": {},
   "outputs": [
    {
     "name": "stdout",
     "output_type": "stream",
     "text": [
      "[None, None, None, None, None, None, None, None, None, None, None]\n"
     ]
    },
    {
     "data": {
      "text/plain": [
       "[[77, 44, 55, 66, 99], None, None, None, 26, 93, 17, None, 41, [31, 20], 54]"
      ]
     },
     "execution_count": 75,
     "metadata": {},
     "output_type": "execute_result"
    }
   ],
   "source": [
    "def hashTableCh(num):\n",
    "    return [None for i in range(num)]\n",
    "\n",
    "def putData5(listData,hashTable):\n",
    "    for i in range(len(listData)):\n",
    "        ind =  remainderFunction(listData[i],len(hashTable))\n",
    "        if hashTable[ind] == None:\n",
    "            hashTable[ind] = listData[i]\n",
    "        else:\n",
    "            if type(hashTable[ind]) != list :\n",
    "                hashTable[ind] = [hashTable[ind],listData[i]]\n",
    "            else:\n",
    "                hashTable[ind].append(listData[i])\n",
    "            \n",
    "    return hashTable\n",
    "\n",
    "b = [54, 26, 93, 17, 77, 31,44,55,66,99,20,41]\n",
    "c = hashTableCh(11)\n",
    "print(c)\n",
    "putData5(b,c)"
   ]
  },
  {
   "cell_type": "code",
   "execution_count": 69,
   "id": "af95330d",
   "metadata": {},
   "outputs": [
    {
     "data": {
      "text/plain": [
       "True"
      ]
     },
     "execution_count": 69,
     "metadata": {},
     "output_type": "execute_result"
    }
   ],
   "source": [
    "a = 1\n",
    "a = [a]\n",
    "type(a) == list"
   ]
  },
  {
   "cell_type": "code",
   "execution_count": null,
   "id": "fddf7619",
   "metadata": {},
   "outputs": [],
   "source": []
  }
 ],
 "metadata": {
  "kernelspec": {
   "display_name": "Python 3 (ipykernel)",
   "language": "python",
   "name": "python3"
  },
  "language_info": {
   "codemirror_mode": {
    "name": "ipython",
    "version": 3
   },
   "file_extension": ".py",
   "mimetype": "text/x-python",
   "name": "python",
   "nbconvert_exporter": "python",
   "pygments_lexer": "ipython3",
   "version": "3.9.12"
  }
 },
 "nbformat": 4,
 "nbformat_minor": 5
}
