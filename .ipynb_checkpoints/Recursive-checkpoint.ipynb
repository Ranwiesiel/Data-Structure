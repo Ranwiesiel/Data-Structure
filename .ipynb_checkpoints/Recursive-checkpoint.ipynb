{
 "cells": [
  {
   "cell_type": "code",
   "execution_count": 2,
   "id": "1953f901",
   "metadata": {},
   "outputs": [
    {
     "name": "stdout",
     "output_type": "stream",
     "text": [
      "24\n"
     ]
    }
   ],
   "source": [
    "def factorialRecrusive(bil):\n",
    "    if bil < 1 :\n",
    "        return 1 \n",
    "    else :\n",
    "        return bil * factorialRecrusive(bil-1)\n",
    "    \n",
    "data = factorialRecrusive(4)\n",
    "print(data)"
   ]
  },
  {
   "cell_type": "code",
   "execution_count": 5,
   "id": "8c0a6916",
   "metadata": {},
   "outputs": [
    {
     "data": {
      "text/plain": [
       "6"
      ]
     },
     "execution_count": 5,
     "metadata": {},
     "output_type": "execute_result"
    }
   ],
   "source": [
    "def triangularNumbers(n):\n",
    "    if n == 1 :\n",
    "        return 1\n",
    "    else:\n",
    "        return n + triangularNumbers(n-1)\n",
    "\n",
    "triangularNumbers(3)"
   ]
  },
  {
   "cell_type": "code",
   "execution_count": 12,
   "id": "dae6c4e4",
   "metadata": {},
   "outputs": [
    {
     "name": "stdout",
     "output_type": "stream",
     "text": [
      "<class 'int'> 125 <class 'int'> 0\n",
      "<class 'int'> 15 <class 'int'> 5\n",
      "<class 'int'> 1 <class 'int'> 7\n"
     ]
    },
    {
     "data": {
      "text/plain": [
       "'1750'"
      ]
     },
     "execution_count": 12,
     "metadata": {},
     "output_type": "execute_result"
    }
   ],
   "source": [
    "def convertDesimal(des,base):\n",
    "    chrBilangan = '0123456789ABCDEF'\n",
    "    if des < base :\n",
    "        return chrBilangan[des]\n",
    "    else:\n",
    "        temp = des // base\n",
    "        idx = des % base\n",
    "        print(type(temp),temp,type(idx),idx)\n",
    "        return convertDesimal(temp,base)+chrBilangan[idx]\n",
    "    \n",
    "convertDesimal(1000,8)"
   ]
  },
  {
   "cell_type": "code",
   "execution_count": 41,
   "id": "5bd8b87c",
   "metadata": {},
   "outputs": [
    {
     "name": "stdout",
     "output_type": "stream",
     "text": [
      "Piringan - 1 dari- A ke- B\n",
      "Piringan - 2 dari- A ke- C\n",
      "Piringan - 1 dari- B ke- C\n",
      "Piringan - 3 dari- A ke- B\n",
      "Piringan - 1 dari- C ke- A\n",
      "Piringan - 2 dari- C ke- B\n",
      "Piringan - 1 dari- A ke- B\n",
      "Piringan - 4 dari- A ke- C\n",
      "Piringan - 1 dari- B ke- C\n",
      "Piringan - 2 dari- B ke- A\n",
      "Piringan - 1 dari- C ke- A\n",
      "Piringan - 3 dari- B ke- C\n",
      "Piringan - 1 dari- A ke- B\n",
      "Piringan - 2 dari- A ke- C\n",
      "Piringan - 1 dari- B ke- C\n"
     ]
    }
   ],
   "source": [
    "def towers (n,awal,bantuan,tujuan):\n",
    "    if n == 1 :\n",
    "        print('Piringan - 1 dari-',awal,'ke-',tujuan)\n",
    "    else:\n",
    "        towers(n-1,awal,tujuan,bantuan)\n",
    "        print(\"Piringan -\",n,'dari-',awal,'ke-',tujuan)\n",
    "        towers(n-1,bantuan,awal,tujuan)\n",
    "        \n",
    "towers(4,'A','B','C')"
   ]
  },
  {
   "cell_type": "code",
   "execution_count": 40,
   "id": "c15419ca",
   "metadata": {},
   "outputs": [
    {
     "name": "stdout",
     "output_type": "stream",
     "text": [
      "Piringan - 1 dari- A ke- B\n"
     ]
    },
    {
     "ename": "UnboundLocalError",
     "evalue": "local variable 'c' referenced before assignment",
     "output_type": "error",
     "traceback": [
      "\u001b[1;31m---------------------------------------------------------------------------\u001b[0m",
      "\u001b[1;31mUnboundLocalError\u001b[0m                         Traceback (most recent call last)",
      "Input \u001b[1;32mIn [40]\u001b[0m, in \u001b[0;36m<cell line: 30>\u001b[1;34m()\u001b[0m\n\u001b[0;32m     25\u001b[0m         \u001b[38;5;66;03m# b a c \u001b[39;00m\n\u001b[0;32m     26\u001b[0m         a,c,b\u001b[38;5;241m=\u001b[39mb,a,c\n\u001b[1;32m---> 30\u001b[0m \u001b[43mtowers\u001b[49m\u001b[43m(\u001b[49m\u001b[38;5;241;43m4\u001b[39;49m\u001b[43m,\u001b[49m\u001b[38;5;124;43m'\u001b[39;49m\u001b[38;5;124;43mA\u001b[39;49m\u001b[38;5;124;43m'\u001b[39;49m\u001b[43m,\u001b[49m\u001b[38;5;124;43m'\u001b[39;49m\u001b[38;5;124;43mB\u001b[39;49m\u001b[38;5;124;43m'\u001b[39;49m\u001b[43m,\u001b[49m\u001b[38;5;124;43m'\u001b[39;49m\u001b[38;5;124;43mC\u001b[39;49m\u001b[38;5;124;43m'\u001b[39;49m\u001b[43m)\u001b[49m\n",
      "Input \u001b[1;32mIn [40]\u001b[0m, in \u001b[0;36mtowers\u001b[1;34m(n, awal, bantuan, tujuan)\u001b[0m\n\u001b[0;32m     12\u001b[0m     \u001b[38;5;28mprint\u001b[39m(\u001b[38;5;124m'\u001b[39m\u001b[38;5;124mC:\u001b[39m\u001b[38;5;130;01m\\n\u001b[39;00m\u001b[38;5;124m'\u001b[39m,c)\n\u001b[0;32m     13\u001b[0m \u001b[38;5;28;01melse\u001b[39;00m :\n\u001b[0;32m     14\u001b[0m     \u001b[38;5;66;03m# a,b,c\u001b[39;00m\n\u001b[1;32m---> 15\u001b[0m     \u001b[43mtowers\u001b[49m\u001b[43m(\u001b[49m\u001b[43mn\u001b[49m\u001b[38;5;241;43m-\u001b[39;49m\u001b[38;5;241;43m1\u001b[39;49m\u001b[43m,\u001b[49m\u001b[43mawal\u001b[49m\u001b[43m,\u001b[49m\u001b[43mtujuan\u001b[49m\u001b[43m,\u001b[49m\u001b[43mbantuan\u001b[49m\u001b[43m)\u001b[49m\n\u001b[0;32m     16\u001b[0m     \u001b[38;5;66;03m# a,c,b\u001b[39;00m\n\u001b[0;32m     17\u001b[0m     a,b,c\u001b[38;5;241m=\u001b[39ma,c,b\n",
      "Input \u001b[1;32mIn [40]\u001b[0m, in \u001b[0;36mtowers\u001b[1;34m(n, awal, bantuan, tujuan)\u001b[0m\n\u001b[0;32m     12\u001b[0m     \u001b[38;5;28mprint\u001b[39m(\u001b[38;5;124m'\u001b[39m\u001b[38;5;124mC:\u001b[39m\u001b[38;5;130;01m\\n\u001b[39;00m\u001b[38;5;124m'\u001b[39m,c)\n\u001b[0;32m     13\u001b[0m \u001b[38;5;28;01melse\u001b[39;00m :\n\u001b[0;32m     14\u001b[0m     \u001b[38;5;66;03m# a,b,c\u001b[39;00m\n\u001b[1;32m---> 15\u001b[0m     \u001b[43mtowers\u001b[49m\u001b[43m(\u001b[49m\u001b[43mn\u001b[49m\u001b[38;5;241;43m-\u001b[39;49m\u001b[38;5;241;43m1\u001b[39;49m\u001b[43m,\u001b[49m\u001b[43mawal\u001b[49m\u001b[43m,\u001b[49m\u001b[43mtujuan\u001b[49m\u001b[43m,\u001b[49m\u001b[43mbantuan\u001b[49m\u001b[43m)\u001b[49m\n\u001b[0;32m     16\u001b[0m     \u001b[38;5;66;03m# a,c,b\u001b[39;00m\n\u001b[0;32m     17\u001b[0m     a,b,c\u001b[38;5;241m=\u001b[39ma,c,b\n",
      "Input \u001b[1;32mIn [40]\u001b[0m, in \u001b[0;36mtowers\u001b[1;34m(n, awal, bantuan, tujuan)\u001b[0m\n\u001b[0;32m     12\u001b[0m     \u001b[38;5;28mprint\u001b[39m(\u001b[38;5;124m'\u001b[39m\u001b[38;5;124mC:\u001b[39m\u001b[38;5;130;01m\\n\u001b[39;00m\u001b[38;5;124m'\u001b[39m,c)\n\u001b[0;32m     13\u001b[0m \u001b[38;5;28;01melse\u001b[39;00m :\n\u001b[0;32m     14\u001b[0m     \u001b[38;5;66;03m# a,b,c\u001b[39;00m\n\u001b[1;32m---> 15\u001b[0m     \u001b[43mtowers\u001b[49m\u001b[43m(\u001b[49m\u001b[43mn\u001b[49m\u001b[38;5;241;43m-\u001b[39;49m\u001b[38;5;241;43m1\u001b[39;49m\u001b[43m,\u001b[49m\u001b[43mawal\u001b[49m\u001b[43m,\u001b[49m\u001b[43mtujuan\u001b[49m\u001b[43m,\u001b[49m\u001b[43mbantuan\u001b[49m\u001b[43m)\u001b[49m\n\u001b[0;32m     16\u001b[0m     \u001b[38;5;66;03m# a,c,b\u001b[39;00m\n\u001b[0;32m     17\u001b[0m     a,b,c\u001b[38;5;241m=\u001b[39ma,c,b\n",
      "Input \u001b[1;32mIn [40]\u001b[0m, in \u001b[0;36mtowers\u001b[1;34m(n, awal, bantuan, tujuan)\u001b[0m\n\u001b[0;32m      6\u001b[0m \u001b[38;5;28;01mif\u001b[39;00m n \u001b[38;5;241m==\u001b[39m \u001b[38;5;241m1\u001b[39m :\n\u001b[0;32m      7\u001b[0m     \u001b[38;5;28mprint\u001b[39m(\u001b[38;5;124m'\u001b[39m\u001b[38;5;124mPiringan - 1 dari-\u001b[39m\u001b[38;5;124m'\u001b[39m,awal,\u001b[38;5;124m'\u001b[39m\u001b[38;5;124mke-\u001b[39m\u001b[38;5;124m'\u001b[39m,tujuan)\n\u001b[1;32m----> 8\u001b[0m     \u001b[43mc\u001b[49m\u001b[38;5;241m.\u001b[39mappend(a[\u001b[38;5;241m0\u001b[39m])\n\u001b[0;32m      9\u001b[0m     a\u001b[38;5;241m.\u001b[39mpop(\u001b[38;5;241m0\u001b[39m)\n\u001b[0;32m     10\u001b[0m     \u001b[38;5;28mprint\u001b[39m(\u001b[38;5;124m'\u001b[39m\u001b[38;5;124mA:\u001b[39m\u001b[38;5;130;01m\\n\u001b[39;00m\u001b[38;5;124m'\u001b[39m,a)\n",
      "\u001b[1;31mUnboundLocalError\u001b[0m: local variable 'c' referenced before assignment"
     ]
    }
   ],
   "source": [
    "global a,b,c\n",
    "a=[1,2,3,4]\n",
    "b =[]\n",
    "c=[]\n",
    "def towers (n,awal,bantuan,tujuan):\n",
    "    if n == 1 :\n",
    "        print('Piringan - 1 dari-',awal,'ke-',tujuan)\n",
    "        c.append(a[0])\n",
    "        a.pop(0)\n",
    "        print('A:\\n',a)\n",
    "        print('B:\\n',b)\n",
    "        print('C:\\n',c)\n",
    "    else :\n",
    "        # a,b,c\n",
    "        towers(n-1,awal,tujuan,bantuan)\n",
    "        # a,c,b\n",
    "        a,b,c=a,c,b\n",
    "        print(\"Piringan -\",n,'dari-',awal,'ke-',tujuan)\n",
    "        c.append(a[n-1])\n",
    "        a.pop(n-1)\n",
    "        print('A:\\n',a)\n",
    "        print('B:\\n',b)\n",
    "        print('C:\\n',c)\n",
    "        towers(n-1,bantuan,awal,tujuan)\n",
    "        # b a c \n",
    "        a,c,b=b,a,c\n",
    "        \n",
    "        \n",
    "        \n",
    "towers(4,'A','B','C')"
   ]
  },
  {
   "cell_type": "code",
   "execution_count": null,
   "id": "db1733a5",
   "metadata": {},
   "outputs": [],
   "source": [
    "def visualTower(n,awal,bantuan,tujuan):\n",
    "    "
   ]
  }
 ],
 "metadata": {
  "kernelspec": {
   "display_name": "Python 3 (ipykernel)",
   "language": "python",
   "name": "python3"
  },
  "language_info": {
   "codemirror_mode": {
    "name": "ipython",
    "version": 3
   },
   "file_extension": ".py",
   "mimetype": "text/x-python",
   "name": "python",
   "nbconvert_exporter": "python",
   "pygments_lexer": "ipython3",
   "version": "3.9.12"
  }
 },
 "nbformat": 4,
 "nbformat_minor": 5
}
