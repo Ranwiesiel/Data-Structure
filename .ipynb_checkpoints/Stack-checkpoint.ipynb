{
 "cells": [
  {
   "cell_type": "code",
   "execution_count": 2,
   "id": "9644b96b",
   "metadata": {},
   "outputs": [],
   "source": [
    "def stack():\n",
    "    s=[]\n",
    "    return s\n",
    "def push(s,data):\n",
    "    s.insert(0,data)\n",
    "def pop(s):\n",
    "    temp=s[0]\n",
    "    data = s.remove(s[0])\n",
    "    return temp\n",
    "def peek(s):\n",
    "    return s[0]\n",
    "def isEmpty(s):\n",
    "    return s == []\n",
    "def size(s):\n",
    "    return len(s)"
   ]
  },
  {
   "cell_type": "code",
   "execution_count": 33,
   "id": "5841c0bf",
   "metadata": {},
   "outputs": [
    {
     "name": "stdout",
     "output_type": "stream",
     "text": [
      "[2, 3]\n",
      "[1, 2, 3]\n",
      "[2, 3]\n",
      "[2, 3]\n"
     ]
    }
   ],
   "source": [
    "data = [1,2,3]\n",
    "data.remove(data[0])\n",
    "print(data)\n",
    "data.insert(0,1)\n",
    "print(data)\n",
    "pop(data)\n",
    "print(data)\n",
    "push(data,pop(data))\n",
    "print(data)"
   ]
  },
  {
   "cell_type": "code",
   "execution_count": 36,
   "id": "db165247",
   "metadata": {},
   "outputs": [
    {
     "name": "stdout",
     "output_type": "stream",
     "text": [
      "1000\n"
     ]
    }
   ],
   "source": [
    "def convertBin(des):\n",
    "    strBin = stack()\n",
    "    while des != 0 :\n",
    "        push(strBin,des%2)\n",
    "        des //= 2\n",
    "    temp=''\n",
    "    for i in range(size(strBin)):\n",
    "        temp+=str(pop(strBin))\n",
    "    return temp\n",
    "print(convertBin(8))"
   ]
  },
  {
   "cell_type": "code",
   "execution_count": 42,
   "id": "0772dda6",
   "metadata": {},
   "outputs": [
    {
     "data": {
      "text/plain": [
       "'uka'"
      ]
     },
     "execution_count": 42,
     "metadata": {},
     "output_type": "execute_result"
    }
   ],
   "source": [
    "def reverseWord(word):\n",
    "    data = stack()\n",
    "    for i in word:\n",
    "        push(data,i)\n",
    "    temp=''\n",
    "    while  not isEmpty(data):\n",
    "        temp+=pop(data)\n",
    "    return temp\n",
    "reverseWord('aku')"
   ]
  },
  {
   "cell_type": "code",
   "execution_count": null,
   "id": "a6b63233",
   "metadata": {},
   "outputs": [],
   "source": [
    "def infixToPostfix(strMath):\n",
    "    hasil=\"\"\n",
    "    oprStc = stack()\n",
    "    oprndStc = stack()\n",
    "    operator = {\"^\":0,\"*\":1,\"/\":1,\"+\":2,\"-\":2}\n",
    "    \n",
    "    for i in strMath :\n",
    "        if i == \"(\":\n",
    "            push(i,oprndStc)\n",
    "        elif i == \")\":\n",
    "            pop(oprndStc)\n",
    "        elif i not in operator.keys():\n",
    "            hasil+=i\n",
    "        elif i in operator.keys():\n",
    "            if :\n",
    "        "
   ]
  },
  {
   "cell_type": "code",
   "execution_count": 5,
   "id": "75a10b15",
   "metadata": {},
   "outputs": [
    {
     "ename": "TypeError",
     "evalue": "'<' not supported between instances of 'list' and 'int'",
     "output_type": "error",
     "traceback": [
      "\u001b[1;31m---------------------------------------------------------------------------\u001b[0m",
      "\u001b[1;31mTypeError\u001b[0m                                 Traceback (most recent call last)",
      "Input \u001b[1;32mIn [5]\u001b[0m, in \u001b[0;36m<cell line: 2>\u001b[1;34m()\u001b[0m\n\u001b[0;32m      1\u001b[0m a \u001b[38;5;241m=\u001b[39m [\u001b[38;5;241m1\u001b[39m,\u001b[38;5;241m2\u001b[39m,\u001b[38;5;241m3\u001b[39m]\n\u001b[1;32m----> 2\u001b[0m \u001b[38;5;28mprint\u001b[39m(\u001b[43ma\u001b[49m\u001b[43m \u001b[49m\u001b[38;5;241;43m<\u001b[39;49m\u001b[43m \u001b[49m\u001b[38;5;241;43m1\u001b[39;49m)\n",
      "\u001b[1;31mTypeError\u001b[0m: '<' not supported between instances of 'list' and 'int'"
     ]
    }
   ],
   "source": []
  }
 ],
 "metadata": {
  "kernelspec": {
   "display_name": "Python 3 (ipykernel)",
   "language": "python",
   "name": "python3"
  },
  "language_info": {
   "codemirror_mode": {
    "name": "ipython",
    "version": 3
   },
   "file_extension": ".py",
   "mimetype": "text/x-python",
   "name": "python",
   "nbconvert_exporter": "python",
   "pygments_lexer": "ipython3",
   "version": "3.9.12"
  }
 },
 "nbformat": 4,
 "nbformat_minor": 5
}
