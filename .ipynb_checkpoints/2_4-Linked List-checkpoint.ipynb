{
 "cells": [
  {
   "cell_type": "code",
   "execution_count": 1,
   "id": "34dae62e",
   "metadata": {},
   "outputs": [],
   "source": [
    "class Node:\n",
    "    def __init__(self,value):\n",
    "        self.item = value\n",
    "        self.next = None\n",
    "    def getItem(self):\n",
    "        return self.item\n",
    "    def getNext(self):\n",
    "        return self.next\n",
    "    def setItem(self,newValue):\n",
    "        self.item = newValue\n",
    "    def setNext(self,newNode):\n",
    "        self.next = newNode\n",
    "       "
   ]
  },
  {
   "cell_type": "code",
   "execution_count": 2,
   "id": "46528a79",
   "metadata": {},
   "outputs": [],
   "source": [
    "class LinkedList:\n",
    "    def __init__(self):\n",
    "        self.head = None #pointer bantuan untuk menunjuk node\n",
    "        \n",
    "    def isEmpty(self):\n",
    "        return self.head == None\n",
    "    \n",
    "#     1) node.next --> head\n",
    "#     2) head --> node\n",
    "\n",
    "    def addFront(self,item): #--> item belum menjadi node\n",
    "        newNode = Node(item)\n",
    "        newNode.next = self.head\n",
    "        self.head = newNode \n",
    "        \n",
    "#     def addFront(self,newNode): #--> item sudah menjadi node\n",
    "#         newNode.next = self.head\n",
    "#         self.head = newNode\n",
    "        \n",
    "    def size(self):\n",
    "        current = self.head\n",
    "        count = 0\n",
    "        while current != None :\n",
    "            count+=1\n",
    "            current = current.getNext()\n",
    "        return count\n",
    "    \n",
    "    def display(self):\n",
    "        current = self.head \n",
    "        temp = \"\"\n",
    "        while current != None :\n",
    "            temp += str(current.getItem()) + \" \"\n",
    "            current = current.getNext()\n",
    "        return temp\n",
    "    \n",
    "    def addRear(self,item):\n",
    "        newNode = Node(item)\n",
    "        if self.head == None :\n",
    "            self.head = newNode\n",
    "        else:\n",
    "            current = self.head\n",
    "            while current.getNext() != None: #harus pakai next\n",
    "                current  = current.getNext()\n",
    "            current.next = newNode\n",
    "\n",
    "    def insertPrev(self,find,item):\n",
    "        newNode = Node(item)\n",
    "        current = self.head\n",
    "        while current != None: #harus pakai next\n",
    "            if current.getItem() == find:\n",
    "                print(current,\"====\")\n",
    "                newNode.next = self.head\n",
    "                self.head = newNode \n",
    "            print(current,'=>',current.getItem())\n",
    "            current  = current.getNext()\n",
    "#         current.next = newNode\n",
    "        \n",
    "# add Rear\n",
    "# insert"
   ]
  },
  {
   "cell_type": "code",
   "execution_count": 3,
   "id": "744873ef",
   "metadata": {},
   "outputs": [
    {
     "name": "stdout",
     "output_type": "stream",
     "text": [
      "None\n"
     ]
    },
    {
     "data": {
      "text/plain": [
       "True"
      ]
     },
     "execution_count": 3,
     "metadata": {},
     "output_type": "execute_result"
    }
   ],
   "source": [
    "data = LinkedList()\n",
    "print(data.head)\n",
    "data.isEmpty()"
   ]
  },
  {
   "cell_type": "code",
   "execution_count": 4,
   "id": "4e5f0f8a",
   "metadata": {},
   "outputs": [
    {
     "name": "stdout",
     "output_type": "stream",
     "text": [
      "<__main__.Node object at 0x000001653E549E80>\n",
      "<__main__.Node object at 0x000001653E534430>\n",
      "<__main__.Node object at 0x000001653E5497C0>\n"
     ]
    }
   ],
   "source": [
    "a = Node(43)\n",
    "b = Node(21)\n",
    "c = Node(78)\n",
    "print(a)\n",
    "print(b)\n",
    "print(c)"
   ]
  },
  {
   "cell_type": "code",
   "execution_count": 5,
   "id": "b331ef20",
   "metadata": {},
   "outputs": [
    {
     "name": "stdout",
     "output_type": "stream",
     "text": [
      "<__main__.Node object at 0x000001653E581C70>\n",
      "<__main__.Node object at 0x000001653E581BE0>\n",
      "<__main__.Node object at 0x000001653E5819D0>\n",
      "4\n",
      "78 43 21 99 \n",
      "78 43 21 99 100 \n",
      "<__main__.Node object at 0x000001653E5819D0> => 78\n",
      "<__main__.Node object at 0x000001653E581BE0> => 43\n",
      "<__main__.Node object at 0x000001653E581C70> ====\n",
      "<__main__.Node object at 0x000001653E581C70> => 21\n",
      "<__main__.Node object at 0x000001653E581B20> => 99\n",
      "<__main__.Node object at 0x000001653E581340> => 100\n"
     ]
    }
   ],
   "source": [
    "data.addRear(99)\n",
    "data.addFront(21)\n",
    "print(data.head)\n",
    "data.addFront(43)\n",
    "print(data.head)\n",
    "data.addFront(78)\n",
    "print(data.head)\n",
    "print(data.size())\n",
    "print(data.display())\n",
    "data.addRear(100)\n",
    "print(data.display())\n",
    "data.insertPrev(21,8)\n",
    "\n",
    "# alamat -> node.next -> newNode -> alamat"
   ]
  },
  {
   "cell_type": "code",
   "execution_count": 6,
   "id": "7177b5e6",
   "metadata": {},
   "outputs": [
    {
     "name": "stdout",
     "output_type": "stream",
     "text": [
      "alamat a <__main__.Node object at 0x000001653E549AC0>\n",
      "43 None\n",
      "21 None\n",
      "55 None\n",
      "21 None\n"
     ]
    }
   ],
   "source": [
    "a = Node(43) #instansiasi\n",
    "print('alamat a',a)\n",
    "b = Node(55)\n",
    "# print(a.item)\n",
    "# print(a.next)\n",
    "data = a.getItem()\n",
    "pointer = a.getNext()\n",
    "print(data,pointer)\n",
    "a.setItem(21)\n",
    "data = a.getItem()\n",
    "pointer = a.getNext()\n",
    "print(data,pointer)\n",
    "data = b.getItem() \n",
    "pointer = b.getNext()\n",
    "print(data,pointer)\n",
    "data = a.getItem()\n",
    "b.setNext(a)\n",
    "pointer = a.getNext()\n",
    "print(data,pointer)"
   ]
  },
  {
   "cell_type": "code",
   "execution_count": null,
   "id": "19007323",
   "metadata": {},
   "outputs": [],
   "source": []
  },
  {
   "cell_type": "code",
   "execution_count": null,
   "id": "c2e6c76e",
   "metadata": {},
   "outputs": [],
   "source": []
  },
  {
   "cell_type": "code",
   "execution_count": null,
   "id": "a68c2a0c",
   "metadata": {},
   "outputs": [],
   "source": []
  },
  {
   "cell_type": "code",
   "execution_count": null,
   "id": "691d6c86",
   "metadata": {},
   "outputs": [],
   "source": []
  },
  {
   "cell_type": "code",
   "execution_count": null,
   "id": "33e1fbf8",
   "metadata": {},
   "outputs": [],
   "source": []
  },
  {
   "cell_type": "code",
   "execution_count": null,
   "id": "57b8c94f",
   "metadata": {},
   "outputs": [],
   "source": []
  },
  {
   "cell_type": "code",
   "execution_count": null,
   "id": "7cdbb631",
   "metadata": {},
   "outputs": [],
   "source": []
  },
  {
   "cell_type": "code",
   "execution_count": null,
   "id": "f74d4202",
   "metadata": {},
   "outputs": [],
   "source": []
  },
  {
   "cell_type": "code",
   "execution_count": null,
   "id": "1442fd23",
   "metadata": {},
   "outputs": [],
   "source": []
  },
  {
   "cell_type": "code",
   "execution_count": null,
   "id": "59d73691",
   "metadata": {},
   "outputs": [],
   "source": []
  },
  {
   "cell_type": "code",
   "execution_count": null,
   "id": "d46d03c4",
   "metadata": {},
   "outputs": [],
   "source": []
  },
  {
   "cell_type": "code",
   "execution_count": 7,
   "id": "c681392d",
   "metadata": {},
   "outputs": [],
   "source": [
    "class Node :\n",
    "    def __init__(self,initData):\n",
    "        self.data = initData\n",
    "        self.next = None\n",
    "    def getData(self):\n",
    "        return self.data\n",
    "    def getNext(self):\n",
    "        return self.next\n",
    "    def setData(self,newData):\n",
    "        self.data = newData\n",
    "    def setNext(self,newNext):\n",
    "        self.next = newNext"
   ]
  },
  {
   "cell_type": "code",
   "execution_count": 8,
   "id": "12fb7d08",
   "metadata": {},
   "outputs": [
    {
     "name": "stdout",
     "output_type": "stream",
     "text": [
      "None\n",
      "None\n",
      "<__main__.Node object at 0x000001653E581190>\n"
     ]
    }
   ],
   "source": [
    "a = Node(93)\n",
    "b = Node(20)\n",
    "print(a.getNext())\n",
    "print(b.getNext())\n",
    "a.setNext(b)\n",
    "print(a.getNext())"
   ]
  },
  {
   "cell_type": "code",
   "execution_count": 9,
   "id": "16d89f48",
   "metadata": {},
   "outputs": [],
   "source": [
    "class LinkedList:\n",
    "    def __init__(self):\n",
    "        self.head = None\n",
    "        \n",
    "    def isEmpty(self):\n",
    "        return self.head == None\n",
    "    \n",
    "    def add(self,item):\n",
    "        temp = Node(item)\n",
    "        temp.setNext(self.head)\n",
    "        self.head = temp\n",
    "        \n",
    "    def size(self):\n",
    "        curent = self.head\n",
    "        count = 0\n",
    "        while curent != None :\n",
    "            count += 1\n",
    "            curent = curent.getNext()\n",
    "        return count\n",
    "    \n",
    "    def search(self,item):\n",
    "        curent = self.head\n",
    "        found = False\n",
    "        while curent != None and not found :\n",
    "            if curent.getData() == item :\n",
    "                found = True \n",
    "            else:\n",
    "                curent = curent.getNext()\n",
    "        return found\n",
    "    \n",
    "    def display(self):\n",
    "        curent = self.head\n",
    "        while curent != None :\n",
    "            print(curent.getData())\n",
    "            curent = curent.getNext()\n",
    "            \n",
    "    def remove(self,item):\n",
    "        curent = self.head\n",
    "        prev = None\n",
    "        found = False\n",
    "        while not found :\n",
    "            if curent.getData() == item :\n",
    "                found = True\n",
    "            else:\n",
    "                prev = curent\n",
    "                curent = curent.getNext()\n",
    "        if prev == None :\n",
    "            self.head = curent.getNext()\n",
    "        else:\n",
    "            prev.setNext(curent.getNext())\n",
    "            \n",
    "    def insertPrev(self,node,item):\n",
    "        curent = self.head\n",
    "        found = False\n",
    "        while curent != None and not found :\n",
    "            if curent.getData() == node :\n",
    "                temp = Node(item)\n",
    "                curent.setNext(temp)\n",
    "                self.head =curent\n",
    "                \n",
    "                found = True\n",
    "            else:\n",
    "                curent = curent.getNext()\n",
    "        "
   ]
  },
  {
   "cell_type": "code",
   "execution_count": 10,
   "id": "ebf5585f",
   "metadata": {},
   "outputs": [],
   "source": [
    "myList = LinkedList()"
   ]
  },
  {
   "cell_type": "code",
   "execution_count": 11,
   "id": "75da0f81",
   "metadata": {},
   "outputs": [
    {
     "name": "stdout",
     "output_type": "stream",
     "text": [
      "None\n"
     ]
    },
    {
     "data": {
      "text/plain": [
       "True"
      ]
     },
     "execution_count": 11,
     "metadata": {},
     "output_type": "execute_result"
    }
   ],
   "source": [
    "print(myList.head)\n",
    "myList.isEmpty()"
   ]
  },
  {
   "cell_type": "code",
   "execution_count": 12,
   "id": "2eeb921a",
   "metadata": {},
   "outputs": [
    {
     "name": "stdout",
     "output_type": "stream",
     "text": [
      "None\n"
     ]
    },
    {
     "data": {
      "text/plain": [
       "True"
      ]
     },
     "execution_count": 12,
     "metadata": {},
     "output_type": "execute_result"
    }
   ],
   "source": [
    "print(myList.head)\n",
    "myList.isEmpty()"
   ]
  },
  {
   "cell_type": "code",
   "execution_count": 13,
   "id": "55f9dad0",
   "metadata": {},
   "outputs": [
    {
     "name": "stdout",
     "output_type": "stream",
     "text": [
      "<__main__.Node object at 0x000001653E59B280>\n"
     ]
    }
   ],
   "source": [
    "myList.add(34)\n",
    "print(myList.head)"
   ]
  },
  {
   "cell_type": "code",
   "execution_count": 14,
   "id": "2e538956",
   "metadata": {},
   "outputs": [
    {
     "name": "stdout",
     "output_type": "stream",
     "text": [
      "<__main__.Node object at 0x000001653E59BA90>\n",
      "45\n"
     ]
    }
   ],
   "source": [
    "myList.add(45)\n",
    "print(myList.head)\n",
    "print(myList.head.data)"
   ]
  },
  {
   "cell_type": "code",
   "execution_count": 15,
   "id": "512c9a63",
   "metadata": {},
   "outputs": [
    {
     "name": "stdout",
     "output_type": "stream",
     "text": [
      "3\n"
     ]
    }
   ],
   "source": [
    "myList.add(21)\n",
    "print(myList.size())"
   ]
  },
  {
   "cell_type": "code",
   "execution_count": 16,
   "id": "4074cf29",
   "metadata": {},
   "outputs": [
    {
     "name": "stdout",
     "output_type": "stream",
     "text": [
      "True\n"
     ]
    }
   ],
   "source": [
    "print(myList.search(21))"
   ]
  },
  {
   "cell_type": "code",
   "execution_count": 17,
   "id": "56a48ed0",
   "metadata": {},
   "outputs": [
    {
     "name": "stdout",
     "output_type": "stream",
     "text": [
      "21\n",
      "45\n",
      "34\n"
     ]
    }
   ],
   "source": [
    "myList.display()"
   ]
  },
  {
   "cell_type": "code",
   "execution_count": 18,
   "id": "0d7e0fb8",
   "metadata": {},
   "outputs": [
    {
     "name": "stdout",
     "output_type": "stream",
     "text": [
      "21\n",
      "45\n",
      "34\n"
     ]
    }
   ],
   "source": [
    "# myList.remove(21)\n",
    "myList.display()"
   ]
  },
  {
   "cell_type": "code",
   "execution_count": 19,
   "id": "adad013b",
   "metadata": {},
   "outputs": [],
   "source": [
    "myList.insertPrev(34,100)"
   ]
  },
  {
   "cell_type": "code",
   "execution_count": 20,
   "id": "b1345bb6",
   "metadata": {},
   "outputs": [
    {
     "name": "stdout",
     "output_type": "stream",
     "text": [
      "34\n",
      "100\n"
     ]
    }
   ],
   "source": [
    "myList.display()"
   ]
  },
  {
   "cell_type": "code",
   "execution_count": null,
   "id": "a8e64122",
   "metadata": {},
   "outputs": [],
   "source": []
  },
  {
   "cell_type": "code",
   "execution_count": 21,
   "id": "6f1af906",
   "metadata": {},
   "outputs": [
    {
     "name": "stdout",
     "output_type": "stream",
     "text": [
      "10 20 30 \n"
     ]
    }
   ],
   "source": [
    "class Node:\n",
    "    def __init__(self, data):\n",
    "        self.data = data\n",
    "        self.next = None\n",
    "\n",
    "\n",
    "class LinkedList:\n",
    "    def __init__(self):\n",
    "        self.head = None\n",
    "        self.tail = None\n",
    "\n",
    "    def insert_rear(self, data):\n",
    "        new_node = Node(data)\n",
    "        \n",
    "        if self.head is None:\n",
    "            self.head = new_node\n",
    "            self.tail = new_node\n",
    "        else:\n",
    "            self.tail.next = new_node\n",
    "            self.tail = new_node\n",
    "\n",
    "    def display(self):\n",
    "        current = self.head\n",
    "        while current:\n",
    "            print(current.data, end=\" \")\n",
    "            current = current.next\n",
    "        print()\n",
    "\n",
    "\n",
    "# Example usage\n",
    "linked_list = LinkedList()\n",
    "\n",
    "linked_list.insert_rear(10)\n",
    "linked_list.insert_rear(20)\n",
    "linked_list.insert_rear(30)\n",
    "\n",
    "linked_list.display()\n"
   ]
  }
 ],
 "metadata": {
  "kernelspec": {
   "display_name": "Python 3 (ipykernel)",
   "language": "python",
   "name": "python3"
  },
  "language_info": {
   "codemirror_mode": {
    "name": "ipython",
    "version": 3
   },
   "file_extension": ".py",
   "mimetype": "text/x-python",
   "name": "python",
   "nbconvert_exporter": "python",
   "pygments_lexer": "ipython3",
   "version": "3.9.12"
  }
 },
 "nbformat": 4,
 "nbformat_minor": 5
}
