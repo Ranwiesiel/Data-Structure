{
 "cells": [
  {
   "cell_type": "code",
   "execution_count": null,
   "id": "996f0383",
   "metadata": {},
   "outputs": [],
   "source": [
    "def seqSearch(listData, data):\n",
    "    idx = 0\n",
    "    found = False\n",
    "    while idx < len(listData) and not found :\n",
    "        if listData[idx] == data:\n",
    "            found = True\n",
    "        else :\n",
    "            idx += 1\n",
    "    return found\n",
    "\n",
    "a = [12,5,9,8,1,10,26]\n",
    "seqSearch(a,-1)"
   ]
  },
  {
   "cell_type": "code",
   "execution_count": null,
   "id": "ad52e4cf",
   "metadata": {},
   "outputs": [],
   "source": [
    "def sequSearch(listData,data):\n",
    "    idx = 0\n",
    "    found = 'Data tidak ada'\n",
    "    while idx < len(listData):\n",
    "        if listData[idx] ==   data:\n",
    "            return idx\n",
    "        idx+=1  \n",
    "    return found\n",
    "\n",
    "b = [12,5,9,8,1,10,26]\n",
    "sequSearch(b,1)"
   ]
  },
  {
   "cell_type": "code",
   "execution_count": null,
   "id": "887e013c",
   "metadata": {},
   "outputs": [],
   "source": [
    "def modSeqSearch(listData,data):\n",
    "    hsl = []\n",
    "    for i in range(len(listData)):\n",
    "        if listData[i] == data :\n",
    "            hsl.append(i)\n",
    "    return hsl\n",
    "\n",
    "c=[1,2,5,4,7,2,2,8,9,2]\n",
    "modSeqSearch(c,2)"
   ]
  },
  {
   "cell_type": "code",
   "execution_count": 1,
   "id": "5358cd70",
   "metadata": {},
   "outputs": [],
   "source": [
    "def orderedSeqSearch(listData,data):\n",
    "    idx = 0\n",
    "    stop = False\n",
    "    position = []\n",
    "    while idx < len(listData) and not stop :\n",
    "        if listData[idx] ==  data :\n",
    "            position.append(idx)\n",
    "        else:\n",
    "            if listData[idx] > data :\n",
    "                stop = True \n",
    "            else:\n",
    "                idx+=1\n",
    "    if found :\n",
    "        return position\n",
    "    else :\n",
    "        return 'Data tidak ada' \n",
    "    \n"
   ]
  },
  {
   "cell_type": "code",
   "execution_count": null,
   "id": "dae190a0",
   "metadata": {},
   "outputs": [],
   "source": []
  },
  {
   "cell_type": "code",
   "execution_count": null,
   "id": "73ac7442",
   "metadata": {},
   "outputs": [],
   "source": [
    "a=[1,1,5,5,5,8,9,10,12,26]\n",
    "ind=orderedSeqSearch(a,5)\n",
    "print(ind)"
   ]
  }
 ],
 "metadata": {
  "kernelspec": {
   "display_name": "Python 3 (ipykernel)",
   "language": "python",
   "name": "python3"
  },
  "language_info": {
   "codemirror_mode": {
    "name": "ipython",
    "version": 3
   },
   "file_extension": ".py",
   "mimetype": "text/x-python",
   "name": "python",
   "nbconvert_exporter": "python",
   "pygments_lexer": "ipython3",
   "version": "3.9.12"
  }
 },
 "nbformat": 4,
 "nbformat_minor": 5
}
