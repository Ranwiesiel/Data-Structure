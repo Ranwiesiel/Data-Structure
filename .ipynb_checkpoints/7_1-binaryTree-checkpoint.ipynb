{
 "cells": [
  {
   "cell_type": "code",
   "execution_count": 12,
   "id": "8b2da775",
   "metadata": {},
   "outputs": [],
   "source": [
    "class BinaryTree:\n",
    "    def __init__(self,value):\n",
    "        self.root = value\n",
    "        self.leftChild = None\n",
    "        self.rightChild  = None\n",
    "        \n",
    "    def getRightChild(self):\n",
    "        return self.rightChild\n",
    "    def getLeftChild(self):\n",
    "        return self.leftChild\n",
    "    def getRoot(self):\n",
    "        return self.root\n",
    "    \n",
    "    def insertLeft(self,newNode):\n",
    "        if self.leftChild == None:\n",
    "            self.leftChild = BinaryTree(newNode)\n",
    "        else:\n",
    "            t = BinaryTree(newNode)\n",
    "            t.leftChild = self.leftChild\n",
    "            self.leftChild = t\n",
    "            \n",
    "    def insertRight(self,newNode):\n",
    "        if self.rightChild == None:\n",
    "            self.rightChild = BinaryTree(newNode)\n",
    "        else:\n",
    "            t = BinaryTree(newNode)\n",
    "            t.rightChild = self.rightChild\n",
    "            self.rightChild = t\n",
    "            \n",
    "\n",
    "#     def setRoot(self,obj):\n",
    "#         self.root = obj\n"
   ]
  },
  {
   "cell_type": "code",
   "execution_count": 11,
   "id": "abe1bee6",
   "metadata": {},
   "outputs": [
    {
     "name": "stdout",
     "output_type": "stream",
     "text": [
      "2 None None\n"
     ]
    }
   ],
   "source": [
    "bt = BinaryTree(2)\n",
    "print(bt.getRoot(),bt.getLeftChild(),bt.getRightChild())"
   ]
  },
  {
   "cell_type": "code",
   "execution_count": 16,
   "id": "c4154e4c",
   "metadata": {},
   "outputs": [
    {
     "name": "stdout",
     "output_type": "stream",
     "text": [
      "2 <__main__.BinaryTree object at 0x000001C60F330430> None\n",
      "3\n",
      "2 <__main__.BinaryTree object at 0x000001C60F330F70> None\n",
      "7\n"
     ]
    }
   ],
   "source": [
    "bt.insertLeft(3)\n",
    "print(bt.getRoot(),bt.getLeftChild(),bt.getRightChild())\n",
    "temp = bt.getLeftChild()\n",
    "print(temp.getRoot())\n",
    "bt.insertLeft(7)\n",
    "print(bt.getRoot(),bt.getLeftChild(),bt.getRightChild())\n",
    "temp = bt.getLeftChild()\n",
    "print(temp.getRoot())"
   ]
  },
  {
   "cell_type": "code",
   "execution_count": null,
   "id": "f02141de",
   "metadata": {},
   "outputs": [],
   "source": []
  },
  {
   "cell_type": "code",
   "execution_count": null,
   "id": "4fcbfe7b",
   "metadata": {},
   "outputs": [],
   "source": []
  },
  {
   "cell_type": "code",
   "execution_count": null,
   "id": "7c40928e",
   "metadata": {},
   "outputs": [],
   "source": []
  },
  {
   "cell_type": "code",
   "execution_count": 3,
   "id": "96d16fd2",
   "metadata": {},
   "outputs": [
    {
     "name": "stdout",
     "output_type": "stream",
     "text": [
      "None\n"
     ]
    }
   ],
   "source": [
    "myTree = BinaryTree(100\n",
    "print(myTree.rightChild)"
   ]
  },
  {
   "cell_type": "code",
   "execution_count": null,
   "id": "31aac7e5",
   "metadata": {},
   "outputs": [],
   "source": []
  }
 ],
 "metadata": {
  "kernelspec": {
   "display_name": "Python 3 (ipykernel)",
   "language": "python",
   "name": "python3"
  },
  "language_info": {
   "codemirror_mode": {
    "name": "ipython",
    "version": 3
   },
   "file_extension": ".py",
   "mimetype": "text/x-python",
   "name": "python",
   "nbconvert_exporter": "python",
   "pygments_lexer": "ipython3",
   "version": "3.9.12"
  }
 },
 "nbformat": 4,
 "nbformat_minor": 5
}
