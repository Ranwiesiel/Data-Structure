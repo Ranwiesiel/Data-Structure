{
 "cells": [
  {
   "cell_type": "code",
   "execution_count": 3,
   "id": "873451cf",
   "metadata": {},
   "outputs": [
    {
     "name": "stdout",
     "output_type": "stream",
     "text": [
      "Posisi Data =  4,3,2,2\n",
      "Jumlah Iterasi =  6\n"
     ]
    }
   ],
   "source": [
    "#SOAL !\n",
    "#2. Buatlah fungsi binary search yang sudah dimodifikasi, sehingga dapat mencari data yang sama dan mengembalikan indeks-indeks dari data yang sama tersebut. Argument atau parameter pada fungsi tersebut berupa:\n",
    "#a. data yang akan dicari\n",
    "#b. list data dari data yang akan dicari\n",
    "#Sedangkan return value dari fungsi ini berupa:\n",
    "#a. indeks-indeks atau posisi dari data yang dicari pada list (jika data ditemukan), dan ‘Data tidak ada’ jika data tidak ditemukan.\n",
    "#b. Jumlah iterasi yang diperlukan selama proses pencarian.\n",
    "\n",
    "def binSearch(listData, data):\n",
    "    first = 0\n",
    "    last = len(listData) - 1\n",
    "    found = \"\"\n",
    "    iterasi = 0\n",
    "    midpoint = int(len(listData)/2)\n",
    "    while  iterasi < int(len(listData)/2)+1:\n",
    "           if listData[midpoint] < data:\n",
    "                if data == listData[midpoint]:\n",
    "                found += str(midpoint)\n",
    "                midpoint += 1\n",
    "           else:\n",
    "               if data == listData[midpoint]:\n",
    "                found += str(midpoint)\n",
    "                midpoint -= 1\n",
    "           iterasi +=1\n",
    "    \n",
    "    if len(found) > 0:\n",
    "        return([','.join(found),iterasi])\n",
    "    else:\n",
    "        return(['Data tidak ditemukan',iterasi])\n",
    "        \n",
    "a=[1,1,5,5,5,8,9,10,12,26]\n",
    "[hasil,iterasi]=binSearch(a,5)\n",
    "print('Posisi Data = ',hasil)\n",
    "print('Jumlah Iterasi = ',iterasi)"
   ]
  }
 ],
 "metadata": {
  "kernelspec": {
   "display_name": "Python 3 (ipykernel)",
   "language": "python",
   "name": "python3"
  },
  "language_info": {
   "codemirror_mode": {
    "name": "ipython",
    "version": 3
   },
   "file_extension": ".py",
   "mimetype": "text/x-python",
   "name": "python",
   "nbconvert_exporter": "python",
   "pygments_lexer": "ipython3",
   "version": "3.9.12"
  }
 },
 "nbformat": 4,
 "nbformat_minor": 5
}
