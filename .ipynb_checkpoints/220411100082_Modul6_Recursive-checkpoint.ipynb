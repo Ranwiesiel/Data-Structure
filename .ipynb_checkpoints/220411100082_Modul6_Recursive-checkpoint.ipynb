{
 "cells": [
  {
   "cell_type": "markdown",
   "id": "e84b6f4c",
   "metadata": {},
   "source": [
    "## 1\tKonsep\n",
    "1.\tJelaskan secara lengkap mengenai fungsi (Tujuan menggunakan Fungsi, Syntax tanpa parameter, syntax dengan parameter, syntax return value , Contoh masing-masing jenis fungsi tersebut)\n",
    "2.\tJelaskan tentang Fungsi Rekursif (komponen yang harus ada dalam fungsi rekursif, contoh fungsirekursif)\n"
   ]
  },
  {
   "cell_type": "markdown",
   "id": "3a512091",
   "metadata": {},
   "source": [
    "### Konsep_1\n",
    "1. Fungsi adalah sebuah blok kode (dapat diasumsikan variable) yang dapat dipanggil oleh bagian lain dari program untuk melakukan tugas tertentu yang bertujuan untuk membantu dalam mengelompokkan sebuah code/syntax menjadi bagian-bagian tertentu yang memudahkan dalam pengembangan ataupun pemecahan masalah.\n",
    "- Syntax tanpa parameter\n",
    "```\n",
    "def namaFungsi():\n",
    "    syntax_1\n",
    "    syntax_2\n",
    "    ....\n",
    "    syntax_n\n",
    "namaFungsi()\n",
    "```\n",
    "- contoh\n",
    "~~~python\n",
    "def cetakHello():\n",
    "    print(\"Hello\")  \n",
    "cetakHello() \n",
    "~~~\n",
    "- Syntax dengan perameter\n",
    "~~~\n",
    "def namaFun(param):\n",
    "    syntax_1\n",
    "    syntax_2\n",
    "    ....\n",
    "    syntax_n\n",
    "~~~\n",
    "- contoh\n",
    "~~~python\n",
    "def cetakSelamat(nama):\n",
    "    print(\"Selamat Pagi\",nama)\n",
    "cetakSelamat(\"Dody\")\n",
    "~~~\n",
    "- Syntax dengan return value\n",
    "~~~\n",
    "def nameFunction():\n",
    "    syntax_1\n",
    "    ...\n",
    "    syntax_n\n",
    "    return nilai\n",
    "~~~\n",
    "- contoh\n",
    "~~~python\n",
    "def penjumlahan(num1,num2):\n",
    "    return (num1 + num2)\n",
    "penjumlahan(3,7)\n",
    "~~~\n",
    "2. Recursive adalah sebuah konsep pemrogramman dimana suatu fungsi dapat memanggil dirinya sendiri. Recursive digunakan untuk menyelesaikan sebuah persoalan yang dapat dipecahkan dengan cara membagi persoalan menjadi lebih kecil yang lebih mudah diselesaikan.\n",
    "-  Komponen yang harus ada dalam fungsi recursive:\n",
    "1. Base case, kondisi yang digunakan untuk menghentikan recursive, biasanya base case adalah persoalan terkecil atau persoalan paling sederhana yang dapat langsung di pecahkan tanpa perlu recursive. \n",
    "2. sintaks yang dapat merubah state dari permasalahan secara berulang sehingga semakin lama solusi permasalahan menuju base case yang sudah dibuat\n",
    "3. Pemanggilan dirinya sendiri dengan parameter yang lebih sederhana atau lebih kecil sampai mencapai base case\n",
    "\n",
    "- contoh :\n",
    "~~~python\n",
    "def faktorialRecursive(num):\n",
    "        if num == 1:\n",
    "            return 1\n",
    "       else:\n",
    "            return num * faktorialRecursive(num-1)\n",
    "faktorialRecursive(5)\n",
    "~~~\n"
   ]
  },
  {
   "cell_type": "markdown",
   "id": "019abca0",
   "metadata": {},
   "source": [
    "## 2\tImplementasi #1\n",
    "Terdapat suatu deret aritmatika dengan persamaan Un = a + (n− 1)b, dimana Un merupakan suku ke-n, a adalah suku awal, dan b merupakan beda atau selisih antara suku yang berdekatan. Buatlah suatu list berisi data-data yang memenuhi persamaan deret aritmatika tersebut dengan minimal banyaknya anggota adalah 500, dan buatlah fungsi-fungsi berikut ini :\n",
    "1.\tFungsi iteratif untuk menghitung total semua bilangan yang terdapat pada deret aritmatika tersebut\n",
    "2.\tFungsi Rekursif untuk menghitung total semua bilangan yang terdapat pada deret aritmatika tersebut\n"
   ]
  },
  {
   "cell_type": "code",
   "execution_count": 5,
   "id": "3afebc0b",
   "metadata": {},
   "outputs": [
    {
     "name": "stdout",
     "output_type": "stream",
     "text": [
      "List Deret Aritmatika : \n",
      " [3, 7, 11, 15, 19, 23, 27, 31, 35, 39, 43, 47, 51, 55, 59, 63, 67, 71, 75, 79, 83, 87, 91, 95, 99, 103, 107, 111, 115, 119, 123, 127, 131, 135, 139, 143, 147, 151, 155, 159, 163, 167, 171, 175, 179, 183, 187, 191, 195, 199, 203, 207, 211, 215, 219, 223, 227, 231, 235, 239, 243, 247, 251, 255, 259, 263, 267, 271, 275, 279, 283, 287, 291, 295, 299, 303, 307, 311, 315, 319, 323, 327, 331, 335, 339, 343, 347, 351, 355, 359, 363, 367, 371, 375, 379, 383, 387, 391, 395, 399, 403, 407, 411, 415, 419, 423, 427, 431, 435, 439, 443, 447, 451, 455, 459, 463, 467, 471, 475, 479, 483, 487, 491, 495, 499, 503, 507, 511, 515, 519, 523, 527, 531, 535, 539, 543, 547, 551, 555, 559, 563, 567, 571, 575, 579, 583, 587, 591, 595, 599, 603, 607, 611, 615, 619, 623, 627, 631, 635, 639, 643, 647, 651, 655, 659, 663, 667, 671, 675, 679, 683, 687, 691, 695, 699, 703, 707, 711, 715, 719, 723, 727, 731, 735, 739, 743, 747, 751, 755, 759, 763, 767, 771, 775, 779, 783, 787, 791, 795, 799, 803, 807, 811, 815, 819, 823, 827, 831, 835, 839, 843, 847, 851, 855, 859, 863, 867, 871, 875, 879, 883, 887, 891, 895, 899, 903, 907, 911, 915, 919, 923, 927, 931, 935, 939, 943, 947, 951, 955, 959, 963, 967, 971, 975, 979, 983, 987, 991, 995, 999, 1003, 1007, 1011, 1015, 1019, 1023, 1027, 1031, 1035, 1039, 1043, 1047, 1051, 1055, 1059, 1063, 1067, 1071, 1075, 1079, 1083, 1087, 1091, 1095, 1099, 1103, 1107, 1111, 1115, 1119, 1123, 1127, 1131, 1135, 1139, 1143, 1147, 1151, 1155, 1159, 1163, 1167, 1171, 1175, 1179, 1183, 1187, 1191, 1195, 1199, 1203, 1207, 1211, 1215, 1219, 1223, 1227, 1231, 1235, 1239, 1243, 1247, 1251, 1255, 1259, 1263, 1267, 1271, 1275, 1279, 1283, 1287, 1291, 1295, 1299, 1303, 1307, 1311, 1315, 1319, 1323, 1327, 1331, 1335, 1339, 1343, 1347, 1351, 1355, 1359, 1363, 1367, 1371, 1375, 1379, 1383, 1387, 1391, 1395, 1399, 1403, 1407, 1411, 1415, 1419, 1423, 1427, 1431, 1435, 1439, 1443, 1447, 1451, 1455, 1459, 1463, 1467, 1471, 1475, 1479, 1483, 1487, 1491, 1495, 1499, 1503, 1507, 1511, 1515, 1519, 1523, 1527, 1531, 1535, 1539, 1543, 1547, 1551, 1555, 1559, 1563, 1567, 1571, 1575, 1579, 1583, 1587, 1591, 1595, 1599, 1603, 1607, 1611, 1615, 1619, 1623, 1627, 1631, 1635, 1639, 1643, 1647, 1651, 1655, 1659, 1663, 1667, 1671, 1675, 1679, 1683, 1687, 1691, 1695, 1699, 1703, 1707, 1711, 1715, 1719, 1723, 1727, 1731, 1735, 1739, 1743, 1747, 1751, 1755, 1759, 1763, 1767, 1771, 1775, 1779, 1783, 1787, 1791, 1795, 1799, 1803, 1807, 1811, 1815, 1819, 1823, 1827, 1831, 1835, 1839, 1843, 1847, 1851, 1855, 1859, 1863, 1867, 1871, 1875, 1879, 1883, 1887, 1891, 1895, 1899, 1903, 1907, 1911, 1915, 1919, 1923, 1927, 1931, 1935, 1939, 1943, 1947, 1951, 1955, 1959, 1963, 1967, 1971, 1975, 1979, 1983, 1987, 1991, 1995, 1999]\n",
      "\n",
      "Total Deret dengan Iterarif :  500500\n",
      "Total Deret dengan Recursive :  500500\n"
     ]
    }
   ],
   "source": [
    "# 2 Implementasi #1\n",
    "\n",
    "def deretAritmatika(a,b,n):\n",
    "    hasil = []\n",
    "    for i in range(a,a+n*b,b):\n",
    "        hasil.append(i)\n",
    "    return hasil\n",
    "\n",
    "def sumIteratif(listData):\n",
    "    hasil=0\n",
    "    for i in listData:\n",
    "        hasil+=i\n",
    "    return hasil\n",
    "\n",
    "def sumRecursive(listData):\n",
    "    if len(listData) == 1:\n",
    "        return listData[0]\n",
    "    else:\n",
    "        return listData[0] + sumRecursive(listData[1:])\n",
    "\n",
    "deret = deretAritmatika(3,4,500)\n",
    "print('List Deret Aritmatika : \\n',deret)\n",
    "print()\n",
    "jumlahDeret = sumIteratif(deret)\n",
    "print('Total Deret dengan Iterarif : ',jumlahDeret)\n",
    "jumlahDeret2 = sumRecursive(deret)\n",
    "print('Total Deret dengan Recursive : ',jumlahDeret2)"
   ]
  },
  {
   "cell_type": "markdown",
   "id": "91163b9b",
   "metadata": {},
   "source": [
    "## 3\tImplementasi #2\n",
    "Buatlah suatu list yang memiliki 500 bilangan secara acak. Buatlah fungsi-fungsi berikut ini\n",
    "1.\tBuatlah fungsi iteratif untuk mencari nilai minimal atau maksimal dari suatu list (tambahkan parameter min atau maks untuk mencari nilai minimal atau maksimal)\n",
    "2.\tBuatlah fungsi rekursif untuk mencari nilai minimal maksimal dari suatu list (tambahkan parametermin atau maks untuk mencari nilai minimal atau maksimal)\n"
   ]
  },
  {
   "cell_type": "code",
   "execution_count": 11,
   "id": "c775fe04",
   "metadata": {
    "scrolled": false
   },
   "outputs": [
    {
     "name": "stdout",
     "output_type": "stream",
     "text": [
      "List Acak :\n",
      " [299, 910, 732, 341, 736, 995, 213, 99, 729, 406, 766, 668, 772, 758, 457, 739, 969, 114, 449, 759, 818, 475, 134, 302, 990, 36, 198, 822, 224, 53, 540, 289, 206, 852, 891, 695, 119, 572, 87, 369, 440, 197, 637, 658, 148, 339, 125, 384, 125, 917, 309, 390, 846, 277, 627, 876, 381, 881, 356, 104, 529, 568, 305, 247, 627, 501, 644, 539, 811, 597, 427, 554, 832, 140, 664, 704, 507, 125, 361, 50, 12, 992, 105, 425, 480, 621, 814, 309, 928, 876, 639, 550, 959, 734, 90, 218, 354, 890, 392, 610, 470, 287, 919, 910, 727, 636, 357, 73, 496, 709, 186, 224, 579, 291, 257, 854, 2, 324, 895, 393, 305, 294, 648, 171, 766, 110, 86, 967, 415, 304, 537, 489, 575, 288, 515, 992, 876, 849, 710, 916, 547, 564, 939, 833, 593, 529, 682, 21, 257, 361, 159, 963, 393, 621, 782, 987, 922, 802, 846, 703, 360, 896, 368, 421, 648, 511, 187, 71, 685, 421, 961, 173, 375, 902, 441, 490, 344, 489, 734, 139, 161, 660, 862, 583, 766, 832, 868, 824, 619, 354, 783, 868, 296, 118, 41, 691, 663, 102, 943, 400, 841, 754, 362, 352, 511, 273, 938, 542, 34, 483, 416, 356, 436, 506, 487, 92, 998, 486, 792, 923, 81, 503, 918, 220, 595, 751, 31, 402, 767, 215, 584, 177, 298, 382, 758, 657, 244, 157, 911, 637, 814, 945, 527, 989, 934, 967, 659, 93, 571, 32, 457, 47, 771, 634, 464, 719, 253, 805, 190, 441, 964, 602, 661, 869, 335, 86, 178, 769, 873, 948, 734, 365, 542, 75, 889, 176, 331, 968, 128, 92, 623, 689, 692, 255, 91, 961, 698, 776, 532, 975, 626, 120, 547, 716, 229, 451, 654, 487, 11, 479, 556, 457, 302, 947, 146, 538, 35, 456, 944, 278, 220, 774, 83, 777, 727, 920, 989, 578, 371, 699, 392, 484, 592, 377, 52, 778, 313, 981, 162, 698, 992, 11, 968, 472, 811, 670, 828, 945, 928, 138, 609, 621, 96, 936, 38, 396, 17, 455, 357, 424, 398, 708, 973, 327, 493, 606, 47, 143, 163, 179, 997, 862, 338, 142, 776, 777, 695, 598, 532, 887, 762, 665, 74, 734, 495, 17, 563, 92, 457, 325, 917, 365, 449, 513, 390, 222, 411, 530, 714, 119, 57, 691, 246, 269, 945, 289, 94, 485, 474, 604, 823, 309, 767, 849, 998, 705, 188, 48, 487, 776, 857, 284, 84, 424, 832, 895, 58, 870, 324, 585, 877, 406, 288, 532, 320, 116, 444, 556, 810, 814, 618, 37, 862, 302, 190, 569, 996, 983, 243, 61, 807, 227, 276, 272, 443, 781, 252, 582, 297, 38, 184, 298, 48, 792, 970, 41, 345, 885, 22, 814, 645, 844, 419, 430, 387, 862, 310, 60, 252, 707, 603, 374, 869, 32, 497, 75, 273, 494, 517, 316, 785, 90, 741, 165, 45, 302, 898, 465, 224, 782, 500, 846, 596, 708, 273, 155, 857, 48, 248, 53]\n",
      "\n",
      "Mengunakan Iteratif : \n",
      "Minimal dari list  =  2 \n",
      "Maksimal dari list =  998\n",
      "Mengunakan Recursive : \n",
      "Minimal dari list  =  2 \n",
      "Maksimal dari list =  998\n"
     ]
    }
   ],
   "source": [
    "# 2 Implementasi #2\n",
    "\n",
    "import random as rd\n",
    "def listAcak(size):\n",
    "    data = []\n",
    "    for i in range(size):\n",
    "        data.append(rd.randint(0,999))\n",
    "    return data\n",
    "\n",
    "def minMaxIteratif(data,find):\n",
    "    if find == 'maksimal':\n",
    "        maks = data[0]\n",
    "        for i in data:\n",
    "            if maks < i :\n",
    "                maks=i\n",
    "        return maks\n",
    "    \n",
    "    elif find == 'minimal':\n",
    "        mins = data[0]\n",
    "        for j in data:\n",
    "            if mins > j :\n",
    "                mins=j\n",
    "        return mins\n",
    "    \n",
    "    else:\n",
    "        return 'Parameter Salah'\n",
    "    \n",
    "def minMaxRecursive(data,find):\n",
    "    if find == 'maksimal':\n",
    "        if len(data) ==  1:\n",
    "            return data[0]\n",
    "        else:\n",
    "            maks = minMaxRecursive(data[1:],find)\n",
    "            if data[0] > maks :\n",
    "                return data[0]\n",
    "            else:\n",
    "                return maks\n",
    "            \n",
    "    if find == 'minimal':\n",
    "        if len(data) ==  1:\n",
    "            return data[0]\n",
    "        else:\n",
    "            mins = minMaxRecursive(data[1:],find)\n",
    "            if data[0] < mins :\n",
    "                return data[0]\n",
    "            else:\n",
    "                return mins\n",
    "    else :\n",
    "        return 'Parameter Salah'\n",
    "    \n",
    "data = listAcak(500)\n",
    "print('List Acak :\\n',data)\n",
    "print()\n",
    "minList = minMaxIteratif(data,'minimal')\n",
    "maxList = minMaxIteratif(data,'maksimal')\n",
    "print('Mengunakan Iteratif :','\\nMinimal dari list  = ',minList,'\\nMaksimal dari list = ',maxList)\n",
    "minList1 = minMaxRecursive(data,'minimal')\n",
    "maxList1 = minMaxRecursive(data,'maksimal')\n",
    "print('Mengunakan Recursive :','\\nMinimal dari list  = ',minList1,'\\nMaksimal dari list = ',maxList1)"
   ]
  }
 ],
 "metadata": {
  "kernelspec": {
   "display_name": "Python 3 (ipykernel)",
   "language": "python",
   "name": "python3"
  },
  "language_info": {
   "codemirror_mode": {
    "name": "ipython",
    "version": 3
   },
   "file_extension": ".py",
   "mimetype": "text/x-python",
   "name": "python",
   "nbconvert_exporter": "python",
   "pygments_lexer": "ipython3",
   "version": "3.9.12"
  }
 },
 "nbformat": 4,
 "nbformat_minor": 5
}
