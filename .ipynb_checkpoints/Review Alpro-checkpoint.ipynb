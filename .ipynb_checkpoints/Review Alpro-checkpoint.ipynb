{
 "cells": [
  {
   "cell_type": "markdown",
   "id": "0b9455b7",
   "metadata": {},
   "source": [
    "### Sruktur Data"
   ]
  },
  {
   "cell_type": "markdown",
   "id": "43c5474e",
   "metadata": {},
   "source": [
    "karena di dalam list terdapat data yang berbeda beda sehingga kalau di tambah di gabungkan"
   ]
  },
  {
   "cell_type": "code",
   "execution_count": 26,
   "id": "d798f574",
   "metadata": {},
   "outputs": [],
   "source": [
    "def prima(n):\n",
    "    temp=0\n",
    "    for i in range(1,n+1):\n",
    "        if n%i==0:\n",
    "            temp+=1\n",
    "    if temp==2:\n",
    "        return True \n",
    "    else:\n",
    "        return False\n",
    "\n",
    "def cekganjil(bil):\n",
    "    if bil%2==1:\n",
    "        return True\n",
    "    else:\n",
    "        return False"
   ]
  },
  {
   "cell_type": "code",
   "execution_count": 27,
   "id": "e50c0b9a",
   "metadata": {},
   "outputs": [
    {
     "name": "stdout",
     "output_type": "stream",
     "text": [
      "True\n"
     ]
    }
   ],
   "source": [
    "print(prima(7))"
   ]
  },
  {
   "cell_type": "code",
   "execution_count": 28,
   "id": "12c880ed",
   "metadata": {},
   "outputs": [
    {
     "name": "stdout",
     "output_type": "stream",
     "text": [
      "True\n"
     ]
    }
   ],
   "source": [
    "print(cekganjil(1))"
   ]
  },
  {
   "cell_type": "code",
   "execution_count": 29,
   "id": "f0193287",
   "metadata": {},
   "outputs": [
    {
     "name": "stdout",
     "output_type": "stream",
     "text": [
      "False\n"
     ]
    }
   ],
   "source": [
    "print(cekganjil(2))"
   ]
  },
  {
   "cell_type": "code",
   "execution_count": 26,
   "id": "dadb23ad",
   "metadata": {},
   "outputs": [
    {
     "name": "stdout",
     "output_type": "stream",
     "text": [
      "84\n"
     ]
    }
   ],
   "source": [
    "def sigma1(n):\n",
    "    result=0\n",
    "    for i in range(1,n+1):\n",
    "        result+=(4*i)\n",
    "    return result\n",
    "print(sigma1(6))"
   ]
  },
  {
   "cell_type": "code",
   "execution_count": 28,
   "id": "a91b8406",
   "metadata": {},
   "outputs": [
    {
     "name": "stdout",
     "output_type": "stream",
     "text": [
      "56\n"
     ]
    }
   ],
   "source": [
    "def sigma2(n):\n",
    "    hasil=0\n",
    "    for i in range(1,n+1):\n",
    "        hasil+=(i**2)\n",
    "    return 4*hasil\n",
    "print(sigma2(3))"
   ]
  },
  {
   "cell_type": "code",
   "execution_count": 46,
   "id": "9c66cb3e",
   "metadata": {},
   "outputs": [
    {
     "name": "stdout",
     "output_type": "stream",
     "text": [
      "2.0\n"
     ]
    }
   ],
   "source": [
    "def sigma3(x):\n",
    "    fx = [j if j>=10 else 0 for j in x ]\n",
    "    hasil = 0\n",
    "    for k in fx:\n",
    "        hasil+=k\n",
    "    return hasil/len(x)\n",
    "print(sigma3([4,7,8,1,10]))"
   ]
  },
  {
   "cell_type": "code",
   "execution_count": 47,
   "id": "73c5a3f0",
   "metadata": {},
   "outputs": [
    {
     "name": "stdout",
     "output_type": "stream",
     "text": [
      "2.0\n"
     ]
    }
   ],
   "source": [
    "# cara 2\n",
    "def w(x):\n",
    "    if x >= 10:\n",
    "        return 1\n",
    "    else:\n",
    "        return 0\n",
    "def f(xList):\n",
    "    result=0\n",
    "    for i in xList :\n",
    "        result+= (i*w(i))\n",
    "    return result/len(xList)\n",
    "print(f([4,7,8,1,10]))"
   ]
  },
  {
   "cell_type": "code",
   "execution_count": 53,
   "id": "22298446",
   "metadata": {},
   "outputs": [
    {
     "name": "stdout",
     "output_type": "stream",
     "text": [
      "29\n"
     ]
    }
   ],
   "source": [
    "def sigma2D(list2D):\n",
    "    n=len(list2D)\n",
    "    m=len(list2D[0])\n",
    "    count=0\n",
    "    for i in range(n):\n",
    "        for j in range(m):\n",
    "            count+=list2D[i][j]\n",
    "    return count\n",
    "\n",
    "print(sigma2D([[7,4],[5,4],[3,6]]))"
   ]
  },
  {
   "cell_type": "code",
   "execution_count": 2,
   "id": "86ae6629",
   "metadata": {},
   "outputs": [
    {
     "data": {
      "text/plain": [
       "[6, 8, 10]"
      ]
     },
     "execution_count": 2,
     "metadata": {},
     "output_type": "execute_result"
    }
   ],
   "source": [
    "def createList(n):\n",
    "    evenList = [i for i in range(n,n*2) if i%2==0]\n",
    "    return evenList\n",
    "\n",
    "createList(6)"
   ]
  },
  {
   "cell_type": "code",
   "execution_count": 4,
   "id": "4095c910",
   "metadata": {},
   "outputs": [
    {
     "data": {
      "text/plain": [
       "[1, 2, 3, 6]"
      ]
     },
     "execution_count": 4,
     "metadata": {},
     "output_type": "execute_result"
    }
   ],
   "source": [
    "def faktorPembagi(bil):\n",
    "    listPembagi = [ i for i in range (1,bil+1) if bil%i == 0]\n",
    "    return listPembagi\n",
    "faktorPembagi(6)"
   ]
  },
  {
   "cell_type": "code",
   "execution_count": 8,
   "id": "bb967ae1",
   "metadata": {},
   "outputs": [
    {
     "data": {
      "text/plain": [
       "[0, 3, 4, 9, 8, 15]"
      ]
     },
     "execution_count": 8,
     "metadata": {},
     "output_type": "execute_result"
    }
   ],
   "source": [
    "def createList2(num):\n",
    "    W = [i*2 if i%2==0 else 3*i for i in range(num) ]\n",
    "    return W\n",
    "createList2(6)"
   ]
  }
 ],
 "metadata": {
  "kernelspec": {
   "display_name": "Python 3 (ipykernel)",
   "language": "python",
   "name": "python3"
  },
  "language_info": {
   "codemirror_mode": {
    "name": "ipython",
    "version": 3
   },
   "file_extension": ".py",
   "mimetype": "text/x-python",
   "name": "python",
   "nbconvert_exporter": "python",
   "pygments_lexer": "ipython3",
   "version": "3.9.12"
  }
 },
 "nbformat": 4,
 "nbformat_minor": 5
}
