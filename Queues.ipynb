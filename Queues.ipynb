{
 "cells": [
  {
   "cell_type": "code",
   "execution_count": 6,
   "id": "108ff0e0",
   "metadata": {},
   "outputs": [],
   "source": [
    "def createQueue():\n",
    "    q=[]\n",
    "    return q\n",
    "def enqueue(q,data):\n",
    "    q.insert(0,data)\n",
    "    return(q)\n",
    "def dequeue(q):\n",
    "    data=q.pop()\n",
    "    return(data)\n",
    "def isEmpty(q):\n",
    "    return (q==[])\n",
    "def size(q):\n",
    "    return (len(q))"
   ]
  },
  {
   "cell_type": "code",
   "execution_count": 2,
   "id": "5e36775d",
   "metadata": {},
   "outputs": [
    {
     "name": "stdout",
     "output_type": "stream",
     "text": [
      "['pemrogramman web', 'bahasa inggris', 'struktur data', 'matematika']\n"
     ]
    }
   ],
   "source": [
    "q =  createQueue()\n",
    "enqueue(q,'matematika')\n",
    "enqueue(q,'struktur data')\n",
    "enqueue(q,'bahasa inggris')\n",
    "enqueue(q,'pemrogramman web')\n",
    "print(q)"
   ]
  },
  {
   "cell_type": "code",
   "execution_count": 3,
   "id": "88fe23be",
   "metadata": {},
   "outputs": [
    {
     "name": "stdout",
     "output_type": "stream",
     "text": [
      "['pemrogramman web', 'bahasa inggris', 'struktur data', 'matematika']\n",
      "['pemrogramman web', 'bahasa inggris', 'struktur data']\n",
      "matematika\n"
     ]
    }
   ],
   "source": [
    "print(q)\n",
    "temp = dequeue(q)\n",
    "print(q)\n",
    "print(temp)"
   ]
  },
  {
   "cell_type": "code",
   "execution_count": 1,
   "id": "df9a62e7",
   "metadata": {},
   "outputs": [
    {
     "ename": "NameError",
     "evalue": "name 'q' is not defined",
     "output_type": "error",
     "traceback": [
      "\u001b[1;31m---------------------------------------------------------------------------\u001b[0m",
      "\u001b[1;31mNameError\u001b[0m                                 Traceback (most recent call last)",
      "Input \u001b[1;32mIn [1]\u001b[0m, in \u001b[0;36m<cell line: 1>\u001b[1;34m()\u001b[0m\n\u001b[1;32m----> 1\u001b[0m \u001b[38;5;28mprint\u001b[39m(\u001b[43mq\u001b[49m)\n\u001b[0;32m      2\u001b[0m enqueue(q,dequeue(q))\n\u001b[0;32m      3\u001b[0m \u001b[38;5;28mprint\u001b[39m(q)\n",
      "\u001b[1;31mNameError\u001b[0m: name 'q' is not defined"
     ]
    }
   ],
   "source": [
    "print(q)\n",
    "enqueue(q,dequeue(q))\n",
    "print(q)"
   ]
  },
  {
   "cell_type": "code",
   "execution_count": null,
   "id": "384fc659",
   "metadata": {},
   "outputs": [],
   "source": [
    "a=dequeue(q)\n",
    "print(a,q)"
   ]
  },
  {
   "cell_type": "code",
   "execution_count": null,
   "id": "171b0b12",
   "metadata": {},
   "outputs": [],
   "source": [
    "enqueue(q,'new')"
   ]
  },
  {
   "cell_type": "code",
   "execution_count": null,
   "id": "f8ce28b7",
   "metadata": {},
   "outputs": [],
   "source": [
    "isEmpty(q)"
   ]
  },
  {
   "cell_type": "code",
   "execution_count": null,
   "id": "b17ff2ee",
   "metadata": {},
   "outputs": [],
   "source": [
    "size(q)"
   ]
  },
  {
   "cell_type": "code",
   "execution_count": 7,
   "id": "e97a50ef",
   "metadata": {},
   "outputs": [],
   "source": [
    "def ularNaga(nama, hitungan):\n",
    "    gameQueue = createQueue()\n",
    "    for namaAnak in nama:\n",
    "        enqueue(gameQueue,namaAnak)\n",
    "    print('Peserta Permainan=',gameQueue)\n",
    "    while size(gameQueue) > 1:\n",
    "        for i in range(hitungan):\n",
    "            enqueue(gameQueue,dequeue(gameQueue))\n",
    "            print('hitungan ke-',i+1,'=',gameQueue)\n",
    "        dequeue(gameQueue)\n",
    "        print('Peserta Permainan=',gameQueue)\n",
    "    return dequeue(gameQueue)"
   ]
  },
  {
   "cell_type": "code",
   "execution_count": null,
   "id": "9c672b01",
   "metadata": {},
   "outputs": [],
   "source": [
    "ularNaga(['a','b','c','d','e','f','g'],2)"
   ]
  },
  {
   "cell_type": "markdown",
   "id": "ddcf312b",
   "metadata": {},
   "source": [
    "# Scheduling - Queue"
   ]
  },
  {
   "cell_type": "code",
   "execution_count": 3,
   "id": "817b48cf",
   "metadata": {},
   "outputs": [],
   "source": [
    "def inputTask(numOfTask):\n",
    "    task={}\n",
    "    for i in range(numOfTask):\n",
    "        nama = input(\"Nama task = \")\n",
    "        waktu = int(input('Waktu Task  = '))\n",
    "        task[nama]=[waktu,0]\n",
    "    return task\n"
   ]
  },
  {
   "cell_type": "code",
   "execution_count": 1,
   "id": "da7c4428",
   "metadata": {},
   "outputs": [],
   "source": [
    "def scheduling(limitTime,task):\n",
    "    taskQueue = createQueue()\n",
    "    for nama in task.keys():\n",
    "        enqueue(taskQueue,nama)\n",
    "        print(taskQueue,'--------taskQueue')\n",
    "    total = 0\n",
    "    print(taskQueue)\n",
    "    while not isEmpty(taskQueue):\n",
    "        temp = dequeue(taskQueue)\n",
    "        remainTime=task[temp][0]-limitTime\n",
    "        print(temp,'-----------temp')\n",
    "        print(remainTime,'----------remain')\n",
    "        \n",
    "        if remainTime > 0 :\n",
    "            enqueue(taskQueue,temp)\n",
    "            procTime = limitTime\n",
    "        else :\n",
    "            procTime = task[temp][0]\n",
    "            remainTime = 0\n",
    "        \n",
    "        print(procTime,'---------ProcTime')\n",
    "        total+=procTime\n",
    "        task[temp][0] = remainTime\n",
    "        task[temp][1] = total\n",
    "        print(remainTime,\"---\",total)\n",
    "        print(task)\n",
    "        print(taskQueue)\n",
    "        \n",
    "    return task"
   ]
  },
  {
   "cell_type": "code",
   "execution_count": 7,
   "id": "7bdb2afa",
   "metadata": {},
   "outputs": [
    {
     "name": "stdout",
     "output_type": "stream",
     "text": [
      "Nama task = q4\n",
      "Waktu Task  = 7\n",
      "Nama task = e\n",
      "Waktu Task  = 5\n",
      "Nama task = e\n",
      "Waktu Task  = 8\n",
      "{'q4': [7, 0], 'e': [8, 0]}\n",
      "['q4'] --------taskQueue\n",
      "['e', 'q4'] --------taskQueue\n",
      "['e', 'q4']\n",
      "q4 -----------temp\n",
      "4 ----------remain\n",
      "3 ---------ProcTime\n",
      "4 --- 3\n",
      "{'q4': [4, 3], 'e': [8, 0]}\n",
      "['q4', 'e']\n",
      "e -----------temp\n",
      "5 ----------remain\n",
      "3 ---------ProcTime\n",
      "5 --- 6\n",
      "{'q4': [4, 3], 'e': [5, 6]}\n",
      "['e', 'q4']\n",
      "q4 -----------temp\n",
      "1 ----------remain\n",
      "3 ---------ProcTime\n",
      "1 --- 9\n",
      "{'q4': [1, 9], 'e': [5, 6]}\n",
      "['q4', 'e']\n",
      "e -----------temp\n",
      "2 ----------remain\n",
      "3 ---------ProcTime\n",
      "2 --- 12\n",
      "{'q4': [1, 9], 'e': [2, 12]}\n",
      "['e', 'q4']\n",
      "q4 -----------temp\n",
      "-2 ----------remain\n",
      "1 ---------ProcTime\n",
      "0 --- 13\n",
      "{'q4': [0, 13], 'e': [2, 12]}\n",
      "['e']\n",
      "e -----------temp\n",
      "-1 ----------remain\n",
      "2 ---------ProcTime\n",
      "0 --- 15\n",
      "{'q4': [0, 13], 'e': [0, 15]}\n",
      "[]\n",
      "{'q4': [0, 13], 'e': [0, 15]}\n"
     ]
    }
   ],
   "source": [
    "task  = inputTask(3)\n",
    "print(task)\n",
    "sch = scheduling(3,task)\n",
    "print(sch)"
   ]
  }
 ],
 "metadata": {
  "kernelspec": {
   "display_name": "Python 3 (ipykernel)",
   "language": "python",
   "name": "python3"
  },
  "language_info": {
   "codemirror_mode": {
    "name": "ipython",
    "version": 3
   },
   "file_extension": ".py",
   "mimetype": "text/x-python",
   "name": "python",
   "nbconvert_exporter": "python",
   "pygments_lexer": "ipython3",
   "version": "3.9.12"
  }
 },
 "nbformat": 4,
 "nbformat_minor": 5
}
