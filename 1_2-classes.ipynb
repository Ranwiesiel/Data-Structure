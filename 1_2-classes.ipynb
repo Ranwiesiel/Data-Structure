{
 "cells": [
  {
   "cell_type": "code",
   "execution_count": 1,
   "id": "af4fe42c",
   "metadata": {},
   "outputs": [
    {
     "name": "stdout",
     "output_type": "stream",
     "text": [
      "Struktur Data\n",
      "STRUKTUR DATA\n",
      "[4, 10, 21]\n",
      "[4, 10, 21, 45]\n"
     ]
    }
   ],
   "source": [
    "# String\n",
    "\n",
    "dataStr = 'Struktur Data'\n",
    "print(dataStr)\n",
    "dataStr= dataStr.upper() #capitalize(), lower(), find(), dll\n",
    "print(dataStr)\n",
    "\n",
    "# Lists , dict\n",
    "\n",
    "dataLs = [4,10,21]\n",
    "print(dataLs)\n",
    "dataLs.append(45) #pop(), insert(), clear(), reverse(), dll\n",
    "print(dataLs)\n",
    "\n",
    "# no object : int,bool,float"
   ]
  },
  {
   "cell_type": "markdown",
   "id": "ef0a29f2",
   "metadata": {},
   "source": [
    "~~~python\n",
    "def __init__(): #constructor\n",
    "    def namaMethod(): #method\n",
    "    ...\n",
    "~~~"
   ]
  },
  {
   "cell_type": "code",
   "execution_count": 2,
   "id": "d54bf251",
   "metadata": {},
   "outputs": [
    {
     "data": {
      "text/plain": [
       "__main__.BilanganKompleks"
      ]
     },
     "execution_count": 2,
     "metadata": {},
     "output_type": "execute_result"
    }
   ],
   "source": [
    "class BilanganKompleks:\n",
    "    def __init__(self,a,b): #constructor\n",
    "        self.real = a\n",
    "        self.im = b\n",
    "        \n",
    "data = BilanganKompleks(4,6)\n",
    "type(data)"
   ]
  },
  {
   "cell_type": "code",
   "execution_count": 54,
   "id": "2918e0f9",
   "metadata": {},
   "outputs": [],
   "source": [
    "class Pecahan:\n",
    "    # nilai -> property,state,atribut\n",
    "    # activity -> function, mathod\n",
    "    #pembilang dan penyebut\n",
    "    \n",
    "    def __init__(self,a,b): #constructor\n",
    "        self.pembilang = a\n",
    "        self.penyebut = b\n",
    "#         print('constructor')\n",
    "        \n",
    "    def display(self):\n",
    "        print(self.pembilang,'/',self.penyebut)\n",
    "        \n",
    "#     def perkalianSkalar(self,n):\n",
    "#         self.pembilang = self.pembilang*n\n",
    "        \n",
    "    def multiSkalar(self,n):\n",
    "        temp = self.pembilang*n\n",
    "        return Pecahan(temp,self.penyebut)\n",
    "    \n",
    "    def pertambahan(self,pecahan):\n",
    "        temp = self.penyebut * pecahan.penyebut\n",
    "        self.penyebut = temp\n",
    "        self.pembilang = (self.pembilang*int(temp/self.penyebut)) + (pecahan.pembilang*int(temp/pecahan.penyebut))\n",
    "#         return Pecahan(pembilang,penyebut)\n",
    "    "
   ]
  },
  {
   "cell_type": "code",
   "execution_count": 4,
   "id": "718c119e",
   "metadata": {},
   "outputs": [
    {
     "name": "stdout",
     "output_type": "stream",
     "text": [
      "constructor\n"
     ]
    }
   ],
   "source": [
    "data1 = Pecahan(3,7) #instansiasi \n",
    "#data1 -> object, instance"
   ]
  },
  {
   "cell_type": "code",
   "execution_count": 5,
   "id": "baa2e482",
   "metadata": {},
   "outputs": [
    {
     "name": "stdout",
     "output_type": "stream",
     "text": [
      "3 7\n",
      "3 / 7\n"
     ]
    }
   ],
   "source": [
    "print(data1.pembilang,data1.penyebut)\n",
    "data1.display()"
   ]
  },
  {
   "cell_type": "code",
   "execution_count": 6,
   "id": "b86193c7",
   "metadata": {},
   "outputs": [
    {
     "name": "stdout",
     "output_type": "stream",
     "text": [
      "24 / 7\n"
     ]
    }
   ],
   "source": [
    "data1.perkalianSkalar(8)\n",
    "data1.display()"
   ]
  },
  {
   "cell_type": "code",
   "execution_count": 7,
   "id": "dd85a59d",
   "metadata": {},
   "outputs": [
    {
     "name": "stdout",
     "output_type": "stream",
     "text": [
      "constructor\n",
      "48 / 7\n",
      "24 / 7\n"
     ]
    }
   ],
   "source": [
    "data1.multiSkalar(2).display()\n",
    "data1.display()"
   ]
  },
  {
   "cell_type": "code",
   "execution_count": 55,
   "id": "c99f892a",
   "metadata": {},
   "outputs": [
    {
     "name": "stdout",
     "output_type": "stream",
     "text": [
      "1 / 2\n",
      "1 / 3\n",
      "3 / 6\n"
     ]
    }
   ],
   "source": [
    "data2 = Pecahan(1,2)\n",
    "data2.display()\n",
    "data3 = Pecahan(1,3)\n",
    "data3.display()\n",
    "data2.pertambahan(data3)\n",
    "data2.display()"
   ]
  },
  {
   "cell_type": "code",
   "execution_count": null,
   "id": "4bf2bd2d",
   "metadata": {},
   "outputs": [],
   "source": [
    "# perkalian pecahan \n",
    "# pembagian pecahan\n",
    "# pengurangan pecahan \n",
    "# lebih kecilkan clue fpb"
   ]
  }
 ],
 "metadata": {
  "kernelspec": {
   "display_name": "Python 3 (ipykernel)",
   "language": "python",
   "name": "python3"
  },
  "language_info": {
   "codemirror_mode": {
    "name": "ipython",
    "version": 3
   },
   "file_extension": ".py",
   "mimetype": "text/x-python",
   "name": "python",
   "nbconvert_exporter": "python",
   "pygments_lexer": "ipython3",
   "version": "3.9.12"
  }
 },
 "nbformat": 4,
 "nbformat_minor": 5
}
