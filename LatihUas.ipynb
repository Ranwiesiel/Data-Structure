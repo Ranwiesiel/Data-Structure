{
 "cells": [
  {
   "cell_type": "markdown",
   "id": "ca230ab4",
   "metadata": {},
   "source": [
    "## Stack"
   ]
  },
  {
   "cell_type": "code",
   "execution_count": 4,
   "id": "d3b4123b",
   "metadata": {},
   "outputs": [],
   "source": [
    "def stack():\n",
    "    return []\n",
    "def push(st,data):\n",
    "    st.append(data)\n",
    "def pop(st):\n",
    "    return st.pop()\n",
    "def size(st):\n",
    "    return len(st)\n",
    "def isEmpty(st):\n",
    "    return st == []\n",
    "def peek(st):\n",
    "    return st[-1]"
   ]
  },
  {
   "cell_type": "code",
   "execution_count": 7,
   "id": "00ebbbf7",
   "metadata": {},
   "outputs": [
    {
     "data": {
      "text/plain": [
       "'1001'"
      ]
     },
     "execution_count": 7,
     "metadata": {},
     "output_type": "execute_result"
    }
   ],
   "source": [
    "def convertBin(des):\n",
    "    bnr = stack()\n",
    "    while des != 0 :\n",
    "        push(bnr,des%2)\n",
    "        des //= 2\n",
    "    temp=''\n",
    "    for i in range(size(bnr)) :\n",
    "        temp+=str(pop(bnr))\n",
    "    return temp\n",
    "convertBin(9)"
   ]
  },
  {
   "cell_type": "code",
   "execution_count": 9,
   "id": "ea8c9145",
   "metadata": {},
   "outputs": [
    {
     "data": {
      "text/plain": [
       "'uka'"
      ]
     },
     "execution_count": 9,
     "metadata": {},
     "output_type": "execute_result"
    }
   ],
   "source": [
    "def reverseWord(word):\n",
    "    temp = stack()\n",
    "    for  i in word :\n",
    "        push(temp,i)\n",
    "    hasil = ''\n",
    "    for i in range(size(temp)):\n",
    "        hasil += pop(temp)\n",
    "    return hasil\n",
    "      \n",
    "reverseWord('aku')"
   ]
  },
  {
   "cell_type": "code",
   "execution_count": null,
   "id": "1bc33ba1",
   "metadata": {},
   "outputs": [],
   "source": []
  },
  {
   "cell_type": "code",
   "execution_count": null,
   "id": "8c1aec2e",
   "metadata": {},
   "outputs": [],
   "source": []
  },
  {
   "cell_type": "code",
   "execution_count": null,
   "id": "37714f77",
   "metadata": {},
   "outputs": [],
   "source": []
  }
 ],
 "metadata": {
  "kernelspec": {
   "display_name": "Python 3 (ipykernel)",
   "language": "python",
   "name": "python3"
  },
  "language_info": {
   "codemirror_mode": {
    "name": "ipython",
    "version": 3
   },
   "file_extension": ".py",
   "mimetype": "text/x-python",
   "name": "python",
   "nbconvert_exporter": "python",
   "pygments_lexer": "ipython3",
   "version": "3.9.12"
  }
 },
 "nbformat": 4,
 "nbformat_minor": 5
}
