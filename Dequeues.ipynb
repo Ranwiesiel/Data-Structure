{
 "cells": [
  {
   "cell_type": "code",
   "execution_count": 1,
   "id": "034ebefc",
   "metadata": {},
   "outputs": [],
   "source": [
    "def createDeque():\n",
    "    d=[]\n",
    "    return d\n",
    "def addFront(d,data):\n",
    "    d.insert(0,data)\n",
    "    return d\n",
    "def addRear(d,data):\n",
    "    d.append(data)\n",
    "    return d\n",
    "def removeRear(d):\n",
    "    data=d.pop()\n",
    "    return data\n",
    "def removeFront(d):\n",
    "    data=d.pop(0)\n",
    "    return data\n",
    "def isEmpty(d):\n",
    "    return d == []\n",
    "def size(d):\n",
    "    return len(d)"
   ]
  },
  {
   "cell_type": "code",
   "execution_count": 2,
   "id": "274b1d44",
   "metadata": {},
   "outputs": [],
   "source": [
    "deq = createDeque()"
   ]
  },
  {
   "cell_type": "code",
   "execution_count": 3,
   "id": "b125b3c2",
   "metadata": {},
   "outputs": [
    {
     "data": {
      "text/plain": [
       "['data', 'stuktur']"
      ]
     },
     "execution_count": 3,
     "metadata": {},
     "output_type": "execute_result"
    }
   ],
   "source": [
    "addFront(deq,'stuktur')\n",
    "addFront(deq,'data')"
   ]
  },
  {
   "cell_type": "code",
   "execution_count": 4,
   "id": "65fba958",
   "metadata": {},
   "outputs": [
    {
     "data": {
      "text/plain": [
       "['data', 'stuktur', '2022', '2030']"
      ]
     },
     "execution_count": 4,
     "metadata": {},
     "output_type": "execute_result"
    }
   ],
   "source": [
    "addRear(deq,'2022')\n",
    "addRear(deq,'2030')"
   ]
  },
  {
   "cell_type": "code",
   "execution_count": 5,
   "id": "5187c2cd",
   "metadata": {},
   "outputs": [
    {
     "data": {
      "text/plain": [
       "['data', 'stuktur', '2022', '2030', '100']"
      ]
     },
     "execution_count": 5,
     "metadata": {},
     "output_type": "execute_result"
    }
   ],
   "source": [
    "addRear(deq,'100')"
   ]
  },
  {
   "cell_type": "code",
   "execution_count": 6,
   "id": "77509c3a",
   "metadata": {},
   "outputs": [
    {
     "name": "stdout",
     "output_type": "stream",
     "text": [
      "data\n",
      "['stuktur', '2022', '2030', '100']\n"
     ]
    }
   ],
   "source": [
    "data = removeFront(deq)\n",
    "print(data)\n",
    "print(deq)"
   ]
  },
  {
   "cell_type": "code",
   "execution_count": 7,
   "id": "ee166cde",
   "metadata": {},
   "outputs": [
    {
     "name": "stdout",
     "output_type": "stream",
     "text": [
      "100\n",
      "['stuktur', '2022', '2030']\n"
     ]
    }
   ],
   "source": [
    "data = removeRear(deq)\n",
    "print(data)\n",
    "print(deq)"
   ]
  },
  {
   "cell_type": "code",
   "execution_count": 8,
   "id": "31457884",
   "metadata": {},
   "outputs": [
    {
     "data": {
      "text/plain": [
       "3"
      ]
     },
     "execution_count": 8,
     "metadata": {},
     "output_type": "execute_result"
    }
   ],
   "source": [
    "size(deq)"
   ]
  },
  {
   "cell_type": "code",
   "execution_count": 9,
   "id": "cb9df14e",
   "metadata": {},
   "outputs": [
    {
     "data": {
      "text/plain": [
       "False"
      ]
     },
     "execution_count": 9,
     "metadata": {},
     "output_type": "execute_result"
    }
   ],
   "source": [
    "isEmpty(deq)"
   ]
  },
  {
   "cell_type": "code",
   "execution_count": 10,
   "id": "5bf51859",
   "metadata": {},
   "outputs": [
    {
     "name": "stdout",
     "output_type": "stream",
     "text": [
      "['2022', '2030', 'stuktur']\n"
     ]
    }
   ],
   "source": [
    "addRear(deq,removeFront(deq))\n",
    "print(deq)"
   ]
  },
  {
   "cell_type": "code",
   "execution_count": 11,
   "id": "34ea6562",
   "metadata": {},
   "outputs": [
    {
     "data": {
      "text/plain": [
       "False"
      ]
     },
     "execution_count": 11,
     "metadata": {},
     "output_type": "execute_result"
    }
   ],
   "source": [
    "def cekPalindrom(string):\n",
    "    palindrom = createDeque()\n",
    "    for ch in string :\n",
    "        addRear(palindrom,ch)\n",
    "    cek=True\n",
    "    while size(palindrom) > 1 :\n",
    "        a = removeFront(palindrom)\n",
    "        b = removeRear(palindrom)\n",
    "        if a == b :\n",
    "            cek = cek and True\n",
    "        else:\n",
    "            cek = cek and False\n",
    "    return cek \n",
    "cekPalindrom('ARAl')\n",
    "        "
   ]
  }
 ],
 "metadata": {
  "kernelspec": {
   "display_name": "Python 3 (ipykernel)",
   "language": "python",
   "name": "python3"
  },
  "language_info": {
   "codemirror_mode": {
    "name": "ipython",
    "version": 3
   },
   "file_extension": ".py",
   "mimetype": "text/x-python",
   "name": "python",
   "nbconvert_exporter": "python",
   "pygments_lexer": "ipython3",
   "version": "3.9.12"
  }
 },
 "nbformat": 4,
 "nbformat_minor": 5
}
