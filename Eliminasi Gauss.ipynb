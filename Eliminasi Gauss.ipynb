{
 "cells": [
  {
   "cell_type": "code",
   "execution_count": 4,
   "id": "66b96586",
   "metadata": {},
   "outputs": [],
   "source": [
    "def gauss_jordan_elimination(matrix):\n",
    "    rows = len(matrix)\n",
    "    cols = len(matrix[0])\n",
    "\n",
    "    for col in range(cols - 1):\n",
    "        max_row = col\n",
    "        for i in range(col + 1, rows):\n",
    "            if abs(matrix[i][col]) > abs(matrix[max_row][col]):\n",
    "                max_row = i\n",
    "\n",
    "        matrix[col], matrix[max_row] = matrix[max_row], matrix[col]\n",
    "\n",
    "        for i in range(rows):\n",
    "            if i != col:\n",
    "                ratio = matrix[i][col] / matrix[col][col]\n",
    "                for j in range(cols):\n",
    "                    matrix[i][j] -= matrix[col][j] * ratio\n",
    "\n",
    "    for i in range(rows):\n",
    "        divisor = matrix[i][i]\n",
    "        for j in range(cols):\n",
    "            matrix[i][j] /= divisor\n",
    "\n",
    "    return matrix\n"
   ]
  },
  {
   "cell_type": "code",
   "execution_count": 5,
   "id": "ff87d74c",
   "metadata": {},
   "outputs": [
    {
     "name": "stdout",
     "output_type": "stream",
     "text": [
      "[1.0, -0.0, -0.0, 2.0000000000000004]\n",
      "[0.0, 1.0, 0.0, 3.0000000000000004]\n",
      "[0.0, 0.0, 1.0, -0.9999999999999999]\n"
     ]
    }
   ],
   "source": [
    "# Contoh matriks input\n",
    "matrix = [[2, 1, -1, 8],\n",
    "          [-3, -1, 2, -11],\n",
    "          [-2, 1, 2, -3]]\n",
    "\n",
    "result = gauss_jordan_elimination(matrix)\n",
    "\n",
    "# Menampilkan hasil\n",
    "for row in result:\n",
    "    print(row)\n"
   ]
  }
 ],
 "metadata": {
  "kernelspec": {
   "display_name": "Python 3 (ipykernel)",
   "language": "python",
   "name": "python3"
  },
  "language_info": {
   "codemirror_mode": {
    "name": "ipython",
    "version": 3
   },
   "file_extension": ".py",
   "mimetype": "text/x-python",
   "name": "python",
   "nbconvert_exporter": "python",
   "pygments_lexer": "ipython3",
   "version": "3.9.12"
  }
 },
 "nbformat": 4,
 "nbformat_minor": 5
}
